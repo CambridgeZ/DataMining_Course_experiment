{
 "cells": [
  {
   "cell_type": "code",
   "execution_count": 2,
   "metadata": {},
   "outputs": [],
   "source": [
    "# system lib\n",
    "from sklearn.metrics import accuracy_score,confusion_matrix,precision_score,recall_score\n",
    "from sklearn.svm import SVC, LinearSVC, NuSVC\n",
    "from sklearn import model_selection\n",
    "\n",
    "from sklearn.naive_bayes import GaussianNB\n",
    "from sklearn.ensemble import RandomForestClassifier  #随机森林\n",
    "from sklearn import tree\n",
    "\n",
    "#用于参数搜索\n",
    "from sklearn.model_selection import GridSearchCV\n",
    "\n",
    "from sklearn.metrics import classification_report\n",
    "\n",
    "from sklearn.metrics import roc_curve, auc #绘制ROC曲线\n",
    "import pylab as pl\n",
    "\n",
    "from time import time\n",
    "import datetime\n",
    "import numpy as np"
   ]
  },
  {
   "cell_type": "code",
   "execution_count": 3,
   "metadata": {},
   "outputs": [],
   "source": [
    "import pickle\n",
    "from sklearn.model_selection import cross_validate\n",
    "import pandas as pd"
   ]
  },
  {
   "cell_type": "code",
   "execution_count": 4,
   "metadata": {},
   "outputs": [],
   "source": [
    "def load_data(filename):\n",
    "    \"\"\"根据数据格式，读取数据中的X和分类标签y\n",
    "    \"\"\"\n",
    "\n",
    "    return x_data, ylabel\n",
    "\n",
    "def evaluate_classifier( real_label_list,predict_label_list):\n",
    "    \"\"\"\n",
    "       return Precision, Recall and ConfusionMatrix\n",
    "       Input : predict_label_list,real_label_list\n",
    "    \"\"\"\n",
    "    msg=''\n",
    "    Confusion_matrix = confusion_matrix( real_label_list,predict_label_list)\n",
    "    msg += '\\n Confusion Matrix\\n ' + str(Confusion_matrix)\n",
    "    precision = precision_score(real_label_list,predict_label_list, average=None)\n",
    "    recall = recall_score(real_label_list,predict_label_list, average=None)\n",
    "    msg += '\\n Precision of tag 0 and 1 =%s' %str(precision)\n",
    "    msg += '\\n Recall of tag 0 and 1 =%s' %str(recall)\n",
    "\n",
    "    return msg\n",
    "\n",
    "def test_svm(train_file, test_file):\n",
    "    \"\"\"用SVM分类 \"\"\"\n",
    "    # use SVM directly\n",
    "\n",
    "    train_xdata, train_ylabel = load_data(train_file)\n",
    "\n",
    "    test_xdata, test_ylabel = load_data(test_file)\n",
    "\n",
    "    print('\\nuse SVM directly')\n",
    "\n",
    "    #classifier1 = SVC(kernel='linear')\n",
    "    #classifier1 = SVC(kernel='linear',probability=True, C=200, cache_size=500)\n",
    "    classifier1 = SVC(kernel='linear',probability=True,C=10, cache_size=500)\n",
    "\n",
    "    classifier1.fit(train_xdata, train_ylabel)\n",
    "\n",
    "    predict_labels = classifier1.predict(test_xdata)\n",
    "    accuracy = accuracy_score(test_ylabel, predict_labels)\n",
    "    print(\"\\n The Classifier's Accuracy is : %f\" %accuracy)\n",
    "    #\n",
    "    eval_msg = evaluate_classifier(test_ylabel,predict_labels)\n",
    "    print(eval_msg)\n",
    "    #\n",
    "    #GridSearchCV搜索最优参数示例\n",
    "    print(\"GridSearchCV搜索最优参数......\")\n",
    "    t0 = time()\n",
    "    param_grid = {\n",
    "        \"C\": [1e3, 5e3, 1e4, 5e4, 1e5],\n",
    "        \"gamma\": [0.0001, 0.0005, 0.001, 0.005, 0.01, 0.1],\n",
    "    }\n",
    "    classifier1 = GridSearchCV(SVC(kernel=\"rbf\", class_weight=\"balanced\",probability=True), param_grid)\n",
    "    classifier1 = classifier1.fit(train_xdata, train_ylabel)\n",
    "    print(\"done in %0.3fs\" % (time() - t0))\n",
    "    print(\"Best estimator found by grid search:\")\n",
    "    print(classifier1.best_estimator_)\n",
    "\n",
    "\n",
    "    #对于SVM来说，概率是通过交叉验证得到的，与其预测的结果未必一致，对小数据集来说，此概率没什么意义\n",
    "    probas_ = classifier1.predict_proba(test_xdata)\n",
    "\n",
    "    #对于二分类问题，可为分类器绘制ROC曲线，计算AUC\n",
    "    # Compute ROC curve and area the curve\n",
    "    fpr, tpr, thresholds = roc_curve(test_ylabel, probas_[:, 1])\n",
    "    roc_auc = auc(fpr, tpr)\n",
    "    print(\"Area under the ROC curve : %f\" % roc_auc)\n",
    "\n",
    "    # Plot ROC curve\n",
    "    pl.clf()\n",
    "    pl.plot(fpr, tpr, label='ROC curve (area = %0.2f)' % roc_auc)\n",
    "    pl.plot([0, 1], [0, 1], 'k--')\n",
    "    pl.xlim([0.0, 1.0])\n",
    "    pl.ylim([0.0, 1.0])\n",
    "    pl.xlabel('False Positive Rate')\n",
    "    pl.ylabel('True Positive Rate')\n",
    "    pl.title('%s SVM ROC' %train_file)\n",
    "    pl.legend(loc=\"lower right\")\n",
    "    pl.show()\n"
   ]
  },
  {
   "cell_type": "code",
   "execution_count": 5,
   "metadata": {},
   "outputs": [],
   "source": [
    "data = pd.read_csv('preprocess_train.csv')"
   ]
  },
  {
   "cell_type": "code",
   "execution_count": 6,
   "metadata": {},
   "outputs": [],
   "source": [
    "# 使用平均数填充缺失值\n",
    "data = data.fillna(data.mean())"
   ]
  },
  {
   "cell_type": "code",
   "execution_count": 7,
   "metadata": {},
   "outputs": [
    {
     "name": "stdout",
     "output_type": "stream",
     "text": [
      "         sample_id     feature0       feature1     feature2     feature3  \\\n",
      "count  6296.000000  6296.000000    6296.000000  6296.000000  6296.000000   \n",
      "mean   3147.500000    63.748003  285239.586221     1.132154     1.177755   \n",
      "std    1817.642979    38.489715   72644.008774     0.320382     1.490461   \n",
      "min       0.000000   -34.739442 -575880.089809    -2.157527    -3.055975   \n",
      "25%    1573.750000    48.145602  288358.400000     1.102452     0.350584   \n",
      "50%    3147.500000    63.609268  288358.400000     1.105857     0.875418   \n",
      "75%    4721.250000    71.931683  288358.400000     1.110334     1.363743   \n",
      "max    6295.000000   463.739205  860586.441356     3.373289    14.456153   \n",
      "\n",
      "          feature4     feature5     feature6      feature7      feature8  ...  \\\n",
      "count  6296.000000  6296.000000  6296.000000  6.296000e+03  6.296000e+03  ...   \n",
      "mean    251.501641    11.553379     4.526707  8.634842e+10  8.238839e+04  ...   \n",
      "std     141.786644    12.995523    17.906249  6.430692e+11  7.998810e+05  ...   \n",
      "min    -105.668259   -27.202964   -42.635150 -1.863153e+12 -2.433073e+06  ...   \n",
      "25%     195.947084     4.951978    -4.786705 -2.112254e+11 -2.954428e+05  ...   \n",
      "50%     251.501641     8.989874     1.340014  8.634842e+10  8.238839e+04  ...   \n",
      "75%     282.928608    16.495440     8.551476  2.630847e+11  3.153294e+05  ...   \n",
      "max    1750.710973   143.507209   137.225908  5.675041e+12  7.268554e+06  ...   \n",
      "\n",
      "          feature98    feature99  feature100    feature101   feature102  \\\n",
      "count  6.296000e+03  6296.000000      6296.0  6.296000e+03  6296.000000   \n",
      "mean   1.471719e+05   239.531745         0.0  8.546478e+07   189.389530   \n",
      "std    1.511133e+05   129.892613         0.0  7.900435e+08   107.252029   \n",
      "min   -3.049222e+05  -101.315529         0.0 -2.135494e+09   -74.797618   \n",
      "25%    7.438403e+04   186.392435         0.0 -3.112179e+08   147.141485   \n",
      "50%    1.471719e+05   239.531745         0.0  9.938772e+06   189.389530   \n",
      "75%    1.882555e+05   269.581095         0.0  3.386299e+08   212.953277   \n",
      "max    1.708344e+06  1672.943583         0.0  6.622075e+09  1311.156301   \n",
      "\n",
      "        feature103   feature104   feature105   feature106        label  \n",
      "count  6296.000000  6296.000000  6296.000000  6296.000000  6296.000000  \n",
      "mean      1.390493     1.482161     8.319666   229.718098     1.287961  \n",
      "std       1.766472     1.860596    28.514726   124.152336     1.625498  \n",
      "min      -3.642160    -3.241167   -70.153338  -103.883245     0.000000  \n",
      "25%       0.397891     0.445678    -6.556875   178.892819     0.000000  \n",
      "50%       1.034942     1.118500     4.132591   229.718098     0.000000  \n",
      "75%       1.593508     1.690634    15.947341   261.178663     2.000000  \n",
      "max      16.981626    17.690674   235.975102  1602.451227     5.000000  \n",
      "\n",
      "[8 rows x 109 columns]\n"
     ]
    }
   ],
   "source": [
    "print(data.describe())"
   ]
  },
  {
   "cell_type": "code",
   "execution_count": 8,
   "metadata": {},
   "outputs": [],
   "source": [
    "from sklearn.model_selection import train_test_split\n",
    "from sklearn.preprocessing import StandardScaler"
   ]
  },
  {
   "cell_type": "code",
   "execution_count": 9,
   "metadata": {},
   "outputs": [],
   "source": [
    "# 分割特征和标签\n",
    "X = data.iloc[:, :-1]  # 特征\n",
    "y = data.iloc[:, -1]   # 标签\n",
    "\n",
    "# 划分训练集和测试集\n",
    "X_train, X_test, y_train, y_test = train_test_split(X, y, test_size=0.2, random_state=42)  # 可根据需求设置测试集比例和随机种子\n"
   ]
  },
  {
   "cell_type": "code",
   "execution_count": 10,
   "metadata": {},
   "outputs": [
    {
     "name": "stdout",
     "output_type": "stream",
     "text": [
      "sample_id     3.291326e+06\n",
      "feature0      1.524526e+03\n",
      "feature1      4.999518e+09\n",
      "feature2      1.057878e-01\n",
      "feature3      2.171464e+00\n",
      "                  ...     \n",
      "feature102    1.086364e+04\n",
      "feature103    3.220143e+00\n",
      "feature104    3.493834e+00\n",
      "feature105    8.062620e+02\n",
      "feature106    1.524351e+04\n",
      "Length: 108, dtype: float64\n"
     ]
    }
   ],
   "source": [
    "# 求出各个列的方差\n",
    "variances = X_train.var(axis=0)\n",
    "print(variances)"
   ]
  },
  {
   "cell_type": "code",
   "execution_count": 11,
   "metadata": {},
   "outputs": [
    {
     "name": "stdout",
     "output_type": "stream",
     "text": [
      "sample_id     3.291326e+06\n",
      "feature0      1.524526e+03\n",
      "feature1      4.999518e+09\n",
      "feature2      1.057878e-01\n",
      "feature3      2.171464e+00\n",
      "                  ...     \n",
      "feature102    1.086364e+04\n",
      "feature103    3.220143e+00\n",
      "feature104    3.493834e+00\n",
      "feature105    8.062620e+02\n",
      "feature106    1.524351e+04\n",
      "Length: 103, dtype: float64\n",
      "103\n"
     ]
    }
   ],
   "source": [
    "# 展示方差大于0.1的特征\n",
    "print(variances[variances > 0.1])\n",
    "#  输出个数\n",
    "print(len(variances[variances > 0.1]))"
   ]
  },
  {
   "cell_type": "code",
   "execution_count": 12,
   "metadata": {},
   "outputs": [],
   "source": [
    "# 选择方差大于0.1的特征\n",
    "X_train = X_train.loc[:, variances > 0.1]"
   ]
  },
  {
   "cell_type": "code",
   "execution_count": 13,
   "metadata": {},
   "outputs": [],
   "source": [
    "# 对于test集选择相同的特征\n",
    "X_test = X_test.loc[:, variances > 0.1]"
   ]
  },
  {
   "cell_type": "code",
   "execution_count": 14,
   "metadata": {},
   "outputs": [
    {
     "name": "stdout",
     "output_type": "stream",
     "text": [
      "X_train.shape: (5036, 103)\n",
      "X_test.shape: (1260, 103)\n"
     ]
    }
   ],
   "source": [
    "# 特征归一化\n",
    "scaler = StandardScaler()\n",
    "X_train = scaler.fit_transform(X_train) # 注意这里是fit_transform\n",
    "X_test = scaler.transform(X_test) # 注意这里是transform\n",
    "\n",
    "print('X_train.shape:', X_train.shape)\n",
    "print('X_test.shape:', X_test.shape)\n"
   ]
  },
  {
   "cell_type": "code",
   "execution_count": 15,
   "metadata": {},
   "outputs": [
    {
     "name": "stdout",
     "output_type": "stream",
     "text": [
      "X_train.shape: (5036, 103)\n",
      "X_test.shape: (1260, 103)\n"
     ]
    }
   ],
   "source": [
    "# 方差选择法数据预处理\n",
    "from sklearn.feature_selection import VarianceThreshold\n",
    "# 创建VarianceThreshold对象\n",
    "selector = VarianceThreshold(threshold=0.01)\n",
    "\n",
    "# 在训练集上拟合并应用特征选择\n",
    "X_train = selector.fit_transform(X_train)\n",
    "\n",
    "# 在测试集上应用相同的特征选择\n",
    "X_test = selector.transform(X_test)\n",
    "\n",
    "print('X_train.shape:', X_train.shape)\n",
    "print('X_test.shape:', X_test.shape)"
   ]
  },
  {
   "cell_type": "code",
   "execution_count": 16,
   "metadata": {},
   "outputs": [
    {
     "data": {
      "text/plain": [
       "SVC(C=10, cache_size=10000, kernel='linear', probability=True)"
      ]
     },
     "execution_count": 16,
     "metadata": {},
     "output_type": "execute_result"
    }
   ],
   "source": [
    "classifier1 = SVC(kernel='linear',probability=True,C=10, cache_size=10000)\n",
    "classifier1.fit(X_train, y_train)"
   ]
  },
  {
   "cell_type": "code",
   "execution_count": 17,
   "metadata": {},
   "outputs": [
    {
     "name": "stdout",
     "output_type": "stream",
     "text": [
      "\n",
      " The Classifier's Accuracy is : 0.800000\n",
      "\n",
      " The Classifier's f1score is : 0.761745\n"
     ]
    }
   ],
   "source": [
    "from sklearn.metrics import f1_score\n",
    "\n",
    "predict_labels = classifier1.predict(X_test)\n",
    "accuracy = accuracy_score(y_test, predict_labels)\n",
    "print(\"\\n The Classifier's Accuracy is : %f\" %accuracy)\n",
    "# 计算f1score\n",
    "f1score = f1_score(y_test, predict_labels, average='macro')\n",
    "print(\"\\n The Classifier's f1score is : %f\" %f1score)"
   ]
  },
  {
   "cell_type": "code",
   "execution_count": 18,
   "metadata": {},
   "outputs": [
    {
     "data": {
      "text/plain": [
       "SVC(C=10, cache_size=5000, kernel='linear', probability=True)"
      ]
     },
     "execution_count": 18,
     "metadata": {},
     "output_type": "execute_result"
    }
   ],
   "source": [
    "classifier1 = SVC(kernel='linear',probability=True,C=10, cache_size=5000)\n",
    "classifier1.fit(X_train, y_train)"
   ]
  },
  {
   "cell_type": "code",
   "execution_count": 19,
   "metadata": {},
   "outputs": [
    {
     "name": "stdout",
     "output_type": "stream",
     "text": [
      "\n",
      " Confusion Matrix\n",
      " [[595  12  19   8   4   0]\n",
      " [ 17  77  36   1   2   0]\n",
      " [ 45  33 127   0   2   0]\n",
      " [ 35   0   0  81   0   0]\n",
      " [ 11   5   8   2  53   0]\n",
      " [ 11   0   0   1   0  75]]\n",
      " Precision of tag 0 and 1 =[0.83333333 0.60629921 0.66842105 0.87096774 0.86885246 1.        ]\n",
      " Recall of tag 0 and 1 =[0.93260188 0.57894737 0.61352657 0.69827586 0.67088608 0.86206897]\n"
     ]
    }
   ],
   "source": [
    "eval_msg = evaluate_classifier(y_test,predict_labels)\n",
    "print(eval_msg)"
   ]
  },
  {
   "cell_type": "code",
   "execution_count": 20,
   "metadata": {},
   "outputs": [
    {
     "name": "stdout",
     "output_type": "stream",
     "text": [
      "GridSearchCV搜索最优参数......\n"
     ]
    }
   ],
   "source": [
    "print(\"GridSearchCV搜索最优参数......\")\n",
    "t0 = time()\n",
    "param_grid = {\n",
    "    \"C\": [1e3, 5e3, 1e4, 5e4, 1e5],\n",
    "    \"gamma\": [0.0001, 0.0005, 0.001, 0.005, 0.01, 0.1],\n",
    "}\n",
    "classifier1 = GridSearchCV(SVC(kernel=\"rbf\",probability=True), param_grid) #balance不需要 \n",
    "classifier1 = classifier1.fit(X_train, y_train)"
   ]
  },
  {
   "cell_type": "code",
   "execution_count": 21,
   "metadata": {},
   "outputs": [
    {
     "name": "stdout",
     "output_type": "stream",
     "text": [
      "done in 6246.634s\n",
      "Best estimator found by grid search:\n",
      "SVC(C=1000.0, gamma=0.01, probability=True)\n"
     ]
    }
   ],
   "source": [
    "print(\"done in %0.3fs\" % (time() - t0))\n",
    "print(\"Best estimator found by grid search:\")\n",
    "print(classifier1.best_estimator_)"
   ]
  },
  {
   "cell_type": "code",
   "execution_count": 22,
   "metadata": {},
   "outputs": [
    {
     "name": "stdout",
     "output_type": "stream",
     "text": [
      "[[8.16101179e-01 5.15765803e-03 2.01856723e-02 6.17129875e-03\n",
      "  2.13426512e-03 1.50249927e-01]\n",
      " [1.46075673e-03 9.90209436e-01 8.13670713e-03 1.77052973e-04\n",
      "  5.63004452e-06 1.04171678e-05]\n",
      " [4.21160362e-01 9.83590689e-02 4.49655009e-01 2.09297166e-02\n",
      "  5.03880709e-03 4.85703640e-03]\n",
      " ...\n",
      " [1.55972085e-02 8.39649573e-02 8.98602806e-01 3.59081993e-04\n",
      "  1.05043782e-04 1.37090226e-03]\n",
      " [8.14255823e-01 1.95148847e-02 1.58429002e-01 1.05554180e-04\n",
      "  1.09025247e-04 7.58571109e-03]\n",
      " [3.90514747e-01 2.01705647e-02 2.55324086e-01 2.96305335e-01\n",
      "  1.66721826e-02 2.10130850e-02]]\n"
     ]
    }
   ],
   "source": [
    "probas_ = classifier1.predict_proba(X_test)\n",
    "print(probas_)"
   ]
  },
  {
   "cell_type": "code",
   "execution_count": null,
   "metadata": {},
   "outputs": [],
   "source": []
  }
 ],
 "metadata": {
  "kernelspec": {
   "display_name": "Python 3",
   "language": "python",
   "name": "python3"
  },
  "language_info": {
   "codemirror_mode": {
    "name": "ipython",
    "version": 3
   },
   "file_extension": ".py",
   "mimetype": "text/x-python",
   "name": "python",
   "nbconvert_exporter": "python",
   "pygments_lexer": "ipython3",
   "version": "3.6.13"
  },
  "orig_nbformat": 4
 },
 "nbformat": 4,
 "nbformat_minor": 2
}
