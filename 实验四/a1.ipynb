{
 "cells": [
  {
   "cell_type": "code",
   "execution_count": 7,
   "metadata": {},
   "outputs": [],
   "source": [
    "# system lib\n",
    "from sklearn.metrics import accuracy_score,confusion_matrix,precision_score,recall_score\n",
    "from sklearn.svm import SVC, LinearSVC, NuSVC\n",
    "from sklearn import model_selection\n",
    "\n",
    "from sklearn.naive_bayes import GaussianNB\n",
    "from sklearn.ensemble import RandomForestClassifier  #随机森林\n",
    "from sklearn import tree\n",
    "\n",
    "#用于参数搜索\n",
    "from sklearn.model_selection import GridSearchCV\n",
    "\n",
    "from sklearn.metrics import classification_report\n",
    "\n",
    "from sklearn.metrics import roc_curve, auc #绘制ROC曲线\n",
    "import pylab as pl\n",
    "\n",
    "from time import time\n",
    "import datetime\n",
    "import numpy as np"
   ]
  },
  {
   "cell_type": "code",
   "execution_count": 6,
   "metadata": {},
   "outputs": [],
   "source": [
    "import pickle\n",
    "from sklearn.model_selection import cross_validate\n",
    "import pandas as pd"
   ]
  },
  {
   "cell_type": "code",
   "execution_count": 8,
   "metadata": {},
   "outputs": [],
   "source": [
    "def load_data(filename):\n",
    "    \"\"\"根据数据格式，读取数据中的X和分类标签y\n",
    "    \"\"\"\n",
    "\n",
    "    return x_data, ylabel\n",
    "\n",
    "def evaluate_classifier( real_label_list,predict_label_list):\n",
    "    \"\"\"\n",
    "       return Precision, Recall and ConfusionMatrix\n",
    "       Input : predict_label_list,real_label_list\n",
    "    \"\"\"\n",
    "    msg=''\n",
    "    Confusion_matrix = confusion_matrix( real_label_list,predict_label_list)\n",
    "    msg += '\\n Confusion Matrix\\n ' + str(Confusion_matrix)\n",
    "    precision = precision_score(real_label_list,predict_label_list, average=None)\n",
    "    recall = recall_score(real_label_list,predict_label_list, average=None)\n",
    "    msg += '\\n Precision of tag 0 and 1 =%s' %str(precision)\n",
    "    msg += '\\n Recall of tag 0 and 1 =%s' %str(recall)\n",
    "\n",
    "    return msg\n",
    "\n",
    "def test_svm(train_file, test_file):\n",
    "    \"\"\"用SVM分类 \"\"\"\n",
    "    # use SVM directly\n",
    "\n",
    "    train_xdata, train_ylabel = load_data(train_file)\n",
    "\n",
    "    test_xdata, test_ylabel = load_data(test_file)\n",
    "\n",
    "    print('\\nuse SVM directly')\n",
    "\n",
    "    #classifier1 = SVC(kernel='linear')\n",
    "    #classifier1 = SVC(kernel='linear',probability=True, C=200, cache_size=500)\n",
    "    classifier1 = SVC(kernel='linear',probability=True,C=10, cache_size=500)\n",
    "\n",
    "    classifier1.fit(train_xdata, train_ylabel)\n",
    "\n",
    "    predict_labels = classifier1.predict(test_xdata)\n",
    "    accuracy = accuracy_score(test_ylabel, predict_labels)\n",
    "    print(\"\\n The Classifier's Accuracy is : %f\" %accuracy)\n",
    "    #\n",
    "    eval_msg = evaluate_classifier(test_ylabel,predict_labels)\n",
    "    print(eval_msg)\n",
    "    #\n",
    "    #GridSearchCV搜索最优参数示例\n",
    "    print(\"GridSearchCV搜索最优参数......\")\n",
    "    t0 = time()\n",
    "    param_grid = {\n",
    "        \"C\": [1e3, 5e3, 1e4, 5e4, 1e5],\n",
    "        \"gamma\": [0.0001, 0.0005, 0.001, 0.005, 0.01, 0.1],\n",
    "    }\n",
    "    classifier1 = GridSearchCV(SVC(kernel=\"rbf\", class_weight=\"balanced\",probability=True), param_grid)\n",
    "    classifier1 = classifier1.fit(train_xdata, train_ylabel)\n",
    "    print(\"done in %0.3fs\" % (time() - t0))\n",
    "    print(\"Best estimator found by grid search:\")\n",
    "    print(classifier1.best_estimator_)\n",
    "\n",
    "\n",
    "    #对于SVM来说，概率是通过交叉验证得到的，与其预测的结果未必一致，对小数据集来说，此概率没什么意义\n",
    "    probas_ = classifier1.predict_proba(test_xdata)\n",
    "\n",
    "    #对于二分类问题，可为分类器绘制ROC曲线，计算AUC\n",
    "    # Compute ROC curve and area the curve\n",
    "    fpr, tpr, thresholds = roc_curve(test_ylabel, probas_[:, 1])\n",
    "    roc_auc = auc(fpr, tpr)\n",
    "    print(\"Area under the ROC curve : %f\" % roc_auc)\n",
    "\n",
    "    # Plot ROC curve\n",
    "    pl.clf()\n",
    "    pl.plot(fpr, tpr, label='ROC curve (area = %0.2f)' % roc_auc)\n",
    "    pl.plot([0, 1], [0, 1], 'k--')\n",
    "    pl.xlim([0.0, 1.0])\n",
    "    pl.ylim([0.0, 1.0])\n",
    "    pl.xlabel('False Positive Rate')\n",
    "    pl.ylabel('True Positive Rate')\n",
    "    pl.title('%s SVM ROC' %train_file)\n",
    "    pl.legend(loc=\"lower right\")\n",
    "    pl.show()\n"
   ]
  },
  {
   "cell_type": "code",
   "execution_count": 9,
   "metadata": {},
   "outputs": [],
   "source": [
    "data = pd.read_csv('/Users/mac/Desktop/数据挖掘实验/实验五/preprocess_train.csv')"
   ]
  },
  {
   "cell_type": "code",
   "execution_count": 10,
   "metadata": {},
   "outputs": [],
   "source": [
    "# 使用平均数填充缺失值\n",
    "data = data.fillna(data.mean())"
   ]
  },
  {
   "cell_type": "code",
   "execution_count": 11,
   "metadata": {},
   "outputs": [
    {
     "name": "stdout",
     "output_type": "stream",
     "text": [
      "         sample_id     feature0       feature1     feature2     feature3  \\\n",
      "count  6296.000000  6296.000000    6296.000000  6296.000000  6296.000000   \n",
      "mean   3147.500000    63.748003  285239.586221     1.132154     1.177755   \n",
      "std    1817.642979    38.489715   72644.008774     0.320382     1.490461   \n",
      "min       0.000000   -34.739442 -575880.089809    -2.157527    -3.055975   \n",
      "25%    1573.750000    48.145602  288358.400000     1.102452     0.350584   \n",
      "50%    3147.500000    63.609268  288358.400000     1.105857     0.875418   \n",
      "75%    4721.250000    71.931683  288358.400000     1.110334     1.363743   \n",
      "max    6295.000000   463.739205  860586.441356     3.373289    14.456153   \n",
      "\n",
      "          feature4     feature5     feature6      feature7      feature8  ...  \\\n",
      "count  6296.000000  6296.000000  6296.000000  6.296000e+03  6.296000e+03  ...   \n",
      "mean    251.501641    11.553379     4.526707  8.634842e+10  8.238839e+04  ...   \n",
      "std     141.786644    12.995523    17.906249  6.430692e+11  7.998810e+05  ...   \n",
      "min    -105.668259   -27.202964   -42.635150 -1.863153e+12 -2.433073e+06  ...   \n",
      "25%     195.947084     4.951978    -4.786705 -2.112254e+11 -2.954428e+05  ...   \n",
      "50%     251.501641     8.989874     1.340014  8.634842e+10  8.238839e+04  ...   \n",
      "75%     282.928608    16.495440     8.551476  2.630847e+11  3.153294e+05  ...   \n",
      "max    1750.710973   143.507209   137.225908  5.675041e+12  7.268554e+06  ...   \n",
      "\n",
      "          feature98    feature99  feature100    feature101   feature102  \\\n",
      "count  6.296000e+03  6296.000000      6296.0  6.296000e+03  6296.000000   \n",
      "mean   1.471719e+05   239.531745         0.0  8.546478e+07   189.389530   \n",
      "std    1.511133e+05   129.892613         0.0  7.900435e+08   107.252029   \n",
      "min   -3.049222e+05  -101.315529         0.0 -2.135494e+09   -74.797618   \n",
      "25%    7.438403e+04   186.392435         0.0 -3.112179e+08   147.141485   \n",
      "50%    1.471719e+05   239.531745         0.0  9.938772e+06   189.389530   \n",
      "75%    1.882555e+05   269.581095         0.0  3.386299e+08   212.953277   \n",
      "max    1.708344e+06  1672.943583         0.0  6.622075e+09  1311.156301   \n",
      "\n",
      "        feature103   feature104   feature105   feature106        label  \n",
      "count  6296.000000  6296.000000  6296.000000  6296.000000  6296.000000  \n",
      "mean      1.390493     1.482161     8.319666   229.718098     1.287961  \n",
      "std       1.766472     1.860596    28.514726   124.152336     1.625498  \n",
      "min      -3.642160    -3.241167   -70.153338  -103.883245     0.000000  \n",
      "25%       0.397891     0.445678    -6.556875   178.892819     0.000000  \n",
      "50%       1.034942     1.118500     4.132591   229.718098     0.000000  \n",
      "75%       1.593508     1.690634    15.947341   261.178663     2.000000  \n",
      "max      16.981626    17.690674   235.975102  1602.451227     5.000000  \n",
      "\n",
      "[8 rows x 109 columns]\n"
     ]
    }
   ],
   "source": [
    "print(data.describe())"
   ]
  },
  {
   "cell_type": "code",
   "execution_count": 12,
   "metadata": {},
   "outputs": [],
   "source": [
    "from sklearn.model_selection import train_test_split\n",
    "from sklearn.preprocessing import StandardScaler"
   ]
  },
  {
   "cell_type": "code",
   "execution_count": 13,
   "metadata": {},
   "outputs": [],
   "source": []
  },
  {
   "cell_type": "code",
   "execution_count": null,
   "metadata": {},
   "outputs": [],
   "source": [
    "# 分割特征和标签\n",
    "X = data.iloc[:, :-1]  # 特征\n",
    "y = data.iloc[:, -1]   # 标签\n",
    "\n",
    "# 划分训练集和测试集\n",
    "X_train, X_test, y_train, y_test = train_test_split(X, y, test_size=0.2, random_state=42)  # 可根据需求设置测试集比例和随机种子\n"
   ]
  },
  {
   "cell_type": "code",
   "execution_count": 14,
   "metadata": {},
   "outputs": [
    {
     "data": {
      "text/plain": [
       "1840    0\n",
       "3139    1\n",
       "3649    0\n",
       "2330    2\n",
       "3599    0\n",
       "       ..\n",
       "5048    0\n",
       "613     4\n",
       "4019    2\n",
       "5808    0\n",
       "2094    2\n",
       "Name: label, Length: 1260, dtype: int64"
      ]
     },
     "execution_count": 14,
     "metadata": {},
     "output_type": "execute_result"
    }
   ],
   "source": [
    "y_test"
   ]
  },
  {
   "cell_type": "code",
   "execution_count": 10,
   "metadata": {},
   "outputs": [
    {
     "data": {
      "text/plain": [
       "0       4\n",
       "1       5\n",
       "2       2\n",
       "3       2\n",
       "4       2\n",
       "       ..\n",
       "6291    0\n",
       "6292    0\n",
       "6293    0\n",
       "6294    0\n",
       "6295    0\n",
       "Name: label, Length: 6296, dtype: int64"
      ]
     },
     "execution_count": 10,
     "metadata": {},
     "output_type": "execute_result"
    }
   ],
   "source": [
    "y"
   ]
  },
  {
   "cell_type": "code",
   "execution_count": 11,
   "metadata": {},
   "outputs": [
    {
     "name": "stdout",
     "output_type": "stream",
     "text": [
      "sample_id     3.291326e+06\n",
      "feature0      1.524526e+03\n",
      "feature1      4.999518e+09\n",
      "feature2      1.057878e-01\n",
      "feature3      2.171464e+00\n",
      "                  ...     \n",
      "feature102    1.086364e+04\n",
      "feature103    3.220143e+00\n",
      "feature104    3.493834e+00\n",
      "feature105    8.062620e+02\n",
      "feature106    1.524351e+04\n",
      "Length: 108, dtype: float64\n"
     ]
    }
   ],
   "source": [
    "# 求出各个列的方差\n",
    "variances = X_train.var(axis=0)\n",
    "print(variances)"
   ]
  },
  {
   "cell_type": "code",
   "execution_count": 12,
   "metadata": {},
   "outputs": [
    {
     "name": "stdout",
     "output_type": "stream",
     "text": [
      "sample_id     3.291326e+06\n",
      "feature0      1.524526e+03\n",
      "feature1      4.999518e+09\n",
      "feature2      1.057878e-01\n",
      "feature3      2.171464e+00\n",
      "                  ...     \n",
      "feature102    1.086364e+04\n",
      "feature103    3.220143e+00\n",
      "feature104    3.493834e+00\n",
      "feature105    8.062620e+02\n",
      "feature106    1.524351e+04\n",
      "Length: 103, dtype: float64\n",
      "103\n"
     ]
    }
   ],
   "source": [
    "# 展示方差大于0.1的特征\n",
    "print(variances[variances > 0.1])\n",
    "#  输出个数\n",
    "print(len(variances[variances > 0.1]))"
   ]
  },
  {
   "cell_type": "code",
   "execution_count": 13,
   "metadata": {},
   "outputs": [],
   "source": [
    "# 选择方差大于0.1的特征\n",
    "X_train = X_train.loc[:, variances > 0.1]"
   ]
  },
  {
   "cell_type": "code",
   "execution_count": 14,
   "metadata": {},
   "outputs": [],
   "source": [
    "# 对于test集选择相同的特征\n",
    "X_test = X_test.loc[:, variances > 0.1]"
   ]
  },
  {
   "cell_type": "code",
   "execution_count": 15,
   "metadata": {},
   "outputs": [
    {
     "data": {
      "text/html": [
       "<div>\n",
       "<style scoped>\n",
       "    .dataframe tbody tr th:only-of-type {\n",
       "        vertical-align: middle;\n",
       "    }\n",
       "\n",
       "    .dataframe tbody tr th {\n",
       "        vertical-align: top;\n",
       "    }\n",
       "\n",
       "    .dataframe thead th {\n",
       "        text-align: right;\n",
       "    }\n",
       "</style>\n",
       "<table border=\"1\" class=\"dataframe\">\n",
       "  <thead>\n",
       "    <tr style=\"text-align: right;\">\n",
       "      <th></th>\n",
       "      <th>sample_id</th>\n",
       "      <th>feature0</th>\n",
       "      <th>feature1</th>\n",
       "      <th>feature2</th>\n",
       "      <th>feature3</th>\n",
       "      <th>feature4</th>\n",
       "      <th>feature5</th>\n",
       "      <th>feature6</th>\n",
       "      <th>feature7</th>\n",
       "      <th>feature8</th>\n",
       "      <th>...</th>\n",
       "      <th>feature96</th>\n",
       "      <th>feature97</th>\n",
       "      <th>feature98</th>\n",
       "      <th>feature99</th>\n",
       "      <th>feature101</th>\n",
       "      <th>feature102</th>\n",
       "      <th>feature103</th>\n",
       "      <th>feature104</th>\n",
       "      <th>feature105</th>\n",
       "      <th>feature106</th>\n",
       "    </tr>\n",
       "  </thead>\n",
       "  <tbody>\n",
       "    <tr>\n",
       "      <th>6052</th>\n",
       "      <td>6052</td>\n",
       "      <td>51.779179</td>\n",
       "      <td>285239.586221</td>\n",
       "      <td>1.104623</td>\n",
       "      <td>0.139970</td>\n",
       "      <td>229.820501</td>\n",
       "      <td>8.863694</td>\n",
       "      <td>2.917112</td>\n",
       "      <td>9.365796e+11</td>\n",
       "      <td>-531660.205079</td>\n",
       "      <td>...</td>\n",
       "      <td>5.232664e+05</td>\n",
       "      <td>11.525471</td>\n",
       "      <td>51096.061526</td>\n",
       "      <td>239.531745</td>\n",
       "      <td>7.778413e+08</td>\n",
       "      <td>189.987510</td>\n",
       "      <td>0.313698</td>\n",
       "      <td>0.157940</td>\n",
       "      <td>2.635433</td>\n",
       "      <td>337.506863</td>\n",
       "    </tr>\n",
       "    <tr>\n",
       "      <th>5673</th>\n",
       "      <td>5673</td>\n",
       "      <td>52.879559</td>\n",
       "      <td>288358.400000</td>\n",
       "      <td>1.103223</td>\n",
       "      <td>1.196073</td>\n",
       "      <td>294.289990</td>\n",
       "      <td>2.896172</td>\n",
       "      <td>-1.682500</td>\n",
       "      <td>1.465577e+10</td>\n",
       "      <td>342536.121298</td>\n",
       "      <td>...</td>\n",
       "      <td>-2.695693e+04</td>\n",
       "      <td>-16.904324</td>\n",
       "      <td>85079.590356</td>\n",
       "      <td>243.848641</td>\n",
       "      <td>1.132747e+08</td>\n",
       "      <td>171.893094</td>\n",
       "      <td>1.194727</td>\n",
       "      <td>1.482161</td>\n",
       "      <td>7.774928</td>\n",
       "      <td>248.995948</td>\n",
       "    </tr>\n",
       "    <tr>\n",
       "      <th>505</th>\n",
       "      <td>505</td>\n",
       "      <td>41.091291</td>\n",
       "      <td>288358.400000</td>\n",
       "      <td>1.101329</td>\n",
       "      <td>1.177755</td>\n",
       "      <td>211.045945</td>\n",
       "      <td>20.018388</td>\n",
       "      <td>-9.218536</td>\n",
       "      <td>-6.087745e+11</td>\n",
       "      <td>-328900.086528</td>\n",
       "      <td>...</td>\n",
       "      <td>-6.679172e+05</td>\n",
       "      <td>10.613193</td>\n",
       "      <td>147171.921968</td>\n",
       "      <td>115.290295</td>\n",
       "      <td>5.552553e+08</td>\n",
       "      <td>153.100440</td>\n",
       "      <td>0.699351</td>\n",
       "      <td>0.607470</td>\n",
       "      <td>2.231777</td>\n",
       "      <td>144.211624</td>\n",
       "    </tr>\n",
       "    <tr>\n",
       "      <th>4563</th>\n",
       "      <td>4563</td>\n",
       "      <td>63.748003</td>\n",
       "      <td>288358.400000</td>\n",
       "      <td>1.105929</td>\n",
       "      <td>0.669776</td>\n",
       "      <td>219.726980</td>\n",
       "      <td>24.515997</td>\n",
       "      <td>6.838741</td>\n",
       "      <td>-2.098921e+11</td>\n",
       "      <td>-371288.672854</td>\n",
       "      <td>...</td>\n",
       "      <td>-1.246221e+06</td>\n",
       "      <td>8.392575</td>\n",
       "      <td>60390.805995</td>\n",
       "      <td>239.888628</td>\n",
       "      <td>6.929131e+08</td>\n",
       "      <td>171.921613</td>\n",
       "      <td>1.053222</td>\n",
       "      <td>2.583969</td>\n",
       "      <td>-16.958449</td>\n",
       "      <td>242.135766</td>\n",
       "    </tr>\n",
       "    <tr>\n",
       "      <th>272</th>\n",
       "      <td>272</td>\n",
       "      <td>77.578522</td>\n",
       "      <td>288358.400000</td>\n",
       "      <td>1.109309</td>\n",
       "      <td>0.350987</td>\n",
       "      <td>136.753499</td>\n",
       "      <td>4.394935</td>\n",
       "      <td>55.814096</td>\n",
       "      <td>-5.956053e+11</td>\n",
       "      <td>82388.389996</td>\n",
       "      <td>...</td>\n",
       "      <td>9.980681e+03</td>\n",
       "      <td>-6.610586</td>\n",
       "      <td>14264.779035</td>\n",
       "      <td>239.531745</td>\n",
       "      <td>-2.983720e+08</td>\n",
       "      <td>233.107109</td>\n",
       "      <td>0.355548</td>\n",
       "      <td>1.983157</td>\n",
       "      <td>-9.552895</td>\n",
       "      <td>256.366403</td>\n",
       "    </tr>\n",
       "  </tbody>\n",
       "</table>\n",
       "<p>5 rows × 103 columns</p>\n",
       "</div>"
      ],
      "text/plain": [
       "      sample_id   feature0       feature1  feature2  feature3    feature4  \\\n",
       "6052       6052  51.779179  285239.586221  1.104623  0.139970  229.820501   \n",
       "5673       5673  52.879559  288358.400000  1.103223  1.196073  294.289990   \n",
       "505         505  41.091291  288358.400000  1.101329  1.177755  211.045945   \n",
       "4563       4563  63.748003  288358.400000  1.105929  0.669776  219.726980   \n",
       "272         272  77.578522  288358.400000  1.109309  0.350987  136.753499   \n",
       "\n",
       "       feature5   feature6      feature7       feature8  ...     feature96  \\\n",
       "6052   8.863694   2.917112  9.365796e+11 -531660.205079  ...  5.232664e+05   \n",
       "5673   2.896172  -1.682500  1.465577e+10  342536.121298  ... -2.695693e+04   \n",
       "505   20.018388  -9.218536 -6.087745e+11 -328900.086528  ... -6.679172e+05   \n",
       "4563  24.515997   6.838741 -2.098921e+11 -371288.672854  ... -1.246221e+06   \n",
       "272    4.394935  55.814096 -5.956053e+11   82388.389996  ...  9.980681e+03   \n",
       "\n",
       "      feature97      feature98   feature99    feature101  feature102  \\\n",
       "6052  11.525471   51096.061526  239.531745  7.778413e+08  189.987510   \n",
       "5673 -16.904324   85079.590356  243.848641  1.132747e+08  171.893094   \n",
       "505   10.613193  147171.921968  115.290295  5.552553e+08  153.100440   \n",
       "4563   8.392575   60390.805995  239.888628  6.929131e+08  171.921613   \n",
       "272   -6.610586   14264.779035  239.531745 -2.983720e+08  233.107109   \n",
       "\n",
       "      feature103  feature104  feature105  feature106  \n",
       "6052    0.313698    0.157940    2.635433  337.506863  \n",
       "5673    1.194727    1.482161    7.774928  248.995948  \n",
       "505     0.699351    0.607470    2.231777  144.211624  \n",
       "4563    1.053222    2.583969  -16.958449  242.135766  \n",
       "272     0.355548    1.983157   -9.552895  256.366403  \n",
       "\n",
       "[5 rows x 103 columns]"
      ]
     },
     "execution_count": 15,
     "metadata": {},
     "output_type": "execute_result"
    }
   ],
   "source": [
    "X_train.head()"
   ]
  },
  {
   "cell_type": "code",
   "execution_count": 16,
   "metadata": {},
   "outputs": [
    {
     "name": "stdout",
     "output_type": "stream",
     "text": [
      "X_train.shape: (5036, 103)\n",
      "X_test.shape: (1260, 103)\n"
     ]
    }
   ],
   "source": [
    "# 特征归一化\n",
    "scaler = StandardScaler()\n",
    "X_train = scaler.fit_transform(X_train) # 注意这里是fit_transform\n",
    "X_test = scaler.transform(X_test) # 注意这里是transform\n",
    "\n",
    "print('X_train.shape:', X_train.shape)\n",
    "print('X_test.shape:', X_test.shape)\n"
   ]
  },
  {
   "cell_type": "code",
   "execution_count": 17,
   "metadata": {},
   "outputs": [
    {
     "name": "stdout",
     "output_type": "stream",
     "text": [
      "X_train.shape: (5036, 103)\n",
      "X_test.shape: (1260, 103)\n"
     ]
    }
   ],
   "source": [
    "# 方差选择法数据预处理\n",
    "from sklearn.feature_selection import VarianceThreshold\n",
    "# 创建VarianceThreshold对象\n",
    "selector = VarianceThreshold(threshold=0.01)\n",
    "\n",
    "# 在训练集上拟合并应用特征选择\n",
    "X_train = selector.fit_transform(X_train)\n",
    "\n",
    "# 在测试集上应用相同的特征选择\n",
    "X_test = selector.transform(X_test)\n",
    "\n",
    "print('X_train.shape:', X_train.shape)\n",
    "print('X_test.shape:', X_test.shape)"
   ]
  },
  {
   "cell_type": "code",
   "execution_count": 18,
   "metadata": {},
   "outputs": [
    {
     "data": {
      "text/plain": [
       "6052    3\n",
       "5673    0\n",
       "505     0\n",
       "4563    0\n",
       "272     0\n",
       "Name: label, dtype: int64"
      ]
     },
     "execution_count": 18,
     "metadata": {},
     "output_type": "execute_result"
    }
   ],
   "source": [
    "y_train .head()"
   ]
  },
  {
   "cell_type": "code",
   "execution_count": 16,
   "metadata": {},
   "outputs": [
    {
     "data": {
      "text/plain": [
       "SVC(C=10, cache_size=10000, kernel='linear', probability=True)"
      ]
     },
     "execution_count": 16,
     "metadata": {},
     "output_type": "execute_result"
    }
   ],
   "source": [
    "classifier1 = SVC(kernel='linear',probability=True,C=10, cache_size=10000)\n",
    "classifier1.fit(X_train, y_train)"
   ]
  },
  {
   "cell_type": "code",
   "execution_count": 17,
   "metadata": {},
   "outputs": [
    {
     "name": "stdout",
     "output_type": "stream",
     "text": [
      "\n",
      " The Classifier's Accuracy is : 0.800000\n",
      "\n",
      " The Classifier's f1score is : 0.761745\n"
     ]
    }
   ],
   "source": [
    "from sklearn.metrics import f1_score\n",
    "\n",
    "predict_labels = classifier1.predict(X_test)\n",
    "accuracy = accuracy_score(y_test, predict_labels)\n",
    "print(\"\\n The Classifier's Accuracy is : %f\" %accuracy)\n",
    "# 计算f1score\n",
    "f1score = f1_score(y_test, predict_labels, average='macro')\n",
    "print(\"\\n The Classifier's f1score is : %f\" %f1score)"
   ]
  },
  {
   "cell_type": "code",
   "execution_count": 18,
   "metadata": {},
   "outputs": [
    {
     "data": {
      "text/plain": [
       "SVC(C=10, cache_size=5000, kernel='linear', probability=True)"
      ]
     },
     "execution_count": 18,
     "metadata": {},
     "output_type": "execute_result"
    }
   ],
   "source": [
    "classifier1 = SVC(kernel='linear',probability=True,C=10, cache_size=5000)\n",
    "classifier1.fit(X_train, y_train)"
   ]
  },
  {
   "cell_type": "code",
   "execution_count": 19,
   "metadata": {},
   "outputs": [
    {
     "name": "stdout",
     "output_type": "stream",
     "text": [
      "\n",
      " Confusion Matrix\n",
      " [[595  12  19   8   4   0]\n",
      " [ 17  77  36   1   2   0]\n",
      " [ 45  33 127   0   2   0]\n",
      " [ 35   0   0  81   0   0]\n",
      " [ 11   5   8   2  53   0]\n",
      " [ 11   0   0   1   0  75]]\n",
      " Precision of tag 0 and 1 =[0.83333333 0.60629921 0.66842105 0.87096774 0.86885246 1.        ]\n",
      " Recall of tag 0 and 1 =[0.93260188 0.57894737 0.61352657 0.69827586 0.67088608 0.86206897]\n"
     ]
    }
   ],
   "source": [
    "eval_msg = evaluate_classifier(y_test,predict_labels) # 评估分类器\n",
    "print(eval_msg) # 打印评估结果"
   ]
  },
  {
   "cell_type": "code",
   "execution_count": 20,
   "metadata": {},
   "outputs": [
    {
     "name": "stdout",
     "output_type": "stream",
     "text": [
      "GridSearchCV搜索最优参数......\n"
     ]
    }
   ],
   "source": [
    "print(\"GridSearchCV搜索最优参数......\")\n",
    "t0 = time()\n",
    "param_grid = {\n",
    "    \"C\": [1e3, 5e3, 1e4, 5e4, 1e5],\n",
    "    \"gamma\": [0.0001, 0.0005, 0.001, 0.005, 0.01, 0.1],\n",
    "}\n",
    "classifier1 = GridSearchCV(SVC(kernel=\"rbf\",probability=True), param_grid) #balance不需要 \n",
    "classifier1 = classifier1.fit(X_train, y_train)"
   ]
  },
  {
   "cell_type": "code",
   "execution_count": 21,
   "metadata": {},
   "outputs": [
    {
     "name": "stdout",
     "output_type": "stream",
     "text": [
      "done in 6246.634s\n",
      "Best estimator found by grid search:\n",
      "SVC(C=1000.0, gamma=0.01, probability=True)\n"
     ]
    }
   ],
   "source": [
    "print(\"done in %0.3fs\" % (time() - t0))\n",
    "print(\"Best estimator found by grid search:\") # 打印最优参数\n",
    "print(classifier1.best_estimator_) # 打印最优参数"
   ]
  },
  {
   "cell_type": "code",
   "execution_count": 22,
   "metadata": {},
   "outputs": [
    {
     "name": "stdout",
     "output_type": "stream",
     "text": [
      "[[8.16101179e-01 5.15765803e-03 2.01856723e-02 6.17129875e-03\n",
      "  2.13426512e-03 1.50249927e-01]\n",
      " [1.46075673e-03 9.90209436e-01 8.13670713e-03 1.77052973e-04\n",
      "  5.63004452e-06 1.04171678e-05]\n",
      " [4.21160362e-01 9.83590689e-02 4.49655009e-01 2.09297166e-02\n",
      "  5.03880709e-03 4.85703640e-03]\n",
      " ...\n",
      " [1.55972085e-02 8.39649573e-02 8.98602806e-01 3.59081993e-04\n",
      "  1.05043782e-04 1.37090226e-03]\n",
      " [8.14255823e-01 1.95148847e-02 1.58429002e-01 1.05554180e-04\n",
      "  1.09025247e-04 7.58571109e-03]\n",
      " [3.90514747e-01 2.01705647e-02 2.55324086e-01 2.96305335e-01\n",
      "  1.66721826e-02 2.10130850e-02]]\n"
     ]
    }
   ],
   "source": [
    "probas_ = classifier1.predict_proba(X_test) # 对测试集进行预测\n",
    "print(probas_)# 打印预测结果"
   ]
  },
  {
   "cell_type": "code",
   "execution_count": 24,
   "metadata": {},
   "outputs": [
    {
     "data": {
      "text/plain": [
       "['svm_model.pkl']"
      ]
     },
     "execution_count": 24,
     "metadata": {},
     "output_type": "execute_result"
    }
   ],
   "source": [
    "# 持久化保存获得的最优svm模型。\n",
    "import joblib\n",
    "\n",
    "\n",
    "joblib.dump(classifier1, 'svm_model.pkl')"
   ]
  },
  {
   "attachments": {},
   "cell_type": "markdown",
   "metadata": {},
   "source": [
    "# 采用K-means进行分类"
   ]
  },
  {
   "cell_type": "code",
   "execution_count": 19,
   "metadata": {},
   "outputs": [],
   "source": [
    "from sklearn.cluster import KMeans\n",
    "from sklearn import metrics"
   ]
  },
  {
   "cell_type": "code",
   "execution_count": 20,
   "metadata": {},
   "outputs": [
    {
     "ename": "",
     "evalue": "",
     "output_type": "error",
     "traceback": [
      "\u001b[1;31mCanceled future for execute_request message before replies were done"
     ]
    },
    {
     "ename": "",
     "evalue": "",
     "output_type": "error",
     "traceback": [
      "\u001b[1;31m在当前单元格或上一个单元格中执行代码时 Kernel 崩溃。请查看单元格中的代码，以确定故障的可能原因。有关详细信息，请单击 <a href='https://aka.ms/vscodeJupyterKernelCrash'>此处</a>。有关更多详细信息，请查看 Jupyter <a href='command:jupyter.viewOutput'>log</a>。"
     ]
    }
   ],
   "source": [
    "# 选择最优的K值\n",
    "\n",
    "# 评估不同K值的聚类效果\n",
    "from matplotlib import pyplot as plt\n",
    "\n",
    "\n",
    "K = range(2, 10)\n",
    "meandistortions = []\n",
    "for k in K:\n",
    "    kmeans = KMeans(n_clusters=k)\n",
    "    kmeans.fit(X_train)\n",
    "    meandistortions.append(sum(np.min(cdist(X_train, kmeans.cluster_centers_, 'euclidean'), axis=1)) / X_train.shape[0])\n",
    "\n",
    "# 绘制K值与误差平方和的关系图\n",
    "plt.plot(K, meandistortions, 'bx-')\n",
    "plt.xlabel('k')\n",
    "plt.ylabel('Average distortion')\n",
    "plt.title('Selecting k with the Elbow Method')\n",
    "plt.show()"
   ]
  },
  {
   "cell_type": "code",
   "execution_count": null,
   "metadata": {},
   "outputs": [],
   "source": [
    "# k=2 计算 accuracy precision recall f1score\n",
    "kmeans = KMeans(n_clusters=2)   \n",
    "kmeans.fit(X_train)\n",
    "y_pred = kmeans.predict(X_test)\n",
    "print(y_pred)\n",
    "\n",
    "# 计算accuracy\n",
    "accuracy = accuracy_score(y_test, y_pred)\n",
    "print(\"\\n The Kmeans's Accuracy is : %f\" %accuracy)\n",
    "# 计算f1score\n",
    "\n",
    "f1score = f1_score(y_test, y_pred, average='macro')\n",
    "print(\"\\n The Kmeans's f1score is : %f\" %f1score)\n",
    "\n",
    "# 计算precision\n",
    "precision = precision_score(y_test, y_pred, average='macro')\n",
    "print(\"\\n The Kmeans's precision is : %f\" %precision)\n",
    "\n",
    "# 计算recall\n",
    "recall = recall_score(y_test, y_pred, average='macro')\n",
    "print(\"\\n The Kmeans's recall is : %f\" %recall)\n",
    "\n",
    "\n"
   ]
  },
  {
   "cell_type": "code",
   "execution_count": null,
   "metadata": {},
   "outputs": [],
   "source": [
    "# 采用逻辑回归进行分类\n",
    "\n",
    "from sklearn.linear_model import LogisticRegression\n",
    "\n",
    "# 采用逻辑回归进行分类\n",
    "classifier2 = LogisticRegression()\n",
    "classifier2.fit(X_train, y_train)\n",
    "\n",
    "# 评估分类器\n",
    "from sklearn.metrics import accuracy_score\n",
    "predict_labels = classifier2.predict(X_test)\n",
    "accuracy = accuracy_score(y_test, predict_labels)\n",
    "print(\"\\n The Classifier's Accuracy is : %f\" %accuracy)\n",
    "\n",
    "# 计算f1score\n",
    "from sklearn.metrics import f1_score\n",
    "f1score = f1_score(y_test, predict_labels, average='macro')\n",
    "print(\"\\n The Classifier's f1score is : %f\" %f1score)\n",
    "\n",
    "# 计算precision\n",
    "from sklearn.metrics import precision_score\n",
    "precision = precision_score(y_test, predict_labels, average='macro')\n",
    "print(\"\\n The Classifier's precision is : %f\" %precision)\n",
    "\n",
    "# 计算recall\n",
    "from sklearn.metrics import recall_score\n",
    "recall = recall_score(y_test, predict_labels, average='macro')\n",
    "print(\"\\n The Classifier's recall is : %f\" %recall)"
   ]
  },
  {
   "cell_type": "code",
   "execution_count": null,
   "metadata": {},
   "outputs": [],
   "source": [
    "# 采用决策树进行分类\n",
    "\n",
    "from sklearn.tree import DecisionTreeClassifier\n",
    "\n",
    "\n",
    "# 采用决策树进行分类\n",
    "classifier3 = DecisionTreeClassifier()\n",
    "classifier3.fit(X_train, y_train)\n",
    "\n",
    "# 评估分类器\n",
    "from sklearn.metrics import accuracy_score\n",
    "predict_labels = classifier3.predict(X_test)\n",
    "accuracy = accuracy_score(y_test, predict_labels)\n",
    "print(\"\\n The Classifier's Accuracy is : %f\" %accuracy)\n",
    "\n",
    "# 计算f1score\n",
    "from sklearn.metrics import f1_score\n",
    "f1score = f1_score(y_test, predict_labels, average='macro')\n",
    "print(\"\\n The Classifier's f1score is : %f\" %f1score)\n",
    "\n",
    "# 计算precision\n",
    "from sklearn.metrics import precision_score\n",
    "precision = precision_score(y_test, predict_labels, average='macro')\n",
    "print(\"\\n The Classifier's precision is : %f\" %precision)\n",
    "\n",
    "# 计算recall\n",
    "from sklearn.metrics import recall_score\n",
    "recall = recall_score(y_test, predict_labels, average='macro')\n",
    "print(\"\\n The Classifier's recall is : %f\" %recall)\n",
    "\n",
    "\n",
    "\n"
   ]
  },
  {
   "cell_type": "code",
   "execution_count": null,
   "metadata": {},
   "outputs": [],
   "source": [
    "# 采用随机森林进行分类\n",
    "\n",
    "from sklearn.ensemble import RandomForestClassifier\n",
    "\n",
    "# 采用随机森林进行分类\n",
    "classifier4 = RandomForestClassifier()\n",
    "classifier4.fit(X_train, y_train)\n",
    "\n",
    "# 评估分类器\n",
    "from sklearn.metrics import accuracy_score\n",
    "predict_labels = classifier4.predict(X_test)\n",
    "accuracy = accuracy_score(y_test, predict_labels)\n",
    "print(\"\\n The Classifier's Accuracy is : %f\" %accuracy)\n",
    "\n",
    "# 计算f1score\n",
    "from sklearn.metrics import f1_score\n",
    "f1score = f1_score(y_test, predict_labels, average='macro')\n",
    "print(\"\\n The Classifier's f1score is : %f\" %f1score)\n",
    "\n",
    "# 计算precision\n",
    "from sklearn.metrics import precision_score\n",
    "precision = precision_score(y_test, predict_labels, average='macro')\n",
    "print(\"\\n The Classifier's precision is : %f\" %precision)\n",
    "\n",
    "# 计算recall\n",
    "from sklearn.metrics import recall_score\n",
    "recall = recall_score(y_test, predict_labels, average='macro')\n",
    "print(\"\\n The Classifier's recall is : %f\" %recall)"
   ]
  },
  {
   "cell_type": "code",
   "execution_count": null,
   "metadata": {},
   "outputs": [],
   "source": [
    "# 多种分类器进行投票得到最终结果\n",
    "\n",
    "from sklearn.ensemble import VotingClassifier\n",
    "\n",
    "# 采用投票法进行分类\n",
    "classifier5 = VotingClassifier(estimators=[('svm', classifier1), ('lr', classifier2), ('dt', classifier3), ('rf', classifier4)], voting='soft')\n",
    "classifier5.fit(X_train, y_train)\n",
    "\n",
    "# 评估分类器\n",
    "from sklearn.metrics import accuracy_score\n",
    "predict_labels = classifier5.predict(X_test)\n",
    "accuracy = accuracy_score(y_test, predict_labels)\n",
    "print(\"\\n The Classifier's Accuracy is : %f\" %accuracy)\n",
    "\n",
    "# 计算f1score\n",
    "from sklearn.metrics import f1_score\n",
    "f1score = f1_score(y_test, predict_labels, average='macro')\n",
    "print(\"\\n The Classifier's f1score is : %f\" %f1score)\n",
    "\n",
    "# 计算recall\n",
    "from sklearn.metrics import recall_score\n",
    "recall = recall_score(y_test, predict_labels, average='macro')\n",
    "print(\"\\n The Classifier's recall is : %f\" %recall)\n",
    "\n",
    "# 计算precision\n",
    "from sklearn.metrics import precision_score\n",
    "precision = precision_score(y_test, predict_labels, average='macro')\n",
    "print(\"\\n The Classifier's precision is : %f\" %precision)"
   ]
  },
  {
   "attachments": {},
   "cell_type": "markdown",
   "metadata": {},
   "source": [
    "绘制各模型的ROC曲线，输出AUC。建议，尝试将多个模型的ROC绘制在一幅图中。"
   ]
  },
  {
   "cell_type": "code",
   "execution_count": null,
   "metadata": {},
   "outputs": [],
   "source": []
  },
  {
   "cell_type": "code",
   "execution_count": null,
   "metadata": {},
   "outputs": [],
   "source": [
    "y_test_new=y_test"
   ]
  },
  {
   "cell_type": "code",
   "execution_count": null,
   "metadata": {},
   "outputs": [],
   "source": [
    "#绘制各模型的ROC曲线，输出AUC。建议，尝试将多个模型的ROC绘制在一幅图中。\n",
    "\n",
    "from sklearn.metrics import roc_curve, auc\n",
    "import matplotlib.pyplot as plt\n",
    "\n",
    "\n",
    "\n",
    "# 绘制ROC曲线\n",
    "fpr, tpr, thresholds = roc_curve(y_test, classifier1.predict_proba(X_test)[:,1], pos_label=1)\n",
    "roc_auc = auc(fpr, tpr)\n",
    "plt.plot(fpr, tpr, lw=1, label='SVM (area = %0.2f)' % (roc_auc))\n",
    "\n",
    "fpr, tpr, thresholds = roc_curve(y_test, classifier2.predict_proba(X_test)[:,1], pos_label=1)\n",
    "roc_auc = auc(fpr, tpr)\n",
    "plt.plot(fpr, tpr, lw=1, label='LR (area = %0.2f)' % (roc_auc))\n",
    "\n",
    "fpr, tpr, thresholds = roc_curve(y_test, classifier3.predict_proba(X_test)[:,1], pos_label=1)\n",
    "roc_auc = auc(fpr, tpr)\n",
    "plt.plot(fpr, tpr, lw=1, label='DT (area = %0.2f)' % (roc_auc))\n",
    "\n",
    "fpr, tpr, thresholds = roc_curve(y_test, classifier4.predict_proba(X_test)[:,1], pos_label=1)\n",
    "roc_auc = auc(fpr, tpr)\n",
    "plt.plot(fpr, tpr, lw=1, label='RF (area = %0.2f)' % (roc_auc))\n",
    "\n",
    "fpr, tpr, thresholds = roc_curve(y_test, classifier5.predict_proba(X_test)[:,1], pos_label=1)\n",
    "roc_auc = auc(fpr, tpr)\n",
    "plt.plot(fpr, tpr, lw=1, label='Voting (area = %0.2f)' % (roc_auc))\n",
    "\n",
    "plt.plot([0, 1], [0, 1], '--', color=(0.6, 0.6, 0.6), label='Luck')\n",
    "\n",
    "plt.xlim([-0.05, 1.05])\n",
    "plt.ylim([-0.05, 1.05])\n",
    "plt.xlabel('False Positive Rate')\n",
    "plt.ylabel('True Positive Rate')\n",
    "plt.title('Receiver operating characteristic example')\n",
    "plt.legend(loc=\"lower right\")\n",
    "plt.show()\n",
    "\n"
   ]
  }
 ],
 "metadata": {
  "kernelspec": {
   "display_name": "Python 3",
   "language": "python",
   "name": "python3"
  },
  "language_info": {
   "codemirror_mode": {
    "name": "ipython",
    "version": 3
   },
   "file_extension": ".py",
   "mimetype": "text/x-python",
   "name": "python",
   "nbconvert_exporter": "python",
   "pygments_lexer": "ipython3",
   "version": "3.6.13"
  },
  "orig_nbformat": 4
 },
 "nbformat": 4,
 "nbformat_minor": 2
}
