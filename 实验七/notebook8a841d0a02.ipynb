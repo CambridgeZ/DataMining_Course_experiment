{
 "metadata": {
  "kernelspec": {
   "name": "python3",
   "display_name": "Python 3",
   "language": "python"
  },
  "language_info": {
   "name": "python",
   "version": "3.10.10",
   "mimetype": "text/x-python",
   "codemirror_mode": {
    "name": "ipython",
    "version": 3
   },
   "pygments_lexer": "ipython3",
   "nbconvert_exporter": "python",
   "file_extension": ".py"
  }
 },
 "nbformat_minor": 4,
 "nbformat": 4,
 "cells": [
  {
   "cell_type": "code",
   "source": [
    "# 读取KDD Cup网络入侵数据kddcup.data_10_percent\n",
    "import pandas as pd"
   ],
   "metadata": {
    "execution": {
     "iopub.status.busy": "2023-06-03T00:30:46.649418Z",
     "iopub.execute_input": "2023-06-03T00:30:46.649927Z",
     "iopub.status.idle": "2023-06-03T00:30:46.655463Z",
     "shell.execute_reply.started": "2023-06-03T00:30:46.649883Z",
     "shell.execute_reply": "2023-06-03T00:30:46.654262Z"
    },
    "trusted": true
   },
   "execution_count": 2,
   "outputs": []
  },
  {
   "cell_type": "code",
   "source": [
    "data=pd.read_csv('/kaggle/input/kddcupdata/kddcup.data_10_percent.csv',header=None)"
   ],
   "metadata": {
    "execution": {
     "iopub.status.busy": "2023-06-03T00:30:46.657845Z",
     "iopub.execute_input": "2023-06-03T00:30:46.658395Z",
     "iopub.status.idle": "2023-06-03T00:30:50.026435Z",
     "shell.execute_reply.started": "2023-06-03T00:30:46.658261Z",
     "shell.execute_reply": "2023-06-03T00:30:50.025324Z"
    },
    "trusted": true
   },
   "execution_count": 3,
   "outputs": []
  },
  {
   "cell_type": "code",
   "source": [
    "data.head()"
   ],
   "metadata": {
    "execution": {
     "iopub.status.busy": "2023-06-03T00:30:50.028399Z",
     "iopub.execute_input": "2023-06-03T00:30:50.029044Z",
     "iopub.status.idle": "2023-06-03T00:30:50.096916Z",
     "shell.execute_reply.started": "2023-06-03T00:30:50.029004Z",
     "shell.execute_reply": "2023-06-03T00:30:50.095673Z"
    },
    "trusted": true
   },
   "execution_count": 4,
   "outputs": [
    {
     "execution_count": 4,
     "output_type": "execute_result",
     "data": {
      "text/plain": "   0    1     2   3    4     5   6   7   8   9   ...  32   33   34    35   36  \\\n0   0  tcp  http  SF  181  5450   0   0   0   0  ...   9  1.0  0.0  0.11  0.0   \n1   0  tcp  http  SF  239   486   0   0   0   0  ...  19  1.0  0.0  0.05  0.0   \n2   0  tcp  http  SF  235  1337   0   0   0   0  ...  29  1.0  0.0  0.03  0.0   \n3   0  tcp  http  SF  219  1337   0   0   0   0  ...  39  1.0  0.0  0.03  0.0   \n4   0  tcp  http  SF  217  2032   0   0   0   0  ...  49  1.0  0.0  0.02  0.0   \n\n    37   38   39   40       41  \n0  0.0  0.0  0.0  0.0  normal.  \n1  0.0  0.0  0.0  0.0  normal.  \n2  0.0  0.0  0.0  0.0  normal.  \n3  0.0  0.0  0.0  0.0  normal.  \n4  0.0  0.0  0.0  0.0  normal.  \n\n[5 rows x 42 columns]",
      "text/html": "<div>\n<style scoped>\n    .dataframe tbody tr th:only-of-type {\n        vertical-align: middle;\n    }\n\n    .dataframe tbody tr th {\n        vertical-align: top;\n    }\n\n    .dataframe thead th {\n        text-align: right;\n    }\n</style>\n<table border=\"1\" class=\"dataframe\">\n  <thead>\n    <tr style=\"text-align: right;\">\n      <th></th>\n      <th>0</th>\n      <th>1</th>\n      <th>2</th>\n      <th>3</th>\n      <th>4</th>\n      <th>5</th>\n      <th>6</th>\n      <th>7</th>\n      <th>8</th>\n      <th>9</th>\n      <th>...</th>\n      <th>32</th>\n      <th>33</th>\n      <th>34</th>\n      <th>35</th>\n      <th>36</th>\n      <th>37</th>\n      <th>38</th>\n      <th>39</th>\n      <th>40</th>\n      <th>41</th>\n    </tr>\n  </thead>\n  <tbody>\n    <tr>\n      <th>0</th>\n      <td>0</td>\n      <td>tcp</td>\n      <td>http</td>\n      <td>SF</td>\n      <td>181</td>\n      <td>5450</td>\n      <td>0</td>\n      <td>0</td>\n      <td>0</td>\n      <td>0</td>\n      <td>...</td>\n      <td>9</td>\n      <td>1.0</td>\n      <td>0.0</td>\n      <td>0.11</td>\n      <td>0.0</td>\n      <td>0.0</td>\n      <td>0.0</td>\n      <td>0.0</td>\n      <td>0.0</td>\n      <td>normal.</td>\n    </tr>\n    <tr>\n      <th>1</th>\n      <td>0</td>\n      <td>tcp</td>\n      <td>http</td>\n      <td>SF</td>\n      <td>239</td>\n      <td>486</td>\n      <td>0</td>\n      <td>0</td>\n      <td>0</td>\n      <td>0</td>\n      <td>...</td>\n      <td>19</td>\n      <td>1.0</td>\n      <td>0.0</td>\n      <td>0.05</td>\n      <td>0.0</td>\n      <td>0.0</td>\n      <td>0.0</td>\n      <td>0.0</td>\n      <td>0.0</td>\n      <td>normal.</td>\n    </tr>\n    <tr>\n      <th>2</th>\n      <td>0</td>\n      <td>tcp</td>\n      <td>http</td>\n      <td>SF</td>\n      <td>235</td>\n      <td>1337</td>\n      <td>0</td>\n      <td>0</td>\n      <td>0</td>\n      <td>0</td>\n      <td>...</td>\n      <td>29</td>\n      <td>1.0</td>\n      <td>0.0</td>\n      <td>0.03</td>\n      <td>0.0</td>\n      <td>0.0</td>\n      <td>0.0</td>\n      <td>0.0</td>\n      <td>0.0</td>\n      <td>normal.</td>\n    </tr>\n    <tr>\n      <th>3</th>\n      <td>0</td>\n      <td>tcp</td>\n      <td>http</td>\n      <td>SF</td>\n      <td>219</td>\n      <td>1337</td>\n      <td>0</td>\n      <td>0</td>\n      <td>0</td>\n      <td>0</td>\n      <td>...</td>\n      <td>39</td>\n      <td>1.0</td>\n      <td>0.0</td>\n      <td>0.03</td>\n      <td>0.0</td>\n      <td>0.0</td>\n      <td>0.0</td>\n      <td>0.0</td>\n      <td>0.0</td>\n      <td>normal.</td>\n    </tr>\n    <tr>\n      <th>4</th>\n      <td>0</td>\n      <td>tcp</td>\n      <td>http</td>\n      <td>SF</td>\n      <td>217</td>\n      <td>2032</td>\n      <td>0</td>\n      <td>0</td>\n      <td>0</td>\n      <td>0</td>\n      <td>...</td>\n      <td>49</td>\n      <td>1.0</td>\n      <td>0.0</td>\n      <td>0.02</td>\n      <td>0.0</td>\n      <td>0.0</td>\n      <td>0.0</td>\n      <td>0.0</td>\n      <td>0.0</td>\n      <td>normal.</td>\n    </tr>\n  </tbody>\n</table>\n<p>5 rows × 42 columns</p>\n</div>"
     },
     "metadata": {}
    }
   ]
  },
  {
   "cell_type": "code",
   "source": [
    "# 将非数值字段转码\n",
    "from sklearn.preprocessing import LabelEncoder\n",
    "\n",
    "le=LabelEncoder()\n",
    "for i in range(1,4):\n",
    "    data[i]=le.fit_transform(data[i])\n",
    "data.head()"
   ],
   "metadata": {
    "execution": {
     "iopub.status.busy": "2023-06-03T00:30:50.098766Z",
     "iopub.execute_input": "2023-06-03T00:30:50.099206Z",
     "iopub.status.idle": "2023-06-03T00:30:51.330520Z",
     "shell.execute_reply.started": "2023-06-03T00:30:50.099167Z",
     "shell.execute_reply": "2023-06-03T00:30:51.329223Z"
    },
    "trusted": true
   },
   "execution_count": 5,
   "outputs": [
    {
     "execution_count": 5,
     "output_type": "execute_result",
     "data": {
      "text/plain": "   0   1   2   3    4     5   6   7   8   9   ...  32   33   34    35   36  \\\n0   0   1  22   9  181  5450   0   0   0   0  ...   9  1.0  0.0  0.11  0.0   \n1   0   1  22   9  239   486   0   0   0   0  ...  19  1.0  0.0  0.05  0.0   \n2   0   1  22   9  235  1337   0   0   0   0  ...  29  1.0  0.0  0.03  0.0   \n3   0   1  22   9  219  1337   0   0   0   0  ...  39  1.0  0.0  0.03  0.0   \n4   0   1  22   9  217  2032   0   0   0   0  ...  49  1.0  0.0  0.02  0.0   \n\n    37   38   39   40       41  \n0  0.0  0.0  0.0  0.0  normal.  \n1  0.0  0.0  0.0  0.0  normal.  \n2  0.0  0.0  0.0  0.0  normal.  \n3  0.0  0.0  0.0  0.0  normal.  \n4  0.0  0.0  0.0  0.0  normal.  \n\n[5 rows x 42 columns]",
      "text/html": "<div>\n<style scoped>\n    .dataframe tbody tr th:only-of-type {\n        vertical-align: middle;\n    }\n\n    .dataframe tbody tr th {\n        vertical-align: top;\n    }\n\n    .dataframe thead th {\n        text-align: right;\n    }\n</style>\n<table border=\"1\" class=\"dataframe\">\n  <thead>\n    <tr style=\"text-align: right;\">\n      <th></th>\n      <th>0</th>\n      <th>1</th>\n      <th>2</th>\n      <th>3</th>\n      <th>4</th>\n      <th>5</th>\n      <th>6</th>\n      <th>7</th>\n      <th>8</th>\n      <th>9</th>\n      <th>...</th>\n      <th>32</th>\n      <th>33</th>\n      <th>34</th>\n      <th>35</th>\n      <th>36</th>\n      <th>37</th>\n      <th>38</th>\n      <th>39</th>\n      <th>40</th>\n      <th>41</th>\n    </tr>\n  </thead>\n  <tbody>\n    <tr>\n      <th>0</th>\n      <td>0</td>\n      <td>1</td>\n      <td>22</td>\n      <td>9</td>\n      <td>181</td>\n      <td>5450</td>\n      <td>0</td>\n      <td>0</td>\n      <td>0</td>\n      <td>0</td>\n      <td>...</td>\n      <td>9</td>\n      <td>1.0</td>\n      <td>0.0</td>\n      <td>0.11</td>\n      <td>0.0</td>\n      <td>0.0</td>\n      <td>0.0</td>\n      <td>0.0</td>\n      <td>0.0</td>\n      <td>normal.</td>\n    </tr>\n    <tr>\n      <th>1</th>\n      <td>0</td>\n      <td>1</td>\n      <td>22</td>\n      <td>9</td>\n      <td>239</td>\n      <td>486</td>\n      <td>0</td>\n      <td>0</td>\n      <td>0</td>\n      <td>0</td>\n      <td>...</td>\n      <td>19</td>\n      <td>1.0</td>\n      <td>0.0</td>\n      <td>0.05</td>\n      <td>0.0</td>\n      <td>0.0</td>\n      <td>0.0</td>\n      <td>0.0</td>\n      <td>0.0</td>\n      <td>normal.</td>\n    </tr>\n    <tr>\n      <th>2</th>\n      <td>0</td>\n      <td>1</td>\n      <td>22</td>\n      <td>9</td>\n      <td>235</td>\n      <td>1337</td>\n      <td>0</td>\n      <td>0</td>\n      <td>0</td>\n      <td>0</td>\n      <td>...</td>\n      <td>29</td>\n      <td>1.0</td>\n      <td>0.0</td>\n      <td>0.03</td>\n      <td>0.0</td>\n      <td>0.0</td>\n      <td>0.0</td>\n      <td>0.0</td>\n      <td>0.0</td>\n      <td>normal.</td>\n    </tr>\n    <tr>\n      <th>3</th>\n      <td>0</td>\n      <td>1</td>\n      <td>22</td>\n      <td>9</td>\n      <td>219</td>\n      <td>1337</td>\n      <td>0</td>\n      <td>0</td>\n      <td>0</td>\n      <td>0</td>\n      <td>...</td>\n      <td>39</td>\n      <td>1.0</td>\n      <td>0.0</td>\n      <td>0.03</td>\n      <td>0.0</td>\n      <td>0.0</td>\n      <td>0.0</td>\n      <td>0.0</td>\n      <td>0.0</td>\n      <td>normal.</td>\n    </tr>\n    <tr>\n      <th>4</th>\n      <td>0</td>\n      <td>1</td>\n      <td>22</td>\n      <td>9</td>\n      <td>217</td>\n      <td>2032</td>\n      <td>0</td>\n      <td>0</td>\n      <td>0</td>\n      <td>0</td>\n      <td>...</td>\n      <td>49</td>\n      <td>1.0</td>\n      <td>0.0</td>\n      <td>0.02</td>\n      <td>0.0</td>\n      <td>0.0</td>\n      <td>0.0</td>\n      <td>0.0</td>\n      <td>0.0</td>\n      <td>normal.</td>\n    </tr>\n  </tbody>\n</table>\n<p>5 rows × 42 columns</p>\n</div>"
     },
     "metadata": {}
    }
   ]
  },
  {
   "cell_type": "code",
   "source": [
    "# 要求将类别标签中各种攻击类型，修改为“异常”类别，数据集转换为“正常”和“异常”两个类别。\n",
    "# 1.将类别标签中各种攻击类型，修改为“异常”类别\n",
    "\n",
    "data[41]=data[41].replace(['back.','buffer_overflow.','ftp_write.','guess_passwd.','imap.','ipsweep.','land.','loadmodule.','multihop.','neptune.','nmap.','perl.','phf.','pod.','portsweep.','rootkit.','satan.','smurf.','spy.','teardrop.','warezclient.','warezmaster.'],'Abnormal')\n",
    "data[41]=data[41].replace(['normal.'],'normal')\n",
    "data[41].value_counts()"
   ],
   "metadata": {
    "execution": {
     "iopub.status.busy": "2023-06-03T00:30:51.334943Z",
     "iopub.execute_input": "2023-06-03T00:30:51.335348Z",
     "iopub.status.idle": "2023-06-03T00:30:52.278942Z",
     "shell.execute_reply.started": "2023-06-03T00:30:51.335315Z",
     "shell.execute_reply": "2023-06-03T00:30:52.277771Z"
    },
    "trusted": true
   },
   "execution_count": 6,
   "outputs": [
    {
     "execution_count": 6,
     "output_type": "execute_result",
     "data": {
      "text/plain": "Abnormal    396743\nnormal       97278\nName: 41, dtype: int64"
     },
     "metadata": {}
    }
   ]
  },
  {
   "cell_type": "code",
   "source": [
    "data.head()"
   ],
   "metadata": {
    "execution": {
     "iopub.status.busy": "2023-06-03T00:30:52.281132Z",
     "iopub.execute_input": "2023-06-03T00:30:52.281542Z",
     "iopub.status.idle": "2023-06-03T00:30:52.312357Z",
     "shell.execute_reply.started": "2023-06-03T00:30:52.281510Z",
     "shell.execute_reply": "2023-06-03T00:30:52.311037Z"
    },
    "trusted": true
   },
   "execution_count": 7,
   "outputs": [
    {
     "execution_count": 7,
     "output_type": "execute_result",
     "data": {
      "text/plain": "   0   1   2   3    4     5   6   7   8   9   ...  32   33   34    35   36  \\\n0   0   1  22   9  181  5450   0   0   0   0  ...   9  1.0  0.0  0.11  0.0   \n1   0   1  22   9  239   486   0   0   0   0  ...  19  1.0  0.0  0.05  0.0   \n2   0   1  22   9  235  1337   0   0   0   0  ...  29  1.0  0.0  0.03  0.0   \n3   0   1  22   9  219  1337   0   0   0   0  ...  39  1.0  0.0  0.03  0.0   \n4   0   1  22   9  217  2032   0   0   0   0  ...  49  1.0  0.0  0.02  0.0   \n\n    37   38   39   40      41  \n0  0.0  0.0  0.0  0.0  normal  \n1  0.0  0.0  0.0  0.0  normal  \n2  0.0  0.0  0.0  0.0  normal  \n3  0.0  0.0  0.0  0.0  normal  \n4  0.0  0.0  0.0  0.0  normal  \n\n[5 rows x 42 columns]",
      "text/html": "<div>\n<style scoped>\n    .dataframe tbody tr th:only-of-type {\n        vertical-align: middle;\n    }\n\n    .dataframe tbody tr th {\n        vertical-align: top;\n    }\n\n    .dataframe thead th {\n        text-align: right;\n    }\n</style>\n<table border=\"1\" class=\"dataframe\">\n  <thead>\n    <tr style=\"text-align: right;\">\n      <th></th>\n      <th>0</th>\n      <th>1</th>\n      <th>2</th>\n      <th>3</th>\n      <th>4</th>\n      <th>5</th>\n      <th>6</th>\n      <th>7</th>\n      <th>8</th>\n      <th>9</th>\n      <th>...</th>\n      <th>32</th>\n      <th>33</th>\n      <th>34</th>\n      <th>35</th>\n      <th>36</th>\n      <th>37</th>\n      <th>38</th>\n      <th>39</th>\n      <th>40</th>\n      <th>41</th>\n    </tr>\n  </thead>\n  <tbody>\n    <tr>\n      <th>0</th>\n      <td>0</td>\n      <td>1</td>\n      <td>22</td>\n      <td>9</td>\n      <td>181</td>\n      <td>5450</td>\n      <td>0</td>\n      <td>0</td>\n      <td>0</td>\n      <td>0</td>\n      <td>...</td>\n      <td>9</td>\n      <td>1.0</td>\n      <td>0.0</td>\n      <td>0.11</td>\n      <td>0.0</td>\n      <td>0.0</td>\n      <td>0.0</td>\n      <td>0.0</td>\n      <td>0.0</td>\n      <td>normal</td>\n    </tr>\n    <tr>\n      <th>1</th>\n      <td>0</td>\n      <td>1</td>\n      <td>22</td>\n      <td>9</td>\n      <td>239</td>\n      <td>486</td>\n      <td>0</td>\n      <td>0</td>\n      <td>0</td>\n      <td>0</td>\n      <td>...</td>\n      <td>19</td>\n      <td>1.0</td>\n      <td>0.0</td>\n      <td>0.05</td>\n      <td>0.0</td>\n      <td>0.0</td>\n      <td>0.0</td>\n      <td>0.0</td>\n      <td>0.0</td>\n      <td>normal</td>\n    </tr>\n    <tr>\n      <th>2</th>\n      <td>0</td>\n      <td>1</td>\n      <td>22</td>\n      <td>9</td>\n      <td>235</td>\n      <td>1337</td>\n      <td>0</td>\n      <td>0</td>\n      <td>0</td>\n      <td>0</td>\n      <td>...</td>\n      <td>29</td>\n      <td>1.0</td>\n      <td>0.0</td>\n      <td>0.03</td>\n      <td>0.0</td>\n      <td>0.0</td>\n      <td>0.0</td>\n      <td>0.0</td>\n      <td>0.0</td>\n      <td>normal</td>\n    </tr>\n    <tr>\n      <th>3</th>\n      <td>0</td>\n      <td>1</td>\n      <td>22</td>\n      <td>9</td>\n      <td>219</td>\n      <td>1337</td>\n      <td>0</td>\n      <td>0</td>\n      <td>0</td>\n      <td>0</td>\n      <td>...</td>\n      <td>39</td>\n      <td>1.0</td>\n      <td>0.0</td>\n      <td>0.03</td>\n      <td>0.0</td>\n      <td>0.0</td>\n      <td>0.0</td>\n      <td>0.0</td>\n      <td>0.0</td>\n      <td>normal</td>\n    </tr>\n    <tr>\n      <th>4</th>\n      <td>0</td>\n      <td>1</td>\n      <td>22</td>\n      <td>9</td>\n      <td>217</td>\n      <td>2032</td>\n      <td>0</td>\n      <td>0</td>\n      <td>0</td>\n      <td>0</td>\n      <td>...</td>\n      <td>49</td>\n      <td>1.0</td>\n      <td>0.0</td>\n      <td>0.02</td>\n      <td>0.0</td>\n      <td>0.0</td>\n      <td>0.0</td>\n      <td>0.0</td>\n      <td>0.0</td>\n      <td>normal</td>\n    </tr>\n  </tbody>\n</table>\n<p>5 rows × 42 columns</p>\n</div>"
     },
     "metadata": {}
    }
   ]
  },
  {
   "cell_type": "code",
   "source": [
    "# 数据集转换为“正常”和“异常”两个类别。\n",
    "data[41]=data[41].replace(['Abnormal'],'1')\n",
    "data[41]=data[41].replace(['normal'],'0')\n",
    "data[41].value_counts()"
   ],
   "metadata": {
    "execution": {
     "iopub.status.busy": "2023-06-03T00:30:52.313746Z",
     "iopub.execute_input": "2023-06-03T00:30:52.314331Z",
     "iopub.status.idle": "2023-06-03T00:30:52.604443Z",
     "shell.execute_reply.started": "2023-06-03T00:30:52.314295Z",
     "shell.execute_reply": "2023-06-03T00:30:52.603068Z"
    },
    "trusted": true
   },
   "execution_count": 8,
   "outputs": [
    {
     "execution_count": 8,
     "output_type": "execute_result",
     "data": {
      "text/plain": "1    396743\n0     97278\nName: 41, dtype: int64"
     },
     "metadata": {}
    }
   ]
  },
  {
   "cell_type": "code",
   "source": [
    "data.head()"
   ],
   "metadata": {
    "execution": {
     "iopub.status.busy": "2023-06-03T00:30:52.605917Z",
     "iopub.execute_input": "2023-06-03T00:30:52.606629Z",
     "iopub.status.idle": "2023-06-03T00:30:52.636726Z",
     "shell.execute_reply.started": "2023-06-03T00:30:52.606595Z",
     "shell.execute_reply": "2023-06-03T00:30:52.635434Z"
    },
    "trusted": true
   },
   "execution_count": 9,
   "outputs": [
    {
     "execution_count": 9,
     "output_type": "execute_result",
     "data": {
      "text/plain": "   0   1   2   3    4     5   6   7   8   9   ...  32   33   34    35   36  \\\n0   0   1  22   9  181  5450   0   0   0   0  ...   9  1.0  0.0  0.11  0.0   \n1   0   1  22   9  239   486   0   0   0   0  ...  19  1.0  0.0  0.05  0.0   \n2   0   1  22   9  235  1337   0   0   0   0  ...  29  1.0  0.0  0.03  0.0   \n3   0   1  22   9  219  1337   0   0   0   0  ...  39  1.0  0.0  0.03  0.0   \n4   0   1  22   9  217  2032   0   0   0   0  ...  49  1.0  0.0  0.02  0.0   \n\n    37   38   39   40  41  \n0  0.0  0.0  0.0  0.0   0  \n1  0.0  0.0  0.0  0.0   0  \n2  0.0  0.0  0.0  0.0   0  \n3  0.0  0.0  0.0  0.0   0  \n4  0.0  0.0  0.0  0.0   0  \n\n[5 rows x 42 columns]",
      "text/html": "<div>\n<style scoped>\n    .dataframe tbody tr th:only-of-type {\n        vertical-align: middle;\n    }\n\n    .dataframe tbody tr th {\n        vertical-align: top;\n    }\n\n    .dataframe thead th {\n        text-align: right;\n    }\n</style>\n<table border=\"1\" class=\"dataframe\">\n  <thead>\n    <tr style=\"text-align: right;\">\n      <th></th>\n      <th>0</th>\n      <th>1</th>\n      <th>2</th>\n      <th>3</th>\n      <th>4</th>\n      <th>5</th>\n      <th>6</th>\n      <th>7</th>\n      <th>8</th>\n      <th>9</th>\n      <th>...</th>\n      <th>32</th>\n      <th>33</th>\n      <th>34</th>\n      <th>35</th>\n      <th>36</th>\n      <th>37</th>\n      <th>38</th>\n      <th>39</th>\n      <th>40</th>\n      <th>41</th>\n    </tr>\n  </thead>\n  <tbody>\n    <tr>\n      <th>0</th>\n      <td>0</td>\n      <td>1</td>\n      <td>22</td>\n      <td>9</td>\n      <td>181</td>\n      <td>5450</td>\n      <td>0</td>\n      <td>0</td>\n      <td>0</td>\n      <td>0</td>\n      <td>...</td>\n      <td>9</td>\n      <td>1.0</td>\n      <td>0.0</td>\n      <td>0.11</td>\n      <td>0.0</td>\n      <td>0.0</td>\n      <td>0.0</td>\n      <td>0.0</td>\n      <td>0.0</td>\n      <td>0</td>\n    </tr>\n    <tr>\n      <th>1</th>\n      <td>0</td>\n      <td>1</td>\n      <td>22</td>\n      <td>9</td>\n      <td>239</td>\n      <td>486</td>\n      <td>0</td>\n      <td>0</td>\n      <td>0</td>\n      <td>0</td>\n      <td>...</td>\n      <td>19</td>\n      <td>1.0</td>\n      <td>0.0</td>\n      <td>0.05</td>\n      <td>0.0</td>\n      <td>0.0</td>\n      <td>0.0</td>\n      <td>0.0</td>\n      <td>0.0</td>\n      <td>0</td>\n    </tr>\n    <tr>\n      <th>2</th>\n      <td>0</td>\n      <td>1</td>\n      <td>22</td>\n      <td>9</td>\n      <td>235</td>\n      <td>1337</td>\n      <td>0</td>\n      <td>0</td>\n      <td>0</td>\n      <td>0</td>\n      <td>...</td>\n      <td>29</td>\n      <td>1.0</td>\n      <td>0.0</td>\n      <td>0.03</td>\n      <td>0.0</td>\n      <td>0.0</td>\n      <td>0.0</td>\n      <td>0.0</td>\n      <td>0.0</td>\n      <td>0</td>\n    </tr>\n    <tr>\n      <th>3</th>\n      <td>0</td>\n      <td>1</td>\n      <td>22</td>\n      <td>9</td>\n      <td>219</td>\n      <td>1337</td>\n      <td>0</td>\n      <td>0</td>\n      <td>0</td>\n      <td>0</td>\n      <td>...</td>\n      <td>39</td>\n      <td>1.0</td>\n      <td>0.0</td>\n      <td>0.03</td>\n      <td>0.0</td>\n      <td>0.0</td>\n      <td>0.0</td>\n      <td>0.0</td>\n      <td>0.0</td>\n      <td>0</td>\n    </tr>\n    <tr>\n      <th>4</th>\n      <td>0</td>\n      <td>1</td>\n      <td>22</td>\n      <td>9</td>\n      <td>217</td>\n      <td>2032</td>\n      <td>0</td>\n      <td>0</td>\n      <td>0</td>\n      <td>0</td>\n      <td>...</td>\n      <td>49</td>\n      <td>1.0</td>\n      <td>0.0</td>\n      <td>0.02</td>\n      <td>0.0</td>\n      <td>0.0</td>\n      <td>0.0</td>\n      <td>0.0</td>\n      <td>0.0</td>\n      <td>0</td>\n    </tr>\n  </tbody>\n</table>\n<p>5 rows × 42 columns</p>\n</div>"
     },
     "metadata": {}
    }
   ]
  },
  {
   "cell_type": "markdown",
   "source": [
    "加载数据到变量X中，X=预处理并去除类别标签后的数据。类别标签仅用于模型评估\n"
   ],
   "metadata": {}
  },
  {
   "cell_type": "code",
   "source": [
    "# 加载数据到变量X中，X=预处理并去除类别标签后的数据。类别标签仅用于模型评估\n",
    "X=data.drop([41],axis=1)\n",
    "y=data[41]"
   ],
   "metadata": {
    "execution": {
     "iopub.status.busy": "2023-06-03T00:30:52.638072Z",
     "iopub.execute_input": "2023-06-03T00:30:52.638458Z",
     "iopub.status.idle": "2023-06-03T00:30:52.705346Z",
     "shell.execute_reply.started": "2023-06-03T00:30:52.638426Z",
     "shell.execute_reply": "2023-06-03T00:30:52.704327Z"
    },
    "trusted": true
   },
   "execution_count": 10,
   "outputs": []
  },
  {
   "cell_type": "code",
   "source": [
    "X.head()"
   ],
   "metadata": {
    "execution": {
     "iopub.status.busy": "2023-06-03T00:30:52.706843Z",
     "iopub.execute_input": "2023-06-03T00:30:52.707470Z",
     "iopub.status.idle": "2023-06-03T00:30:52.742639Z",
     "shell.execute_reply.started": "2023-06-03T00:30:52.707428Z",
     "shell.execute_reply": "2023-06-03T00:30:52.741475Z"
    },
    "trusted": true
   },
   "execution_count": 11,
   "outputs": [
    {
     "execution_count": 11,
     "output_type": "execute_result",
     "data": {
      "text/plain": "   0   1   2   3    4     5   6   7   8   9   ...  31  32   33   34    35  \\\n0   0   1  22   9  181  5450   0   0   0   0  ...   9   9  1.0  0.0  0.11   \n1   0   1  22   9  239   486   0   0   0   0  ...  19  19  1.0  0.0  0.05   \n2   0   1  22   9  235  1337   0   0   0   0  ...  29  29  1.0  0.0  0.03   \n3   0   1  22   9  219  1337   0   0   0   0  ...  39  39  1.0  0.0  0.03   \n4   0   1  22   9  217  2032   0   0   0   0  ...  49  49  1.0  0.0  0.02   \n\n    36   37   38   39   40  \n0  0.0  0.0  0.0  0.0  0.0  \n1  0.0  0.0  0.0  0.0  0.0  \n2  0.0  0.0  0.0  0.0  0.0  \n3  0.0  0.0  0.0  0.0  0.0  \n4  0.0  0.0  0.0  0.0  0.0  \n\n[5 rows x 41 columns]",
      "text/html": "<div>\n<style scoped>\n    .dataframe tbody tr th:only-of-type {\n        vertical-align: middle;\n    }\n\n    .dataframe tbody tr th {\n        vertical-align: top;\n    }\n\n    .dataframe thead th {\n        text-align: right;\n    }\n</style>\n<table border=\"1\" class=\"dataframe\">\n  <thead>\n    <tr style=\"text-align: right;\">\n      <th></th>\n      <th>0</th>\n      <th>1</th>\n      <th>2</th>\n      <th>3</th>\n      <th>4</th>\n      <th>5</th>\n      <th>6</th>\n      <th>7</th>\n      <th>8</th>\n      <th>9</th>\n      <th>...</th>\n      <th>31</th>\n      <th>32</th>\n      <th>33</th>\n      <th>34</th>\n      <th>35</th>\n      <th>36</th>\n      <th>37</th>\n      <th>38</th>\n      <th>39</th>\n      <th>40</th>\n    </tr>\n  </thead>\n  <tbody>\n    <tr>\n      <th>0</th>\n      <td>0</td>\n      <td>1</td>\n      <td>22</td>\n      <td>9</td>\n      <td>181</td>\n      <td>5450</td>\n      <td>0</td>\n      <td>0</td>\n      <td>0</td>\n      <td>0</td>\n      <td>...</td>\n      <td>9</td>\n      <td>9</td>\n      <td>1.0</td>\n      <td>0.0</td>\n      <td>0.11</td>\n      <td>0.0</td>\n      <td>0.0</td>\n      <td>0.0</td>\n      <td>0.0</td>\n      <td>0.0</td>\n    </tr>\n    <tr>\n      <th>1</th>\n      <td>0</td>\n      <td>1</td>\n      <td>22</td>\n      <td>9</td>\n      <td>239</td>\n      <td>486</td>\n      <td>0</td>\n      <td>0</td>\n      <td>0</td>\n      <td>0</td>\n      <td>...</td>\n      <td>19</td>\n      <td>19</td>\n      <td>1.0</td>\n      <td>0.0</td>\n      <td>0.05</td>\n      <td>0.0</td>\n      <td>0.0</td>\n      <td>0.0</td>\n      <td>0.0</td>\n      <td>0.0</td>\n    </tr>\n    <tr>\n      <th>2</th>\n      <td>0</td>\n      <td>1</td>\n      <td>22</td>\n      <td>9</td>\n      <td>235</td>\n      <td>1337</td>\n      <td>0</td>\n      <td>0</td>\n      <td>0</td>\n      <td>0</td>\n      <td>...</td>\n      <td>29</td>\n      <td>29</td>\n      <td>1.0</td>\n      <td>0.0</td>\n      <td>0.03</td>\n      <td>0.0</td>\n      <td>0.0</td>\n      <td>0.0</td>\n      <td>0.0</td>\n      <td>0.0</td>\n    </tr>\n    <tr>\n      <th>3</th>\n      <td>0</td>\n      <td>1</td>\n      <td>22</td>\n      <td>9</td>\n      <td>219</td>\n      <td>1337</td>\n      <td>0</td>\n      <td>0</td>\n      <td>0</td>\n      <td>0</td>\n      <td>...</td>\n      <td>39</td>\n      <td>39</td>\n      <td>1.0</td>\n      <td>0.0</td>\n      <td>0.03</td>\n      <td>0.0</td>\n      <td>0.0</td>\n      <td>0.0</td>\n      <td>0.0</td>\n      <td>0.0</td>\n    </tr>\n    <tr>\n      <th>4</th>\n      <td>0</td>\n      <td>1</td>\n      <td>22</td>\n      <td>9</td>\n      <td>217</td>\n      <td>2032</td>\n      <td>0</td>\n      <td>0</td>\n      <td>0</td>\n      <td>0</td>\n      <td>...</td>\n      <td>49</td>\n      <td>49</td>\n      <td>1.0</td>\n      <td>0.0</td>\n      <td>0.02</td>\n      <td>0.0</td>\n      <td>0.0</td>\n      <td>0.0</td>\n      <td>0.0</td>\n      <td>0.0</td>\n    </tr>\n  </tbody>\n</table>\n<p>5 rows × 41 columns</p>\n</div>"
     },
     "metadata": {}
    }
   ]
  },
  {
   "cell_type": "code",
   "source": [
    "y.head()"
   ],
   "metadata": {
    "execution": {
     "iopub.status.busy": "2023-06-03T00:30:52.748703Z",
     "iopub.execute_input": "2023-06-03T00:30:52.749104Z",
     "iopub.status.idle": "2023-06-03T00:30:52.760572Z",
     "shell.execute_reply.started": "2023-06-03T00:30:52.749069Z",
     "shell.execute_reply": "2023-06-03T00:30:52.759052Z"
    },
    "trusted": true
   },
   "execution_count": 12,
   "outputs": [
    {
     "execution_count": 12,
     "output_type": "execute_result",
     "data": {
      "text/plain": "0    0\n1    0\n2    0\n3    0\n4    0\nName: 41, dtype: object"
     },
     "metadata": {}
    }
   ]
  },
  {
   "cell_type": "markdown",
   "source": [
    "分别使用Isolation Forest算法和Local Outlier Factor算法，训练模型，并输出预测结果y_pred，"
   ],
   "metadata": {}
  },
  {
   "cell_type": "code",
   "source": [
    "# 分别使用Isolation Forest算法和Local Outlier Factor算法，训练模型，并输出预测结果y_pred，\n",
    "# 评估模型性能，输出模型的精度、召回率、F1值、ROC曲线、AUC值等评价指标。\n",
    "\n",
    "# 使用Isolation Forest算法\n",
    "from sklearn.ensemble import IsolationForest\n",
    "from sklearn.metrics import classification_report,roc_curve,auc\n",
    "\n",
    "# 训练模型\n",
    "clf=IsolationForest(max_samples=100,random_state=42)\n",
    "clf.fit(X)"
   ],
   "metadata": {
    "execution": {
     "iopub.status.busy": "2023-06-03T00:30:52.763503Z",
     "iopub.execute_input": "2023-06-03T00:30:52.764093Z",
     "iopub.status.idle": "2023-06-03T00:30:54.178832Z",
     "shell.execute_reply.started": "2023-06-03T00:30:52.764040Z",
     "shell.execute_reply": "2023-06-03T00:30:54.176466Z"
    },
    "trusted": true
   },
   "execution_count": 13,
   "outputs": [
    {
     "execution_count": 13,
     "output_type": "execute_result",
     "data": {
      "text/plain": "IsolationForest(max_samples=100, random_state=42)",
      "text/html": "<style>#sk-container-id-1 {color: black;background-color: white;}#sk-container-id-1 pre{padding: 0;}#sk-container-id-1 div.sk-toggleable {background-color: white;}#sk-container-id-1 label.sk-toggleable__label {cursor: pointer;display: block;width: 100%;margin-bottom: 0;padding: 0.3em;box-sizing: border-box;text-align: center;}#sk-container-id-1 label.sk-toggleable__label-arrow:before {content: \"▸\";float: left;margin-right: 0.25em;color: #696969;}#sk-container-id-1 label.sk-toggleable__label-arrow:hover:before {color: black;}#sk-container-id-1 div.sk-estimator:hover label.sk-toggleable__label-arrow:before {color: black;}#sk-container-id-1 div.sk-toggleable__content {max-height: 0;max-width: 0;overflow: hidden;text-align: left;background-color: #f0f8ff;}#sk-container-id-1 div.sk-toggleable__content pre {margin: 0.2em;color: black;border-radius: 0.25em;background-color: #f0f8ff;}#sk-container-id-1 input.sk-toggleable__control:checked~div.sk-toggleable__content {max-height: 200px;max-width: 100%;overflow: auto;}#sk-container-id-1 input.sk-toggleable__control:checked~label.sk-toggleable__label-arrow:before {content: \"▾\";}#sk-container-id-1 div.sk-estimator input.sk-toggleable__control:checked~label.sk-toggleable__label {background-color: #d4ebff;}#sk-container-id-1 div.sk-label input.sk-toggleable__control:checked~label.sk-toggleable__label {background-color: #d4ebff;}#sk-container-id-1 input.sk-hidden--visually {border: 0;clip: rect(1px 1px 1px 1px);clip: rect(1px, 1px, 1px, 1px);height: 1px;margin: -1px;overflow: hidden;padding: 0;position: absolute;width: 1px;}#sk-container-id-1 div.sk-estimator {font-family: monospace;background-color: #f0f8ff;border: 1px dotted black;border-radius: 0.25em;box-sizing: border-box;margin-bottom: 0.5em;}#sk-container-id-1 div.sk-estimator:hover {background-color: #d4ebff;}#sk-container-id-1 div.sk-parallel-item::after {content: \"\";width: 100%;border-bottom: 1px solid gray;flex-grow: 1;}#sk-container-id-1 div.sk-label:hover label.sk-toggleable__label {background-color: #d4ebff;}#sk-container-id-1 div.sk-serial::before {content: \"\";position: absolute;border-left: 1px solid gray;box-sizing: border-box;top: 0;bottom: 0;left: 50%;z-index: 0;}#sk-container-id-1 div.sk-serial {display: flex;flex-direction: column;align-items: center;background-color: white;padding-right: 0.2em;padding-left: 0.2em;position: relative;}#sk-container-id-1 div.sk-item {position: relative;z-index: 1;}#sk-container-id-1 div.sk-parallel {display: flex;align-items: stretch;justify-content: center;background-color: white;position: relative;}#sk-container-id-1 div.sk-item::before, #sk-container-id-1 div.sk-parallel-item::before {content: \"\";position: absolute;border-left: 1px solid gray;box-sizing: border-box;top: 0;bottom: 0;left: 50%;z-index: -1;}#sk-container-id-1 div.sk-parallel-item {display: flex;flex-direction: column;z-index: 1;position: relative;background-color: white;}#sk-container-id-1 div.sk-parallel-item:first-child::after {align-self: flex-end;width: 50%;}#sk-container-id-1 div.sk-parallel-item:last-child::after {align-self: flex-start;width: 50%;}#sk-container-id-1 div.sk-parallel-item:only-child::after {width: 0;}#sk-container-id-1 div.sk-dashed-wrapped {border: 1px dashed gray;margin: 0 0.4em 0.5em 0.4em;box-sizing: border-box;padding-bottom: 0.4em;background-color: white;}#sk-container-id-1 div.sk-label label {font-family: monospace;font-weight: bold;display: inline-block;line-height: 1.2em;}#sk-container-id-1 div.sk-label-container {text-align: center;}#sk-container-id-1 div.sk-container {/* jupyter's `normalize.less` sets `[hidden] { display: none; }` but bootstrap.min.css set `[hidden] { display: none !important; }` so we also need the `!important` here to be able to override the default hidden behavior on the sphinx rendered scikit-learn.org. See: https://github.com/scikit-learn/scikit-learn/issues/21755 */display: inline-block !important;position: relative;}#sk-container-id-1 div.sk-text-repr-fallback {display: none;}</style><div id=\"sk-container-id-1\" class=\"sk-top-container\"><div class=\"sk-text-repr-fallback\"><pre>IsolationForest(max_samples=100, random_state=42)</pre><b>In a Jupyter environment, please rerun this cell to show the HTML representation or trust the notebook. <br />On GitHub, the HTML representation is unable to render, please try loading this page with nbviewer.org.</b></div><div class=\"sk-container\" hidden><div class=\"sk-item\"><div class=\"sk-estimator sk-toggleable\"><input class=\"sk-toggleable__control sk-hidden--visually\" id=\"sk-estimator-id-1\" type=\"checkbox\" checked><label for=\"sk-estimator-id-1\" class=\"sk-toggleable__label sk-toggleable__label-arrow\">IsolationForest</label><div class=\"sk-toggleable__content\"><pre>IsolationForest(max_samples=100, random_state=42)</pre></div></div></div></div></div>"
     },
     "metadata": {}
    }
   ]
  },
  {
   "cell_type": "code",
   "source": [
    "# 预测结果\n",
    "y_pred=clf.predict(X)\n",
    "y_pred"
   ],
   "metadata": {
    "execution": {
     "iopub.status.busy": "2023-06-03T00:30:54.180468Z",
     "iopub.execute_input": "2023-06-03T00:30:54.180813Z",
     "iopub.status.idle": "2023-06-03T00:31:09.001872Z",
     "shell.execute_reply.started": "2023-06-03T00:30:54.180785Z",
     "shell.execute_reply": "2023-06-03T00:31:09.000437Z"
    },
    "trusted": true
   },
   "execution_count": 14,
   "outputs": [
    {
     "execution_count": 14,
     "output_type": "execute_result",
     "data": {
      "text/plain": "array([-1,  1,  1, ..., -1, -1, -1])"
     },
     "metadata": {}
    }
   ]
  },
  {
   "cell_type": "code",
   "source": [
    "# 看y_pred的数据分布\n",
    "pd.Series(y_pred).value_counts()"
   ],
   "metadata": {
    "execution": {
     "iopub.status.busy": "2023-06-03T00:31:09.004112Z",
     "iopub.execute_input": "2023-06-03T00:31:09.004857Z",
     "iopub.status.idle": "2023-06-03T00:31:09.020690Z",
     "shell.execute_reply.started": "2023-06-03T00:31:09.004807Z",
     "shell.execute_reply": "2023-06-03T00:31:09.019602Z"
    },
    "trusted": true
   },
   "execution_count": 15,
   "outputs": [
    {
     "execution_count": 15,
     "output_type": "execute_result",
     "data": {
      "text/plain": " 1    382747\n-1    111274\ndtype: int64"
     },
     "metadata": {}
    }
   ]
  },
  {
   "cell_type": "code",
   "source": [
    "y.value_counts()"
   ],
   "metadata": {
    "execution": {
     "iopub.status.busy": "2023-06-03T00:31:09.022152Z",
     "iopub.execute_input": "2023-06-03T00:31:09.022829Z",
     "iopub.status.idle": "2023-06-03T00:31:09.097938Z",
     "shell.execute_reply.started": "2023-06-03T00:31:09.022796Z",
     "shell.execute_reply": "2023-06-03T00:31:09.096793Z"
    },
    "trusted": true
   },
   "execution_count": 16,
   "outputs": [
    {
     "execution_count": 16,
     "output_type": "execute_result",
     "data": {
      "text/plain": "1    396743\n0     97278\nName: 41, dtype: int64"
     },
     "metadata": {}
    }
   ]
  },
  {
   "cell_type": "code",
   "source": [
    "#把-1改成0 1改成1\n",
    "y_pred=pd.Series(list(map(lambda x:1 if x==0 else 1,y_pred)))"
   ],
   "metadata": {
    "execution": {
     "iopub.status.busy": "2023-06-03T00:31:09.099988Z",
     "iopub.execute_input": "2023-06-03T00:31:09.100608Z",
     "iopub.status.idle": "2023-06-03T00:31:09.529499Z",
     "shell.execute_reply.started": "2023-06-03T00:31:09.100573Z",
     "shell.execute_reply": "2023-06-03T00:31:09.528411Z"
    },
    "trusted": true
   },
   "execution_count": 17,
   "outputs": []
  },
  {
   "cell_type": "code",
   "source": [
    "# 解决y_pred和y的索引不一致的问题\n",
    "y_pred.index=range(y_pred.shape[0])"
   ],
   "metadata": {
    "execution": {
     "iopub.status.busy": "2023-06-03T00:31:09.531099Z",
     "iopub.execute_input": "2023-06-03T00:31:09.531534Z",
     "iopub.status.idle": "2023-06-03T00:31:09.537089Z",
     "shell.execute_reply.started": "2023-06-03T00:31:09.531502Z",
     "shell.execute_reply": "2023-06-03T00:31:09.535849Z"
    },
    "trusted": true
   },
   "execution_count": 18,
   "outputs": []
  },
  {
   "cell_type": "code",
   "source": [
    "# 解决下面报错：Labels in y_true and y_pred should be of the same type. Got y_true=['0' '1'] and y_pred=[0 1]. Make sure that the predictions provided by the classifier coincides with the true labels.\n",
    "y=y.astype('int')"
   ],
   "metadata": {
    "execution": {
     "iopub.status.busy": "2023-06-03T00:31:09.538782Z",
     "iopub.execute_input": "2023-06-03T00:31:09.539558Z",
     "iopub.status.idle": "2023-06-03T00:31:09.616318Z",
     "shell.execute_reply.started": "2023-06-03T00:31:09.539518Z",
     "shell.execute_reply": "2023-06-03T00:31:09.615052Z"
    },
    "trusted": true
   },
   "execution_count": 19,
   "outputs": []
  },
  {
   "cell_type": "code",
   "source": [
    "# 计算错误率\n",
    "import numpy as np\n",
    "\n",
    "n_error=(y_pred!=y).sum()\n",
    "print('Isolation Forest算法错误率：',n_error/len(y))"
   ],
   "metadata": {
    "execution": {
     "iopub.status.busy": "2023-06-03T00:31:09.617662Z",
     "iopub.execute_input": "2023-06-03T00:31:09.618009Z",
     "iopub.status.idle": "2023-06-03T00:31:09.634737Z",
     "shell.execute_reply.started": "2023-06-03T00:31:09.617982Z",
     "shell.execute_reply": "2023-06-03T00:31:09.633543Z"
    },
    "trusted": true
   },
   "execution_count": 20,
   "outputs": [
    {
     "name": "stdout",
     "text": "Isolation Forest算法错误率： 0.19691065764410826\n",
     "output_type": "stream"
    }
   ]
  },
  {
   "cell_type": "code",
   "source": [
    "# 评估模型性能\n",
    "print(classification_report(y,y_pred))"
   ],
   "metadata": {
    "execution": {
     "iopub.status.busy": "2023-06-03T00:31:09.635978Z",
     "iopub.execute_input": "2023-06-03T00:31:09.636438Z",
     "iopub.status.idle": "2023-06-03T00:31:10.272002Z",
     "shell.execute_reply.started": "2023-06-03T00:31:09.636399Z",
     "shell.execute_reply": "2023-06-03T00:31:10.270864Z"
    },
    "trusted": true
   },
   "execution_count": 21,
   "outputs": [
    {
     "name": "stderr",
     "text": "/opt/conda/lib/python3.10/site-packages/sklearn/metrics/_classification.py:1344: UndefinedMetricWarning: Precision and F-score are ill-defined and being set to 0.0 in labels with no predicted samples. Use `zero_division` parameter to control this behavior.\n  _warn_prf(average, modifier, msg_start, len(result))\n",
     "output_type": "stream"
    },
    {
     "name": "stdout",
     "text": "              precision    recall  f1-score   support\n\n           0       0.00      0.00      0.00     97278\n           1       0.80      1.00      0.89    396743\n\n    accuracy                           0.80    494021\n   macro avg       0.40      0.50      0.45    494021\nweighted avg       0.64      0.80      0.72    494021\n\n",
     "output_type": "stream"
    },
    {
     "name": "stderr",
     "text": "/opt/conda/lib/python3.10/site-packages/sklearn/metrics/_classification.py:1344: UndefinedMetricWarning: Precision and F-score are ill-defined and being set to 0.0 in labels with no predicted samples. Use `zero_division` parameter to control this behavior.\n  _warn_prf(average, modifier, msg_start, len(result))\n/opt/conda/lib/python3.10/site-packages/sklearn/metrics/_classification.py:1344: UndefinedMetricWarning: Precision and F-score are ill-defined and being set to 0.0 in labels with no predicted samples. Use `zero_division` parameter to control this behavior.\n  _warn_prf(average, modifier, msg_start, len(result))\n",
     "output_type": "stream"
    }
   ]
  },
  {
   "cell_type": "code",
   "source": [
    "# 使用 Local Outlier Factor算法\n",
    "from sklearn.neighbors import LocalOutlierFactor\n",
    "\n",
    "# 训练模型\n",
    "clf=LocalOutlierFactor(n_neighbors=20,contamination=0.1)\n",
    "clf.fit(X)"
   ],
   "metadata": {
    "execution": {
     "iopub.status.busy": "2023-06-03T00:31:10.273710Z",
     "iopub.execute_input": "2023-06-03T00:31:10.274067Z",
     "iopub.status.idle": "2023-06-03T00:44:15.403961Z",
     "shell.execute_reply.started": "2023-06-03T00:31:10.274037Z",
     "shell.execute_reply": "2023-06-03T00:44:15.402721Z"
    },
    "trusted": true
   },
   "execution_count": 22,
   "outputs": [
    {
     "execution_count": 22,
     "output_type": "execute_result",
     "data": {
      "text/plain": "LocalOutlierFactor(contamination=0.1)",
      "text/html": "<style>#sk-container-id-2 {color: black;background-color: white;}#sk-container-id-2 pre{padding: 0;}#sk-container-id-2 div.sk-toggleable {background-color: white;}#sk-container-id-2 label.sk-toggleable__label {cursor: pointer;display: block;width: 100%;margin-bottom: 0;padding: 0.3em;box-sizing: border-box;text-align: center;}#sk-container-id-2 label.sk-toggleable__label-arrow:before {content: \"▸\";float: left;margin-right: 0.25em;color: #696969;}#sk-container-id-2 label.sk-toggleable__label-arrow:hover:before {color: black;}#sk-container-id-2 div.sk-estimator:hover label.sk-toggleable__label-arrow:before {color: black;}#sk-container-id-2 div.sk-toggleable__content {max-height: 0;max-width: 0;overflow: hidden;text-align: left;background-color: #f0f8ff;}#sk-container-id-2 div.sk-toggleable__content pre {margin: 0.2em;color: black;border-radius: 0.25em;background-color: #f0f8ff;}#sk-container-id-2 input.sk-toggleable__control:checked~div.sk-toggleable__content {max-height: 200px;max-width: 100%;overflow: auto;}#sk-container-id-2 input.sk-toggleable__control:checked~label.sk-toggleable__label-arrow:before {content: \"▾\";}#sk-container-id-2 div.sk-estimator input.sk-toggleable__control:checked~label.sk-toggleable__label {background-color: #d4ebff;}#sk-container-id-2 div.sk-label input.sk-toggleable__control:checked~label.sk-toggleable__label {background-color: #d4ebff;}#sk-container-id-2 input.sk-hidden--visually {border: 0;clip: rect(1px 1px 1px 1px);clip: rect(1px, 1px, 1px, 1px);height: 1px;margin: -1px;overflow: hidden;padding: 0;position: absolute;width: 1px;}#sk-container-id-2 div.sk-estimator {font-family: monospace;background-color: #f0f8ff;border: 1px dotted black;border-radius: 0.25em;box-sizing: border-box;margin-bottom: 0.5em;}#sk-container-id-2 div.sk-estimator:hover {background-color: #d4ebff;}#sk-container-id-2 div.sk-parallel-item::after {content: \"\";width: 100%;border-bottom: 1px solid gray;flex-grow: 1;}#sk-container-id-2 div.sk-label:hover label.sk-toggleable__label {background-color: #d4ebff;}#sk-container-id-2 div.sk-serial::before {content: \"\";position: absolute;border-left: 1px solid gray;box-sizing: border-box;top: 0;bottom: 0;left: 50%;z-index: 0;}#sk-container-id-2 div.sk-serial {display: flex;flex-direction: column;align-items: center;background-color: white;padding-right: 0.2em;padding-left: 0.2em;position: relative;}#sk-container-id-2 div.sk-item {position: relative;z-index: 1;}#sk-container-id-2 div.sk-parallel {display: flex;align-items: stretch;justify-content: center;background-color: white;position: relative;}#sk-container-id-2 div.sk-item::before, #sk-container-id-2 div.sk-parallel-item::before {content: \"\";position: absolute;border-left: 1px solid gray;box-sizing: border-box;top: 0;bottom: 0;left: 50%;z-index: -1;}#sk-container-id-2 div.sk-parallel-item {display: flex;flex-direction: column;z-index: 1;position: relative;background-color: white;}#sk-container-id-2 div.sk-parallel-item:first-child::after {align-self: flex-end;width: 50%;}#sk-container-id-2 div.sk-parallel-item:last-child::after {align-self: flex-start;width: 50%;}#sk-container-id-2 div.sk-parallel-item:only-child::after {width: 0;}#sk-container-id-2 div.sk-dashed-wrapped {border: 1px dashed gray;margin: 0 0.4em 0.5em 0.4em;box-sizing: border-box;padding-bottom: 0.4em;background-color: white;}#sk-container-id-2 div.sk-label label {font-family: monospace;font-weight: bold;display: inline-block;line-height: 1.2em;}#sk-container-id-2 div.sk-label-container {text-align: center;}#sk-container-id-2 div.sk-container {/* jupyter's `normalize.less` sets `[hidden] { display: none; }` but bootstrap.min.css set `[hidden] { display: none !important; }` so we also need the `!important` here to be able to override the default hidden behavior on the sphinx rendered scikit-learn.org. See: https://github.com/scikit-learn/scikit-learn/issues/21755 */display: inline-block !important;position: relative;}#sk-container-id-2 div.sk-text-repr-fallback {display: none;}</style><div id=\"sk-container-id-2\" class=\"sk-top-container\"><div class=\"sk-text-repr-fallback\"><pre>LocalOutlierFactor(contamination=0.1)</pre><b>In a Jupyter environment, please rerun this cell to show the HTML representation or trust the notebook. <br />On GitHub, the HTML representation is unable to render, please try loading this page with nbviewer.org.</b></div><div class=\"sk-container\" hidden><div class=\"sk-item\"><div class=\"sk-estimator sk-toggleable\"><input class=\"sk-toggleable__control sk-hidden--visually\" id=\"sk-estimator-id-2\" type=\"checkbox\" checked><label for=\"sk-estimator-id-2\" class=\"sk-toggleable__label sk-toggleable__label-arrow\">LocalOutlierFactor</label><div class=\"sk-toggleable__content\"><pre>LocalOutlierFactor(contamination=0.1)</pre></div></div></div></div></div>"
     },
     "metadata": {}
    }
   ]
  },
  {
   "cell_type": "code",
   "source": [
    "# 预测结果\n",
    "y_pred=clf.fit_predict(X)\n",
    "y_pred"
   ],
   "metadata": {
    "execution": {
     "iopub.status.busy": "2023-06-03T00:44:15.405584Z",
     "iopub.execute_input": "2023-06-03T00:44:15.405900Z",
     "iopub.status.idle": "2023-06-03T00:57:15.382010Z",
     "shell.execute_reply.started": "2023-06-03T00:44:15.405874Z",
     "shell.execute_reply": "2023-06-03T00:57:15.380901Z"
    },
    "trusted": true
   },
   "execution_count": 23,
   "outputs": [
    {
     "execution_count": 23,
     "output_type": "execute_result",
     "data": {
      "text/plain": "array([-1,  1,  1, ...,  1,  1, -1])"
     },
     "metadata": {}
    }
   ]
  },
  {
   "cell_type": "code",
   "source": [
    "# 看y_pred的数据分布\n",
    "pd.Series(y_pred).value_counts()"
   ],
   "metadata": {
    "execution": {
     "iopub.status.busy": "2023-06-03T00:57:15.383679Z",
     "iopub.execute_input": "2023-06-03T00:57:15.384262Z",
     "iopub.status.idle": "2023-06-03T00:57:15.400895Z",
     "shell.execute_reply.started": "2023-06-03T00:57:15.384220Z",
     "shell.execute_reply": "2023-06-03T00:57:15.399652Z"
    },
    "trusted": true
   },
   "execution_count": 24,
   "outputs": [
    {
     "execution_count": 24,
     "output_type": "execute_result",
     "data": {
      "text/plain": " 1    444619\n-1     49402\ndtype: int64"
     },
     "metadata": {}
    }
   ]
  },
  {
   "cell_type": "code",
   "source": [
    "# 将-1改成0，1改成1\n",
    "y_pred=pd.Series(list(map(lambda x:1 if x==1 else 0,y_pred)))"
   ],
   "metadata": {
    "execution": {
     "iopub.status.busy": "2023-06-03T00:57:15.402499Z",
     "iopub.execute_input": "2023-06-03T00:57:15.402822Z",
     "iopub.status.idle": "2023-06-03T00:57:15.815846Z",
     "shell.execute_reply.started": "2023-06-03T00:57:15.402796Z",
     "shell.execute_reply": "2023-06-03T00:57:15.814605Z"
    },
    "trusted": true
   },
   "execution_count": 25,
   "outputs": []
  },
  {
   "cell_type": "code",
   "source": [
    "# 计算错误率\n",
    "n_error=(y_pred!=y).sum()\n",
    "print('Local Outlier Factor算法错误率：',n_error/len(y))"
   ],
   "metadata": {
    "execution": {
     "iopub.status.busy": "2023-06-03T00:57:15.817391Z",
     "iopub.execute_input": "2023-06-03T00:57:15.817849Z",
     "iopub.status.idle": "2023-06-03T00:57:15.825828Z",
     "shell.execute_reply.started": "2023-06-03T00:57:15.817806Z",
     "shell.execute_reply": "2023-06-03T00:57:15.824458Z"
    },
    "trusted": true
   },
   "execution_count": 26,
   "outputs": [
    {
     "name": "stdout",
     "text": "Local Outlier Factor算法错误率： 0.2150353932322715\n",
     "output_type": "stream"
    }
   ]
  },
  {
   "cell_type": "code",
   "source": [],
   "metadata": {
    "execution": {
     "iopub.status.busy": "2023-06-03T00:57:15.827567Z",
     "iopub.execute_input": "2023-06-03T00:57:15.828006Z",
     "iopub.status.idle": "2023-06-03T00:57:16.517018Z",
     "shell.execute_reply.started": "2023-06-03T00:57:15.827966Z",
     "shell.execute_reply": "2023-06-03T00:57:16.515686Z"
    },
    "trusted": true
   },
   "execution_count": 27,
   "outputs": [
    {
     "name": "stdout",
     "text": "              precision    recall  f1-score   support\n\n           0       0.41      0.21      0.28     97278\n           1       0.83      0.93      0.87    396743\n\n    accuracy                           0.78    494021\n   macro avg       0.62      0.57      0.57    494021\nweighted avg       0.74      0.78      0.76    494021\n\n",
     "output_type": "stream"
    }
   ]
  },
  {
   "cell_type": "code",
   "execution_count": null,
   "outputs": [],
   "source": [
    "# 对于模型进行评估\n",
    "print(classification_report(y,y_pred))"
   ],
   "metadata": {
    "collapsed": false
   }
  },
  {
   "cell_type": "markdown",
   "source": [
    "对于模型进行改进"
   ],
   "metadata": {
    "collapsed": false
   }
  },
  {
   "cell_type": "code",
   "source": [
    "#画出关系相关性热力图\n",
    "import seaborn as sns\n",
    "import matplotlib.pyplot as plt\n",
    "plt.figure(figsize=(20,20))\n",
    "sns.heatmap(data.corr(),annot=True,fmt='.2f')\n",
    "plt.show()"
   ],
   "metadata": {
    "execution": {
     "iopub.status.busy": "2023-06-03T00:57:23.774838Z",
     "iopub.execute_input": "2023-06-03T00:57:23.775865Z",
     "iopub.status.idle": "2023-06-03T00:57:25.416527Z",
     "shell.execute_reply.started": "2023-06-03T00:57:23.775832Z",
     "shell.execute_reply": "2023-06-03T00:57:25.415313Z"
    },
    "trusted": true
   },
   "execution_count": 29,
   "outputs": [
    {
     "output_type": "display_data",
     "data": {
      "text/plain": "<Figure size 640x480 with 1 Axes>",
      "image/png": "[encoded data removed]"
     },
     "metadata": {}
    }
   ]
  },
  {
   "cell_type": "code",
   "source": [
    "# Explained variance (how important each additional principal component is)\n",
    "from sklearn.decomposition import PCA\n",
    "pca=PCA().fit(X)\n",
    "plt.plot(np.cumsum(pca.explained_variance_ratio_))\n",
    "plt.xlabel('number of components')\n",
    "plt.ylabel('cumulative explained variance')\n",
    "plt.show()  "
   ],
   "metadata": {
    "execution": {
     "iopub.status.busy": "2023-06-03T00:57:25.423268Z",
     "iopub.execute_input": "2023-06-03T00:57:25.423657Z",
     "iopub.status.idle": "2023-06-03T00:57:29.578432Z",
     "shell.execute_reply.started": "2023-06-03T00:57:25.423629Z",
     "shell.execute_reply": "2023-06-03T00:57:29.576773Z"
    },
    "trusted": true
   },
   "execution_count": 30,
   "outputs": []
  },
  {
   "cell_type": "code",
   "source": [
    "# 主成分分析\n",
    "# PCA\n",
    "from sklearn.decomposition import PCA\n",
    "pca=PCA(n_components=2)\n",
    "pca.fit(X)\n",
    "X_pca=pca.transform(X)\n"
   ],
   "metadata": {
    "execution": {
     "iopub.status.busy": "2023-06-03T00:57:29.580559Z",
     "iopub.execute_input": "2023-06-03T00:57:29.581583Z",
     "iopub.status.idle": "2023-06-03T00:57:39.980237Z",
     "shell.execute_reply.started": "2023-06-03T00:57:29.581519Z",
     "shell.execute_reply": "2023-06-03T00:57:39.979031Z"
    },
    "trusted": true
   },
   "execution_count": 31,
   "outputs": [
    {
     "output_type": "display_data",
     "data": {
      "text/plain": "<Figure size 1000x1000 with 1 Axes>",
      "image/png": "[encoded data removed]"
     },
     "metadata": {}
    }
   ]
  },
  {
   "cell_type": "code",
   "source": [
    "# 主成分分析结果可视化\n",
    "plt.figure(figsize=(10,10))\n",
    "plt.scatter(X_pca[:,0],X_pca[:,1],c=y)\n",
    "plt.show()"
   ],
   "metadata": {
    "execution": {
     "iopub.status.busy": "2023-06-03T01:00:05.031612Z",
     "iopub.execute_input": "2023-06-03T01:00:05.031994Z",
     "iopub.status.idle": "2023-06-03T01:00:05.114207Z",
     "shell.execute_reply.started": "2023-06-03T01:00:05.031965Z",
     "shell.execute_reply": "2023-06-03T01:00:05.112693Z"
    },
    "trusted": true
   },
   "execution_count": 33,
   "outputs": [
    {
     "name": "stdout",
     "text": "        0   1   2   3    4     5   6   7   8   9   ...  31   32   33   34  \\\n0        0   1  22   9  181  5450   0   0   0   0  ...   9    9  1.0  0.0   \n1        0   1  22   9  239   486   0   0   0   0  ...  19   19  1.0  0.0   \n2        0   1  22   9  235  1337   0   0   0   0  ...  29   29  1.0  0.0   \n3        0   1  22   9  219  1337   0   0   0   0  ...  39   39  1.0  0.0   \n4        0   1  22   9  217  2032   0   0   0   0  ...  49   49  1.0  0.0   \n...     ..  ..  ..  ..  ...   ...  ..  ..  ..  ..  ...  ..  ...  ...  ...   \n494016   0   1  22   9  310  1881   0   0   0   0  ...  86  255  1.0  0.0   \n494017   0   1  22   9  282  2286   0   0   0   0  ...   6  255  1.0  0.0   \n494018   0   1  22   9  203  1200   0   0   0   0  ...  16  255  1.0  0.0   \n494019   0   1  22   9  291  1200   0   0   0   0  ...  26  255  1.0  0.0   \n494020   0   1  22   9  219  1234   0   0   0   0  ...   6  255  1.0  0.0   \n\n          35    36    37    38   39   40  \n0       0.11  0.00  0.00  0.00  0.0  0.0  \n1       0.05  0.00  0.00  0.00  0.0  0.0  \n2       0.03  0.00  0.00  0.00  0.0  0.0  \n3       0.03  0.00  0.00  0.00  0.0  0.0  \n4       0.02  0.00  0.00  0.00  0.0  0.0  \n...      ...   ...   ...   ...  ...  ...  \n494016  0.01  0.05  0.00  0.01  0.0  0.0  \n494017  0.17  0.05  0.00  0.01  0.0  0.0  \n494018  0.06  0.05  0.06  0.01  0.0  0.0  \n494019  0.04  0.05  0.04  0.01  0.0  0.0  \n494020  0.17  0.05  0.00  0.01  0.0  0.0  \n\n[494021 rows x 41 columns]\n",
     "output_type": "stream"
    }
   ]
  },
  {
   "cell_type": "code",
   "source": [
    "print(X)"
   ],
   "metadata": {
    "execution": {
     "iopub.status.busy": "2023-06-03T01:00:16.904221Z",
     "iopub.execute_input": "2023-06-03T01:00:16.904624Z",
     "iopub.status.idle": "2023-06-03T01:00:16.933696Z",
     "shell.execute_reply.started": "2023-06-03T01:00:16.904595Z",
     "shell.execute_reply": "2023-06-03T01:00:16.931828Z"
    },
    "trusted": true
   },
   "execution_count": 34,
   "outputs": [
    {
     "execution_count": 34,
     "output_type": "execute_result",
     "data": {
      "text/plain": "   0   1   2   3    4     5   6   7   8   9   ...  31  32   33   34    35  \\\n0   0   1  22   9  181  5450   0   0   0   0  ...   9   9  1.0  0.0  0.11   \n1   0   1  22   9  239   486   0   0   0   0  ...  19  19  1.0  0.0  0.05   \n2   0   1  22   9  235  1337   0   0   0   0  ...  29  29  1.0  0.0  0.03   \n3   0   1  22   9  219  1337   0   0   0   0  ...  39  39  1.0  0.0  0.03   \n4   0   1  22   9  217  2032   0   0   0   0  ...  49  49  1.0  0.0  0.02   \n\n    36   37   38   39   40  \n0  0.0  0.0  0.0  0.0  0.0  \n1  0.0  0.0  0.0  0.0  0.0  \n2  0.0  0.0  0.0  0.0  0.0  \n3  0.0  0.0  0.0  0.0  0.0  \n4  0.0  0.0  0.0  0.0  0.0  \n\n[5 rows x 41 columns]",
      "text/html": "<div>\n<style scoped>\n    .dataframe tbody tr th:only-of-type {\n        vertical-align: middle;\n    }\n\n    .dataframe tbody tr th {\n        vertical-align: top;\n    }\n\n    .dataframe thead th {\n        text-align: right;\n    }\n</style>\n<table border=\"1\" class=\"dataframe\">\n  <thead>\n    <tr style=\"text-align: right;\">\n      <th></th>\n      <th>0</th>\n      <th>1</th>\n      <th>2</th>\n      <th>3</th>\n      <th>4</th>\n      <th>5</th>\n      <th>6</th>\n      <th>7</th>\n      <th>8</th>\n      <th>9</th>\n      <th>...</th>\n      <th>31</th>\n      <th>32</th>\n      <th>33</th>\n      <th>34</th>\n      <th>35</th>\n      <th>36</th>\n      <th>37</th>\n      <th>38</th>\n      <th>39</th>\n      <th>40</th>\n    </tr>\n  </thead>\n  <tbody>\n    <tr>\n      <th>0</th>\n      <td>0</td>\n      <td>1</td>\n      <td>22</td>\n      <td>9</td>\n      <td>181</td>\n      <td>5450</td>\n      <td>0</td>\n      <td>0</td>\n      <td>0</td>\n      <td>0</td>\n      <td>...</td>\n      <td>9</td>\n      <td>9</td>\n      <td>1.0</td>\n      <td>0.0</td>\n      <td>0.11</td>\n      <td>0.0</td>\n      <td>0.0</td>\n      <td>0.0</td>\n      <td>0.0</td>\n      <td>0.0</td>\n    </tr>\n    <tr>\n      <th>1</th>\n      <td>0</td>\n      <td>1</td>\n      <td>22</td>\n      <td>9</td>\n      <td>239</td>\n      <td>486</td>\n      <td>0</td>\n      <td>0</td>\n      <td>0</td>\n      <td>0</td>\n      <td>...</td>\n      <td>19</td>\n      <td>19</td>\n      <td>1.0</td>\n      <td>0.0</td>\n      <td>0.05</td>\n      <td>0.0</td>\n      <td>0.0</td>\n      <td>0.0</td>\n      <td>0.0</td>\n      <td>0.0</td>\n    </tr>\n    <tr>\n      <th>2</th>\n      <td>0</td>\n      <td>1</td>\n      <td>22</td>\n      <td>9</td>\n      <td>235</td>\n      <td>1337</td>\n      <td>0</td>\n      <td>0</td>\n      <td>0</td>\n      <td>0</td>\n      <td>...</td>\n      <td>29</td>\n      <td>29</td>\n      <td>1.0</td>\n      <td>0.0</td>\n      <td>0.03</td>\n      <td>0.0</td>\n      <td>0.0</td>\n      <td>0.0</td>\n      <td>0.0</td>\n      <td>0.0</td>\n    </tr>\n    <tr>\n      <th>3</th>\n      <td>0</td>\n      <td>1</td>\n      <td>22</td>\n      <td>9</td>\n      <td>219</td>\n      <td>1337</td>\n      <td>0</td>\n      <td>0</td>\n      <td>0</td>\n      <td>0</td>\n      <td>...</td>\n      <td>39</td>\n      <td>39</td>\n      <td>1.0</td>\n      <td>0.0</td>\n      <td>0.03</td>\n      <td>0.0</td>\n      <td>0.0</td>\n      <td>0.0</td>\n      <td>0.0</td>\n      <td>0.0</td>\n    </tr>\n    <tr>\n      <th>4</th>\n      <td>0</td>\n      <td>1</td>\n      <td>22</td>\n      <td>9</td>\n      <td>217</td>\n      <td>2032</td>\n      <td>0</td>\n      <td>0</td>\n      <td>0</td>\n      <td>0</td>\n      <td>...</td>\n      <td>49</td>\n      <td>49</td>\n      <td>1.0</td>\n      <td>0.0</td>\n      <td>0.02</td>\n      <td>0.0</td>\n      <td>0.0</td>\n      <td>0.0</td>\n      <td>0.0</td>\n      <td>0.0</td>\n    </tr>\n  </tbody>\n</table>\n<p>5 rows × 41 columns</p>\n</div>"
     },
     "metadata": {}
    }
   ]
  },
  {
   "cell_type": "code",
   "source": [
    "X.head()"
   ],
   "metadata": {
    "execution": {
     "iopub.status.busy": "2023-06-03T01:16:48.516785Z",
     "iopub.execute_input": "2023-06-03T01:16:48.517244Z",
     "iopub.status.idle": "2023-06-03T01:20:16.465630Z",
     "shell.execute_reply.started": "2023-06-03T01:16:48.517212Z",
     "shell.execute_reply": "2023-06-03T01:20:16.464539Z"
    },
    "trusted": true
   },
   "execution_count": 61,
   "outputs": [
    {
     "name": "stderr",
     "text": "/opt/conda/lib/python3.10/site-packages/sklearn/model_selection/_validation.py:778: UserWarning: Scoring failed. The score on this train-test partition for these parameters will be set to nan. Details: \nTraceback (most recent call last):\n  File \"/opt/conda/lib/python3.10/site-packages/sklearn/model_selection/_validation.py\", line 767, in _score\n    scores = scorer(estimator, X_test, y_test)\n  File \"/opt/conda/lib/python3.10/site-packages/sklearn/metrics/_scorer.py\", line 234, in __call__\n    return self._score(\n  File \"/opt/conda/lib/python3.10/site-packages/sklearn/metrics/_scorer.py\", line 282, in _score\n    return self._sign * self._score_func(y_true, y_pred, **self._kwargs)\n  File \"/opt/conda/lib/python3.10/site-packages/sklearn/metrics/_ranking.py\", line 572, in roc_auc_score\n    return _average_binary_score(\n  File \"/opt/conda/lib/python3.10/site-packages/sklearn/metrics/_base.py\", line 75, in _average_binary_score\n    return binary_metric(y_true, y_score, sample_weight=sample_weight)\n  File \"/opt/conda/lib/python3.10/site-packages/sklearn/metrics/_ranking.py\", line 339, in _binary_roc_auc_score\n    raise ValueError(\nValueError: Only one class present in y_true. ROC AUC score is not defined in that case.\n\n  warnings.warn(\n/opt/conda/lib/python3.10/site-packages/sklearn/model_selection/_validation.py:778: UserWarning: Scoring failed. The score on this train-test partition for these parameters will be set to nan. Details: \nTraceback (most recent call last):\n  File \"/opt/conda/lib/python3.10/site-packages/sklearn/model_selection/_validation.py\", line 767, in _score\n    scores = scorer(estimator, X_test, y_test)\n  File \"/opt/conda/lib/python3.10/site-packages/sklearn/metrics/_scorer.py\", line 234, in __call__\n    return self._score(\n  File \"/opt/conda/lib/python3.10/site-packages/sklearn/metrics/_scorer.py\", line 282, in _score\n    return self._sign * self._score_func(y_true, y_pred, **self._kwargs)\n  File \"/opt/conda/lib/python3.10/site-packages/sklearn/metrics/_ranking.py\", line 572, in roc_auc_score\n    return _average_binary_score(\n  File \"/opt/conda/lib/python3.10/site-packages/sklearn/metrics/_base.py\", line 75, in _average_binary_score\n    return binary_metric(y_true, y_score, sample_weight=sample_weight)\n  File \"/opt/conda/lib/python3.10/site-packages/sklearn/metrics/_ranking.py\", line 339, in _binary_roc_auc_score\n    raise ValueError(\nValueError: Only one class present in y_true. ROC AUC score is not defined in that case.\n\n  warnings.warn(\n/opt/conda/lib/python3.10/site-packages/sklearn/model_selection/_validation.py:778: UserWarning: Scoring failed. The score on this train-test partition for these parameters will be set to nan. Details: \nTraceback (most recent call last):\n  File \"/opt/conda/lib/python3.10/site-packages/sklearn/model_selection/_validation.py\", line 767, in _score\n    scores = scorer(estimator, X_test, y_test)\n  File \"/opt/conda/lib/python3.10/site-packages/sklearn/metrics/_scorer.py\", line 234, in __call__\n    return self._score(\n  File \"/opt/conda/lib/python3.10/site-packages/sklearn/metrics/_scorer.py\", line 282, in _score\n    return self._sign * self._score_func(y_true, y_pred, **self._kwargs)\n  File \"/opt/conda/lib/python3.10/site-packages/sklearn/metrics/_ranking.py\", line 572, in roc_auc_score\n    return _average_binary_score(\n  File \"/opt/conda/lib/python3.10/site-packages/sklearn/metrics/_base.py\", line 75, in _average_binary_score\n    return binary_metric(y_true, y_score, sample_weight=sample_weight)\n  File \"/opt/conda/lib/python3.10/site-packages/sklearn/metrics/_ranking.py\", line 339, in _binary_roc_auc_score\n    raise ValueError(\nValueError: Only one class present in y_true. ROC AUC score is not defined in that case.\n\n  warnings.warn(\n/opt/conda/lib/python3.10/site-packages/sklearn/model_selection/_validation.py:778: UserWarning: Scoring failed. The score on this train-test partition for these parameters will be set to nan. Details: \nTraceback (most recent call last):\n  File \"/opt/conda/lib/python3.10/site-packages/sklearn/model_selection/_validation.py\", line 767, in _score\n    scores = scorer(estimator, X_test, y_test)\n  File \"/opt/conda/lib/python3.10/site-packages/sklearn/metrics/_scorer.py\", line 234, in __call__\n    return self._score(\n  File \"/opt/conda/lib/python3.10/site-packages/sklearn/metrics/_scorer.py\", line 282, in _score\n    return self._sign * self._score_func(y_true, y_pred, **self._kwargs)\n  File \"/opt/conda/lib/python3.10/site-packages/sklearn/metrics/_ranking.py\", line 572, in roc_auc_score\n    return _average_binary_score(\n  File \"/opt/conda/lib/python3.10/site-packages/sklearn/metrics/_base.py\", line 75, in _average_binary_score\n    return binary_metric(y_true, y_score, sample_weight=sample_weight)\n  File \"/opt/conda/lib/python3.10/site-packages/sklearn/metrics/_ranking.py\", line 339, in _binary_roc_auc_score\n    raise ValueError(\nValueError: Only one class present in y_true. ROC AUC score is not defined in that case.\n\n  warnings.warn(\n/opt/conda/lib/python3.10/site-packages/sklearn/model_selection/_validation.py:778: UserWarning: Scoring failed. The score on this train-test partition for these parameters will be set to nan. Details: \nTraceback (most recent call last):\n  File \"/opt/conda/lib/python3.10/site-packages/sklearn/model_selection/_validation.py\", line 767, in _score\n    scores = scorer(estimator, X_test, y_test)\n  File \"/opt/conda/lib/python3.10/site-packages/sklearn/metrics/_scorer.py\", line 234, in __call__\n    return self._score(\n  File \"/opt/conda/lib/python3.10/site-packages/sklearn/metrics/_scorer.py\", line 282, in _score\n    return self._sign * self._score_func(y_true, y_pred, **self._kwargs)\n  File \"/opt/conda/lib/python3.10/site-packages/sklearn/metrics/_ranking.py\", line 572, in roc_auc_score\n    return _average_binary_score(\n  File \"/opt/conda/lib/python3.10/site-packages/sklearn/metrics/_base.py\", line 75, in _average_binary_score\n    return binary_metric(y_true, y_score, sample_weight=sample_weight)\n  File \"/opt/conda/lib/python3.10/site-packages/sklearn/metrics/_ranking.py\", line 339, in _binary_roc_auc_score\n    raise ValueError(\nValueError: Only one class present in y_true. ROC AUC score is not defined in that case.\n\n  warnings.warn(\n/opt/conda/lib/python3.10/site-packages/sklearn/model_selection/_validation.py:778: UserWarning: Scoring failed. The score on this train-test partition for these parameters will be set to nan. Details: \nTraceback (most recent call last):\n  File \"/opt/conda/lib/python3.10/site-packages/sklearn/model_selection/_validation.py\", line 767, in _score\n    scores = scorer(estimator, X_test, y_test)\n  File \"/opt/conda/lib/python3.10/site-packages/sklearn/metrics/_scorer.py\", line 234, in __call__\n    return self._score(\n  File \"/opt/conda/lib/python3.10/site-packages/sklearn/metrics/_scorer.py\", line 282, in _score\n    return self._sign * self._score_func(y_true, y_pred, **self._kwargs)\n  File \"/opt/conda/lib/python3.10/site-packages/sklearn/metrics/_ranking.py\", line 572, in roc_auc_score\n    return _average_binary_score(\n  File \"/opt/conda/lib/python3.10/site-packages/sklearn/metrics/_base.py\", line 75, in _average_binary_score\n    return binary_metric(y_true, y_score, sample_weight=sample_weight)\n  File \"/opt/conda/lib/python3.10/site-packages/sklearn/metrics/_ranking.py\", line 339, in _binary_roc_auc_score\n    raise ValueError(\nValueError: Only one class present in y_true. ROC AUC score is not defined in that case.\n\n  warnings.warn(\n/opt/conda/lib/python3.10/site-packages/sklearn/model_selection/_validation.py:778: UserWarning: Scoring failed. The score on this train-test partition for these parameters will be set to nan. Details: \nTraceback (most recent call last):\n  File \"/opt/conda/lib/python3.10/site-packages/sklearn/model_selection/_validation.py\", line 767, in _score\n    scores = scorer(estimator, X_test, y_test)\n  File \"/opt/conda/lib/python3.10/site-packages/sklearn/metrics/_scorer.py\", line 234, in __call__\n    return self._score(\n  File \"/opt/conda/lib/python3.10/site-packages/sklearn/metrics/_scorer.py\", line 282, in _score\n    return self._sign * self._score_func(y_true, y_pred, **self._kwargs)\n  File \"/opt/conda/lib/python3.10/site-packages/sklearn/metrics/_ranking.py\", line 572, in roc_auc_score\n    return _average_binary_score(\n  File \"/opt/conda/lib/python3.10/site-packages/sklearn/metrics/_base.py\", line 75, in _average_binary_score\n    return binary_metric(y_true, y_score, sample_weight=sample_weight)\n  File \"/opt/conda/lib/python3.10/site-packages/sklearn/metrics/_ranking.py\", line 339, in _binary_roc_auc_score\n    raise ValueError(\nValueError: Only one class present in y_true. ROC AUC score is not defined in that case.\n\n  warnings.warn(\n/opt/conda/lib/python3.10/site-packages/sklearn/model_selection/_validation.py:778: UserWarning: Scoring failed. The score on this train-test partition for these parameters will be set to nan. Details: \nTraceback (most recent call last):\n  File \"/opt/conda/lib/python3.10/site-packages/sklearn/model_selection/_validation.py\", line 767, in _score\n    scores = scorer(estimator, X_test, y_test)\n  File \"/opt/conda/lib/python3.10/site-packages/sklearn/metrics/_scorer.py\", line 234, in __call__\n    return self._score(\n  File \"/opt/conda/lib/python3.10/site-packages/sklearn/metrics/_scorer.py\", line 282, in _score\n    return self._sign * self._score_func(y_true, y_pred, **self._kwargs)\n  File \"/opt/conda/lib/python3.10/site-packages/sklearn/metrics/_ranking.py\", line 572, in roc_auc_score\n    return _average_binary_score(\n  File \"/opt/conda/lib/python3.10/site-packages/sklearn/metrics/_base.py\", line 75, in _average_binary_score\n    return binary_metric(y_true, y_score, sample_weight=sample_weight)\n  File \"/opt/conda/lib/python3.10/site-packages/sklearn/metrics/_ranking.py\", line 339, in _binary_roc_auc_score\n    raise ValueError(\nValueError: Only one class present in y_true. ROC AUC score is not defined in that case.\n\n  warnings.warn(\n/opt/conda/lib/python3.10/site-packages/sklearn/model_selection/_validation.py:778: UserWarning: Scoring failed. The score on this train-test partition for these parameters will be set to nan. Details: \nTraceback (most recent call last):\n  File \"/opt/conda/lib/python3.10/site-packages/sklearn/model_selection/_validation.py\", line 767, in _score\n    scores = scorer(estimator, X_test, y_test)\n  File \"/opt/conda/lib/python3.10/site-packages/sklearn/metrics/_scorer.py\", line 234, in __call__\n    return self._score(\n  File \"/opt/conda/lib/python3.10/site-packages/sklearn/metrics/_scorer.py\", line 282, in _score\n    return self._sign * self._score_func(y_true, y_pred, **self._kwargs)\n  File \"/opt/conda/lib/python3.10/site-packages/sklearn/metrics/_ranking.py\", line 572, in roc_auc_score\n    return _average_binary_score(\n  File \"/opt/conda/lib/python3.10/site-packages/sklearn/metrics/_base.py\", line 75, in _average_binary_score\n    return binary_metric(y_true, y_score, sample_weight=sample_weight)\n  File \"/opt/conda/lib/python3.10/site-packages/sklearn/metrics/_ranking.py\", line 339, in _binary_roc_auc_score\n    raise ValueError(\nValueError: Only one class present in y_true. ROC AUC score is not defined in that case.\n\n  warnings.warn(\n/opt/conda/lib/python3.10/site-packages/sklearn/model_selection/_validation.py:778: UserWarning: Scoring failed. The score on this train-test partition for these parameters will be set to nan. Details: \nTraceback (most recent call last):\n  File \"/opt/conda/lib/python3.10/site-packages/sklearn/model_selection/_validation.py\", line 767, in _score\n    scores = scorer(estimator, X_test, y_test)\n  File \"/opt/conda/lib/python3.10/site-packages/sklearn/metrics/_scorer.py\", line 234, in __call__\n    return self._score(\n  File \"/opt/conda/lib/python3.10/site-packages/sklearn/metrics/_scorer.py\", line 282, in _score\n    return self._sign * self._score_func(y_true, y_pred, **self._kwargs)\n  File \"/opt/conda/lib/python3.10/site-packages/sklearn/metrics/_ranking.py\", line 572, in roc_auc_score\n    return _average_binary_score(\n  File \"/opt/conda/lib/python3.10/site-packages/sklearn/metrics/_base.py\", line 75, in _average_binary_score\n    return binary_metric(y_true, y_score, sample_weight=sample_weight)\n  File \"/opt/conda/lib/python3.10/site-packages/sklearn/metrics/_ranking.py\", line 339, in _binary_roc_auc_score\n    raise ValueError(\nValueError: Only one class present in y_true. ROC AUC score is not defined in that case.\n\n  warnings.warn(\n/opt/conda/lib/python3.10/site-packages/sklearn/model_selection/_search.py:952: UserWarning: One or more of the test scores are non-finite: [nan nan nan nan nan nan nan nan nan nan]\n  warnings.warn(\n",
     "output_type": "stream"
    },
    {
     "execution_count": 61,
     "output_type": "execute_result",
     "data": {
      "text/plain": "{'max_samples': 100}"
     },
     "metadata": {}
    }
   ]
  },
  {
   "cell_type": "code",
   "source": [
    "# 对于IsoForest算法进行调参\n",
    "from sklearn.model_selection import GridSearchCV\n",
    "from sklearn.ensemble import IsolationForest\n",
    "from sklearn.metrics import make_scorer\n",
    "from sklearn.metrics import roc_auc_score\n",
    "\n",
    "# 创建自定义的评分函数\n",
    "scorer = make_scorer(roc_auc_score)\n",
    "\n",
    "param_grid = {'max_samples': [100, 200, 300, 400, 500, 600, 700, 800, 900, 1000]}\n",
    "grid_search = GridSearchCV(IsolationForest(random_state=42), param_grid, cv=5, scoring=scorer)\n",
    "grid_search.fit(X, y)\n",
    "\n",
    "grid_search.best_params_"
   ],
   "metadata": {
    "execution": {
     "iopub.status.busy": "2023-06-03T01:32:46.241946Z",
     "iopub.execute_input": "2023-06-03T01:32:46.242351Z",
     "iopub.status.idle": "2023-06-03T01:32:48.278650Z",
     "shell.execute_reply.started": "2023-06-03T01:32:46.242321Z",
     "shell.execute_reply": "2023-06-03T01:32:48.277563Z"
    },
    "trusted": true
   },
   "execution_count": 63,
   "outputs": [
    {
     "execution_count": 63,
     "output_type": "execute_result",
     "data": {
      "text/plain": "IsolationForest(max_samples=2000, random_state=42)",
      "text/html": "<style>#sk-container-id-6 {color: black;background-color: white;}#sk-container-id-6 pre{padding: 0;}#sk-container-id-6 div.sk-toggleable {background-color: white;}#sk-container-id-6 label.sk-toggleable__label {cursor: pointer;display: block;width: 100%;margin-bottom: 0;padding: 0.3em;box-sizing: border-box;text-align: center;}#sk-container-id-6 label.sk-toggleable__label-arrow:before {content: \"▸\";float: left;margin-right: 0.25em;color: #696969;}#sk-container-id-6 label.sk-toggleable__label-arrow:hover:before {color: black;}#sk-container-id-6 div.sk-estimator:hover label.sk-toggleable__label-arrow:before {color: black;}#sk-container-id-6 div.sk-toggleable__content {max-height: 0;max-width: 0;overflow: hidden;text-align: left;background-color: #f0f8ff;}#sk-container-id-6 div.sk-toggleable__content pre {margin: 0.2em;color: black;border-radius: 0.25em;background-color: #f0f8ff;}#sk-container-id-6 input.sk-toggleable__control:checked~div.sk-toggleable__content {max-height: 200px;max-width: 100%;overflow: auto;}#sk-container-id-6 input.sk-toggleable__control:checked~label.sk-toggleable__label-arrow:before {content: \"▾\";}#sk-container-id-6 div.sk-estimator input.sk-toggleable__control:checked~label.sk-toggleable__label {background-color: #d4ebff;}#sk-container-id-6 div.sk-label input.sk-toggleable__control:checked~label.sk-toggleable__label {background-color: #d4ebff;}#sk-container-id-6 input.sk-hidden--visually {border: 0;clip: rect(1px 1px 1px 1px);clip: rect(1px, 1px, 1px, 1px);height: 1px;margin: -1px;overflow: hidden;padding: 0;position: absolute;width: 1px;}#sk-container-id-6 div.sk-estimator {font-family: monospace;background-color: #f0f8ff;border: 1px dotted black;border-radius: 0.25em;box-sizing: border-box;margin-bottom: 0.5em;}#sk-container-id-6 div.sk-estimator:hover {background-color: #d4ebff;}#sk-container-id-6 div.sk-parallel-item::after {content: \"\";width: 100%;border-bottom: 1px solid gray;flex-grow: 1;}#sk-container-id-6 div.sk-label:hover label.sk-toggleable__label {background-color: #d4ebff;}#sk-container-id-6 div.sk-serial::before {content: \"\";position: absolute;border-left: 1px solid gray;box-sizing: border-box;top: 0;bottom: 0;left: 50%;z-index: 0;}#sk-container-id-6 div.sk-serial {display: flex;flex-direction: column;align-items: center;background-color: white;padding-right: 0.2em;padding-left: 0.2em;position: relative;}#sk-container-id-6 div.sk-item {position: relative;z-index: 1;}#sk-container-id-6 div.sk-parallel {display: flex;align-items: stretch;justify-content: center;background-color: white;position: relative;}#sk-container-id-6 div.sk-item::before, #sk-container-id-6 div.sk-parallel-item::before {content: \"\";position: absolute;border-left: 1px solid gray;box-sizing: border-box;top: 0;bottom: 0;left: 50%;z-index: -1;}#sk-container-id-6 div.sk-parallel-item {display: flex;flex-direction: column;z-index: 1;position: relative;background-color: white;}#sk-container-id-6 div.sk-parallel-item:first-child::after {align-self: flex-end;width: 50%;}#sk-container-id-6 div.sk-parallel-item:last-child::after {align-self: flex-start;width: 50%;}#sk-container-id-6 div.sk-parallel-item:only-child::after {width: 0;}#sk-container-id-6 div.sk-dashed-wrapped {border: 1px dashed gray;margin: 0 0.4em 0.5em 0.4em;box-sizing: border-box;padding-bottom: 0.4em;background-color: white;}#sk-container-id-6 div.sk-label label {font-family: monospace;font-weight: bold;display: inline-block;line-height: 1.2em;}#sk-container-id-6 div.sk-label-container {text-align: center;}#sk-container-id-6 div.sk-container {/* jupyter's `normalize.less` sets `[hidden] { display: none; }` but bootstrap.min.css set `[hidden] { display: none !important; }` so we also need the `!important` here to be able to override the default hidden behavior on the sphinx rendered scikit-learn.org. See: https://github.com/scikit-learn/scikit-learn/issues/21755 */display: inline-block !important;position: relative;}#sk-container-id-6 div.sk-text-repr-fallback {display: none;}</style><div id=\"sk-container-id-6\" class=\"sk-top-container\"><div class=\"sk-text-repr-fallback\"><pre>IsolationForest(max_samples=2000, random_state=42)</pre><b>In a Jupyter environment, please rerun this cell to show the HTML representation or trust the notebook. <br />On GitHub, the HTML representation is unable to render, please try loading this page with nbviewer.org.</b></div><div class=\"sk-container\" hidden><div class=\"sk-item\"><div class=\"sk-estimator sk-toggleable\"><input class=\"sk-toggleable__control sk-hidden--visually\" id=\"sk-estimator-id-6\" type=\"checkbox\" checked><label for=\"sk-estimator-id-6\" class=\"sk-toggleable__label sk-toggleable__label-arrow\">IsolationForest</label><div class=\"sk-toggleable__content\"><pre>IsolationForest(max_samples=2000, random_state=42)</pre></div></div></div></div></div>"
     },
     "metadata": {}
    }
   ]
  },
  {
   "cell_type": "code",
   "source": [
    "# max_samples=100时，错误率最低\n",
    "# 训练模型\n",
    "clf=IsolationForest(max_samples=2000,random_state=42)\n",
    "clf.fit(X)"
   ],
   "metadata": {
    "execution": {
     "iopub.status.busy": "2023-06-03T01:32:51.156176Z",
     "iopub.execute_input": "2023-06-03T01:32:51.156619Z",
     "iopub.status.idle": "2023-06-03T01:33:10.153010Z",
     "shell.execute_reply.started": "2023-06-03T01:32:51.156585Z",
     "shell.execute_reply": "2023-06-03T01:33:10.151932Z"
    },
    "trusted": true
   },
   "execution_count": 64,
   "outputs": [
    {
     "execution_count": 64,
     "output_type": "execute_result",
     "data": {
      "text/plain": "array([1, 1, 1, ..., 1, 1, 1])"
     },
     "metadata": {}
    }
   ]
  },
  {
   "cell_type": "code",
   "source": [
    "# 预测结果\n",
    "y_pred=clf.predict(X)\n",
    "y_pred"
   ],
   "metadata": {
    "execution": {
     "iopub.status.busy": "2023-06-03T01:33:10.171841Z",
     "iopub.execute_input": "2023-06-03T01:33:10.172226Z",
     "iopub.status.idle": "2023-06-03T01:33:10.193665Z",
     "shell.execute_reply.started": "2023-06-03T01:33:10.172183Z",
     "shell.execute_reply": "2023-06-03T01:33:10.192272Z"
    },
    "trusted": true
   },
   "execution_count": 66,
   "outputs": [
    {
     "execution_count": 66,
     "output_type": "execute_result",
     "data": {
      "text/plain": " 1    473061\n-1     20960\ndtype: int64"
     },
     "metadata": {}
    }
   ]
  },
  {
   "cell_type": "code",
   "source": [
    "# 看y_pred的数据分布\n",
    "pd.Series(y_pred).value_counts()"
   ],
   "metadata": {
    "execution": {
     "iopub.status.busy": "2023-06-03T01:33:15.531425Z",
     "iopub.execute_input": "2023-06-03T01:33:15.531848Z",
     "iopub.status.idle": "2023-06-03T01:33:15.925033Z",
     "shell.execute_reply.started": "2023-06-03T01:33:15.531810Z",
     "shell.execute_reply": "2023-06-03T01:33:15.924048Z"
    },
    "trusted": true
   },
   "execution_count": 68,
   "outputs": []
  },
  {
   "cell_type": "code",
   "source": [
    "# 将-1改成0，0改成-1\n",
    "y_pred=pd.Series(list(map(lambda x:1 if x==0 else 0,y_pred)))"
   ],
   "metadata": {
    "execution": {
     "iopub.status.busy": "2023-06-03T01:33:18.986257Z",
     "iopub.execute_input": "2023-06-03T01:33:18.986700Z",
     "iopub.status.idle": "2023-06-03T01:33:18.994613Z",
     "shell.execute_reply.started": "2023-06-03T01:33:18.986658Z",
     "shell.execute_reply": "2023-06-03T01:33:18.993276Z"
    },
    "trusted": true
   },
   "execution_count": 69,
   "outputs": [
    {
     "name": "stdout",
     "text": "Isolation Forest算法错误率： 0.19691065764410826\n",
     "output_type": "stream"
    }
   ]
  },
  {
   "cell_type": "code",
   "source": [
    "# 计算错误率\n",
    "n_error=(y_pred!=y).sum()\n",
    "print('Isolation Forest算法错误率：',n_error/len(y))"
   ],
   "metadata": {
    "execution": {
     "iopub.status.busy": "2023-06-03T01:33:23.493904Z",
     "iopub.execute_input": "2023-06-03T01:33:23.494949Z",
     "iopub.status.idle": "2023-06-03T01:33:24.123789Z",
     "shell.execute_reply.started": "2023-06-03T01:33:23.494877Z",
     "shell.execute_reply": "2023-06-03T01:33:24.122302Z"
    },
    "trusted": true
   },
   "execution_count": 70,
   "outputs": [
    {
     "name": "stderr",
     "text": "/opt/conda/lib/python3.10/site-packages/sklearn/metrics/_classification.py:1344: UndefinedMetricWarning: Precision and F-score are ill-defined and being set to 0.0 in labels with no predicted samples. Use `zero_division` parameter to control this behavior.\n  _warn_prf(average, modifier, msg_start, len(result))\n",
     "output_type": "stream"
    },
    {
     "name": "stdout",
     "text": "              precision    recall  f1-score   support\n\n           0       0.00      0.00      0.00     97278\n           1       0.80      1.00      0.89    396743\n\n    accuracy                           0.80    494021\n   macro avg       0.40      0.50      0.45    494021\nweighted avg       0.64      0.80      0.72    494021\n\n",
     "output_type": "stream"
    },
    {
     "name": "stderr",
     "text": "/opt/conda/lib/python3.10/site-packages/sklearn/metrics/_classification.py:1344: UndefinedMetricWarning: Precision and F-score are ill-defined and being set to 0.0 in labels with no predicted samples. Use `zero_division` parameter to control this behavior.\n  _warn_prf(average, modifier, msg_start, len(result))\n/opt/conda/lib/python3.10/site-packages/sklearn/metrics/_classification.py:1344: UndefinedMetricWarning: Precision and F-score are ill-defined and being set to 0.0 in labels with no predicted samples. Use `zero_division` parameter to control this behavior.\n  _warn_prf(average, modifier, msg_start, len(result))\n",
     "output_type": "stream"
    }
   ]
  },
  {
   "cell_type": "code",
   "execution_count": null,
   "outputs": [],
   "source": [
    "# 对于模型进行评估\n",
    "print(classification_report(y,y_pred))"
   ],
   "metadata": {
    "collapsed": false
   }
  },
  {
   "cell_type": "markdown",
   "source": [
    "Iso Forest出了点问题，重新试验一下"
   ],
   "metadata": {
    "collapsed": false
   }
  },
  {
   "cell_type": "code",
   "source": [
    "clf = IsolationForest(max_samples=100, random_state=42)\n",
    "clf.fit(X)\n",
    "y_pred = clf.predict(X)"
   ],
   "metadata": {
    "execution": {
     "iopub.status.busy": "2023-06-03T01:44:54.474588Z",
     "iopub.execute_input": "2023-06-03T01:44:54.475043Z",
     "iopub.status.idle": "2023-06-03T01:44:54.893566Z",
     "shell.execute_reply.started": "2023-06-03T01:44:54.475012Z",
     "shell.execute_reply": "2023-06-03T01:44:54.892329Z"
    },
    "trusted": true
   },
   "execution_count": 75,
   "outputs": []
  },
  {
   "cell_type": "code",
   "source": [
    "# 将-1改成0，1改成1\n",
    "y_pred=pd.Series(list(map(lambda x:1 if x==1 else 0,y_pred)))"
   ],
   "metadata": {
    "execution": {
     "iopub.status.busy": "2023-06-03T01:44:58.548459Z",
     "iopub.execute_input": "2023-06-03T01:44:58.548926Z",
     "iopub.status.idle": "2023-06-03T01:44:58.557865Z",
     "shell.execute_reply.started": "2023-06-03T01:44:58.548894Z",
     "shell.execute_reply": "2023-06-03T01:44:58.556488Z"
    },
    "trusted": true
   },
   "execution_count": 76,
   "outputs": [
    {
     "name": "stdout",
     "text": "Isolation Forest算法错误率： 0.1983964244434953\n",
     "output_type": "stream"
    }
   ]
  },
  {
   "cell_type": "code",
   "source": [
    "# 计算错误率\n",
    "n_error=(y_pred!=y).sum()\n",
    "print('Isolation Forest算法错误率：',n_error/len(y))"
   ],
   "metadata": {
    "execution": {
     "iopub.status.busy": "2023-06-03T01:45:01.843389Z",
     "iopub.execute_input": "2023-06-03T01:45:01.843793Z",
     "iopub.status.idle": "2023-06-03T01:45:02.487989Z",
     "shell.execute_reply.started": "2023-06-03T01:45:01.843763Z",
     "shell.execute_reply": "2023-06-03T01:45:02.487064Z"
    },
    "trusted": true
   },
   "execution_count": 77,
   "outputs": [
    {
     "name": "stdout",
     "text": "              precision    recall  f1-score   support\n\n           0       0.50      0.57      0.53     97278\n           1       0.89      0.86      0.87    396743\n\n    accuracy                           0.80    494021\n   macro avg       0.69      0.71      0.70    494021\nweighted avg       0.81      0.80      0.81    494021\n\n",
     "output_type": "stream"
    }
   ]
  },
  {
   "cell_type": "code",
   "execution_count": null,
   "outputs": [],
   "source": [
    "# 对于模型进行评估\n",
    "print(classification_report(y,y_pred))"
   ],
   "metadata": {
    "collapsed": false
   }
  },
  {
   "cell_type": "markdown",
   "source": [
    "调整参数"
   ],
   "metadata": {
    "collapsed": false
   }
  },
  {
   "cell_type": "code",
   "source": [
    "clf = IsolationForest(max_samples=1000, random_state=42)\n",
    "clf.fit(X)\n",
    "y_pred = clf.predict(X)"
   ],
   "metadata": {
    "execution": {
     "iopub.status.busy": "2023-06-03T01:52:45.045112Z",
     "iopub.execute_input": "2023-06-03T01:52:45.045456Z",
     "iopub.status.idle": "2023-06-03T01:52:45.459872Z",
     "shell.execute_reply.started": "2023-06-03T01:52:45.045429Z",
     "shell.execute_reply": "2023-06-03T01:52:45.458611Z"
    },
    "trusted": true
   },
   "execution_count": 80,
   "outputs": []
  },
  {
   "cell_type": "code",
   "source": [
    "# 将-1改成0，1改成1\n",
    "y_pred=pd.Series(list(map(lambda x:1 if x==1 else 0,y_pred)))"
   ],
   "metadata": {
    "execution": {
     "iopub.status.busy": "2023-06-03T01:52:49.587403Z",
     "iopub.execute_input": "2023-06-03T01:52:49.587813Z",
     "iopub.status.idle": "2023-06-03T01:52:49.595613Z",
     "shell.execute_reply.started": "2023-06-03T01:52:49.587783Z",
     "shell.execute_reply": "2023-06-03T01:52:49.594347Z"
    },
    "trusted": true
   },
   "execution_count": 81,
   "outputs": [
    {
     "name": "stdout",
     "text": "Isolation Forest算法错误率： 0.19380147807481868\n",
     "output_type": "stream"
    }
   ]
  },
  {
   "cell_type": "code",
   "source": [
    "# 计算错误率\n",
    "n_error=(y_pred!=y).sum()\n",
    "print('Isolation Forest算法错误率：',n_error/len(y))"
   ],
   "metadata": {
    "execution": {
     "iopub.status.busy": "2023-06-03T01:53:07.714281Z",
     "iopub.execute_input": "2023-06-03T01:53:07.714688Z",
     "iopub.status.idle": "2023-06-03T01:53:08.362140Z",
     "shell.execute_reply.started": "2023-06-03T01:53:07.714660Z",
     "shell.execute_reply": "2023-06-03T01:53:08.360965Z"
    },
    "trusted": true
   },
   "execution_count": 82,
   "outputs": [
    {
     "name": "stdout",
     "text": "              precision    recall  f1-score   support\n\n           0       0.52      0.18      0.27     97278\n           1       0.83      0.96      0.89    396743\n\n    accuracy                           0.81    494021\n   macro avg       0.67      0.57      0.58    494021\nweighted avg       0.77      0.81      0.77    494021\n\n",
     "output_type": "stream"
    }
   ]
  },
  {
   "cell_type": "code",
   "source": [
    "# 对于模型进行评估\n",
    "print(classification_report(y,y_pred))"
   ],
   "metadata": {
    "execution": {
     "iopub.status.busy": "2023-06-03T01:53:43.399008Z",
     "iopub.execute_input": "2023-06-03T01:53:43.399408Z",
     "iopub.status.idle": "2023-06-03T01:57:17.507862Z",
     "shell.execute_reply.started": "2023-06-03T01:53:43.399379Z",
     "shell.execute_reply": "2023-06-03T01:57:17.506729Z"
    },
    "trusted": true
   },
   "execution_count": 83,
   "outputs": [
    {
     "name": "stderr",
     "text": "/opt/conda/lib/python3.10/site-packages/sklearn/model_selection/_validation.py:778: UserWarning: Scoring failed. The score on this train-test partition for these parameters will be set to nan. Details: \nTraceback (most recent call last):\n  File \"/opt/conda/lib/python3.10/site-packages/sklearn/model_selection/_validation.py\", line 767, in _score\n    scores = scorer(estimator, X_test, y_test)\n  File \"/opt/conda/lib/python3.10/site-packages/sklearn/metrics/_scorer.py\", line 234, in __call__\n    return self._score(\n  File \"/opt/conda/lib/python3.10/site-packages/sklearn/metrics/_scorer.py\", line 282, in _score\n    return self._sign * self._score_func(y_true, y_pred, **self._kwargs)\n  File \"/opt/conda/lib/python3.10/site-packages/sklearn/metrics/_ranking.py\", line 572, in roc_auc_score\n    return _average_binary_score(\n  File \"/opt/conda/lib/python3.10/site-packages/sklearn/metrics/_base.py\", line 75, in _average_binary_score\n    return binary_metric(y_true, y_score, sample_weight=sample_weight)\n  File \"/opt/conda/lib/python3.10/site-packages/sklearn/metrics/_ranking.py\", line 339, in _binary_roc_auc_score\n    raise ValueError(\nValueError: Only one class present in y_true. ROC AUC score is not defined in that case.\n\n  warnings.warn(\n/opt/conda/lib/python3.10/site-packages/sklearn/model_selection/_validation.py:778: UserWarning: Scoring failed. The score on this train-test partition for these parameters will be set to nan. Details: \nTraceback (most recent call last):\n  File \"/opt/conda/lib/python3.10/site-packages/sklearn/model_selection/_validation.py\", line 767, in _score\n    scores = scorer(estimator, X_test, y_test)\n  File \"/opt/conda/lib/python3.10/site-packages/sklearn/metrics/_scorer.py\", line 234, in __call__\n    return self._score(\n  File \"/opt/conda/lib/python3.10/site-packages/sklearn/metrics/_scorer.py\", line 282, in _score\n    return self._sign * self._score_func(y_true, y_pred, **self._kwargs)\n  File \"/opt/conda/lib/python3.10/site-packages/sklearn/metrics/_ranking.py\", line 572, in roc_auc_score\n    return _average_binary_score(\n  File \"/opt/conda/lib/python3.10/site-packages/sklearn/metrics/_base.py\", line 75, in _average_binary_score\n    return binary_metric(y_true, y_score, sample_weight=sample_weight)\n  File \"/opt/conda/lib/python3.10/site-packages/sklearn/metrics/_ranking.py\", line 339, in _binary_roc_auc_score\n    raise ValueError(\nValueError: Only one class present in y_true. ROC AUC score is not defined in that case.\n\n  warnings.warn(\n/opt/conda/lib/python3.10/site-packages/sklearn/model_selection/_validation.py:778: UserWarning: Scoring failed. The score on this train-test partition for these parameters will be set to nan. Details: \nTraceback (most recent call last):\n  File \"/opt/conda/lib/python3.10/site-packages/sklearn/model_selection/_validation.py\", line 767, in _score\n    scores = scorer(estimator, X_test, y_test)\n  File \"/opt/conda/lib/python3.10/site-packages/sklearn/metrics/_scorer.py\", line 234, in __call__\n    return self._score(\n  File \"/opt/conda/lib/python3.10/site-packages/sklearn/metrics/_scorer.py\", line 282, in _score\n    return self._sign * self._score_func(y_true, y_pred, **self._kwargs)\n  File \"/opt/conda/lib/python3.10/site-packages/sklearn/metrics/_ranking.py\", line 572, in roc_auc_score\n    return _average_binary_score(\n  File \"/opt/conda/lib/python3.10/site-packages/sklearn/metrics/_base.py\", line 75, in _average_binary_score\n    return binary_metric(y_true, y_score, sample_weight=sample_weight)\n  File \"/opt/conda/lib/python3.10/site-packages/sklearn/metrics/_ranking.py\", line 339, in _binary_roc_auc_score\n    raise ValueError(\nValueError: Only one class present in y_true. ROC AUC score is not defined in that case.\n\n  warnings.warn(\n/opt/conda/lib/python3.10/site-packages/sklearn/model_selection/_validation.py:778: UserWarning: Scoring failed. The score on this train-test partition for these parameters will be set to nan. Details: \nTraceback (most recent call last):\n  File \"/opt/conda/lib/python3.10/site-packages/sklearn/model_selection/_validation.py\", line 767, in _score\n    scores = scorer(estimator, X_test, y_test)\n  File \"/opt/conda/lib/python3.10/site-packages/sklearn/metrics/_scorer.py\", line 234, in __call__\n    return self._score(\n  File \"/opt/conda/lib/python3.10/site-packages/sklearn/metrics/_scorer.py\", line 282, in _score\n    return self._sign * self._score_func(y_true, y_pred, **self._kwargs)\n  File \"/opt/conda/lib/python3.10/site-packages/sklearn/metrics/_ranking.py\", line 572, in roc_auc_score\n    return _average_binary_score(\n  File \"/opt/conda/lib/python3.10/site-packages/sklearn/metrics/_base.py\", line 75, in _average_binary_score\n    return binary_metric(y_true, y_score, sample_weight=sample_weight)\n  File \"/opt/conda/lib/python3.10/site-packages/sklearn/metrics/_ranking.py\", line 339, in _binary_roc_auc_score\n    raise ValueError(\nValueError: Only one class present in y_true. ROC AUC score is not defined in that case.\n\n  warnings.warn(\n/opt/conda/lib/python3.10/site-packages/sklearn/model_selection/_validation.py:778: UserWarning: Scoring failed. The score on this train-test partition for these parameters will be set to nan. Details: \nTraceback (most recent call last):\n  File \"/opt/conda/lib/python3.10/site-packages/sklearn/model_selection/_validation.py\", line 767, in _score\n    scores = scorer(estimator, X_test, y_test)\n  File \"/opt/conda/lib/python3.10/site-packages/sklearn/metrics/_scorer.py\", line 234, in __call__\n    return self._score(\n  File \"/opt/conda/lib/python3.10/site-packages/sklearn/metrics/_scorer.py\", line 282, in _score\n    return self._sign * self._score_func(y_true, y_pred, **self._kwargs)\n  File \"/opt/conda/lib/python3.10/site-packages/sklearn/metrics/_ranking.py\", line 572, in roc_auc_score\n    return _average_binary_score(\n  File \"/opt/conda/lib/python3.10/site-packages/sklearn/metrics/_base.py\", line 75, in _average_binary_score\n    return binary_metric(y_true, y_score, sample_weight=sample_weight)\n  File \"/opt/conda/lib/python3.10/site-packages/sklearn/metrics/_ranking.py\", line 339, in _binary_roc_auc_score\n    raise ValueError(\nValueError: Only one class present in y_true. ROC AUC score is not defined in that case.\n\n  warnings.warn(\n/opt/conda/lib/python3.10/site-packages/sklearn/model_selection/_validation.py:778: UserWarning: Scoring failed. The score on this train-test partition for these parameters will be set to nan. Details: \nTraceback (most recent call last):\n  File \"/opt/conda/lib/python3.10/site-packages/sklearn/model_selection/_validation.py\", line 767, in _score\n    scores = scorer(estimator, X_test, y_test)\n  File \"/opt/conda/lib/python3.10/site-packages/sklearn/metrics/_scorer.py\", line 234, in __call__\n    return self._score(\n  File \"/opt/conda/lib/python3.10/site-packages/sklearn/metrics/_scorer.py\", line 282, in _score\n    return self._sign * self._score_func(y_true, y_pred, **self._kwargs)\n  File \"/opt/conda/lib/python3.10/site-packages/sklearn/metrics/_ranking.py\", line 572, in roc_auc_score\n    return _average_binary_score(\n  File \"/opt/conda/lib/python3.10/site-packages/sklearn/metrics/_base.py\", line 75, in _average_binary_score\n    return binary_metric(y_true, y_score, sample_weight=sample_weight)\n  File \"/opt/conda/lib/python3.10/site-packages/sklearn/metrics/_ranking.py\", line 339, in _binary_roc_auc_score\n    raise ValueError(\nValueError: Only one class present in y_true. ROC AUC score is not defined in that case.\n\n  warnings.warn(\n/opt/conda/lib/python3.10/site-packages/sklearn/model_selection/_validation.py:778: UserWarning: Scoring failed. The score on this train-test partition for these parameters will be set to nan. Details: \nTraceback (most recent call last):\n  File \"/opt/conda/lib/python3.10/site-packages/sklearn/model_selection/_validation.py\", line 767, in _score\n    scores = scorer(estimator, X_test, y_test)\n  File \"/opt/conda/lib/python3.10/site-packages/sklearn/metrics/_scorer.py\", line 234, in __call__\n    return self._score(\n  File \"/opt/conda/lib/python3.10/site-packages/sklearn/metrics/_scorer.py\", line 282, in _score\n    return self._sign * self._score_func(y_true, y_pred, **self._kwargs)\n  File \"/opt/conda/lib/python3.10/site-packages/sklearn/metrics/_ranking.py\", line 572, in roc_auc_score\n    return _average_binary_score(\n  File \"/opt/conda/lib/python3.10/site-packages/sklearn/metrics/_base.py\", line 75, in _average_binary_score\n    return binary_metric(y_true, y_score, sample_weight=sample_weight)\n  File \"/opt/conda/lib/python3.10/site-packages/sklearn/metrics/_ranking.py\", line 339, in _binary_roc_auc_score\n    raise ValueError(\nValueError: Only one class present in y_true. ROC AUC score is not defined in that case.\n\n  warnings.warn(\n/opt/conda/lib/python3.10/site-packages/sklearn/model_selection/_validation.py:778: UserWarning: Scoring failed. The score on this train-test partition for these parameters will be set to nan. Details: \nTraceback (most recent call last):\n  File \"/opt/conda/lib/python3.10/site-packages/sklearn/model_selection/_validation.py\", line 767, in _score\n    scores = scorer(estimator, X_test, y_test)\n  File \"/opt/conda/lib/python3.10/site-packages/sklearn/metrics/_scorer.py\", line 234, in __call__\n    return self._score(\n  File \"/opt/conda/lib/python3.10/site-packages/sklearn/metrics/_scorer.py\", line 282, in _score\n    return self._sign * self._score_func(y_true, y_pred, **self._kwargs)\n  File \"/opt/conda/lib/python3.10/site-packages/sklearn/metrics/_ranking.py\", line 572, in roc_auc_score\n    return _average_binary_score(\n  File \"/opt/conda/lib/python3.10/site-packages/sklearn/metrics/_base.py\", line 75, in _average_binary_score\n    return binary_metric(y_true, y_score, sample_weight=sample_weight)\n  File \"/opt/conda/lib/python3.10/site-packages/sklearn/metrics/_ranking.py\", line 339, in _binary_roc_auc_score\n    raise ValueError(\nValueError: Only one class present in y_true. ROC AUC score is not defined in that case.\n\n  warnings.warn(\n/opt/conda/lib/python3.10/site-packages/sklearn/model_selection/_validation.py:778: UserWarning: Scoring failed. The score on this train-test partition for these parameters will be set to nan. Details: \nTraceback (most recent call last):\n  File \"/opt/conda/lib/python3.10/site-packages/sklearn/model_selection/_validation.py\", line 767, in _score\n    scores = scorer(estimator, X_test, y_test)\n  File \"/opt/conda/lib/python3.10/site-packages/sklearn/metrics/_scorer.py\", line 234, in __call__\n    return self._score(\n  File \"/opt/conda/lib/python3.10/site-packages/sklearn/metrics/_scorer.py\", line 282, in _score\n    return self._sign * self._score_func(y_true, y_pred, **self._kwargs)\n  File \"/opt/conda/lib/python3.10/site-packages/sklearn/metrics/_ranking.py\", line 572, in roc_auc_score\n    return _average_binary_score(\n  File \"/opt/conda/lib/python3.10/site-packages/sklearn/metrics/_base.py\", line 75, in _average_binary_score\n    return binary_metric(y_true, y_score, sample_weight=sample_weight)\n  File \"/opt/conda/lib/python3.10/site-packages/sklearn/metrics/_ranking.py\", line 339, in _binary_roc_auc_score\n    raise ValueError(\nValueError: Only one class present in y_true. ROC AUC score is not defined in that case.\n\n  warnings.warn(\n/opt/conda/lib/python3.10/site-packages/sklearn/model_selection/_validation.py:778: UserWarning: Scoring failed. The score on this train-test partition for these parameters will be set to nan. Details: \nTraceback (most recent call last):\n  File \"/opt/conda/lib/python3.10/site-packages/sklearn/model_selection/_validation.py\", line 767, in _score\n    scores = scorer(estimator, X_test, y_test)\n  File \"/opt/conda/lib/python3.10/site-packages/sklearn/metrics/_scorer.py\", line 234, in __call__\n    return self._score(\n  File \"/opt/conda/lib/python3.10/site-packages/sklearn/metrics/_scorer.py\", line 282, in _score\n    return self._sign * self._score_func(y_true, y_pred, **self._kwargs)\n  File \"/opt/conda/lib/python3.10/site-packages/sklearn/metrics/_ranking.py\", line 572, in roc_auc_score\n    return _average_binary_score(\n  File \"/opt/conda/lib/python3.10/site-packages/sklearn/metrics/_base.py\", line 75, in _average_binary_score\n    return binary_metric(y_true, y_score, sample_weight=sample_weight)\n  File \"/opt/conda/lib/python3.10/site-packages/sklearn/metrics/_ranking.py\", line 339, in _binary_roc_auc_score\n    raise ValueError(\nValueError: Only one class present in y_true. ROC AUC score is not defined in that case.\n\n  warnings.warn(\n/opt/conda/lib/python3.10/site-packages/sklearn/model_selection/_search.py:952: UserWarning: One or more of the test scores are non-finite: [nan nan nan nan nan nan nan nan nan nan]\n  warnings.warn(\n",
     "output_type": "stream"
    },
    {
     "execution_count": 83,
     "output_type": "execute_result",
     "data": {
      "text/plain": "{'max_samples': 100}"
     },
     "metadata": {}
    }
   ]
  },
  {
   "cell_type": "code",
   "execution_count": null,
   "outputs": [],
   "source": [
    "# 对于IsoForest算法进行调参\n",
    "from sklearn.model_selection import GridSearchCV\n",
    "from sklearn.ensemble import IsolationForest\n",
    "from sklearn.metrics import make_scorer\n",
    "from sklearn.metrics import roc_auc_score\n",
    "\n",
    "# 创建自定义的评分函数\n",
    "scorer = make_scorer(roc_auc_score)\n",
    "\n",
    "param_grid = {'max_samples': [100, 200, 300, 400, 500, 600, 700, 800, 900, 1000]}\n",
    "grid_search = GridSearchCV(IsolationForest(random_state=42), param_grid, cv=5, scoring=scorer)\n",
    "grid_search.fit(X, y)\n",
    "\n",
    "grid_search.best_params_"
   ],
   "metadata": {
    "collapsed": false
   }
  }
 ]
}
