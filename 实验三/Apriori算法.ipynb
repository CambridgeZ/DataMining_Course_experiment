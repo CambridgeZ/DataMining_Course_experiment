{
 "cells": [
  {
   "cell_type": "code",
   "execution_count": 17,
   "metadata": {
    "collapsed": false,
    "pycharm": {
     "is_executing": true
    }
   },
   "outputs": [],
   "source": [
    "import numpy as np\n",
    "import matplotlib.pyplot as plt\n",
    "import pandas as pd\n"
   ]
  },
  {
   "cell_type": "code",
   "execution_count": 33,
   "metadata": {},
   "outputs": [],
   "source": [
    "# Apriori 算法\n",
    "# 1. 支持度计算\n",
    "def loadDataSet():\n",
    "        # 读取数据txt中的数据\n",
    "        data = pd.read_csv('Transactions.csv')\n",
    "        return data"
   ]
  },
  {
   "cell_type": "code",
   "execution_count": 18,
   "metadata": {
    "collapsed": false
   },
   "outputs": [],
   "source": [
    "def createC1(dataSet):# 创建候选项集\n",
    "    C1 = []\n",
    "    for transaction in dataSet:\n",
    "        for item in transaction:\n",
    "            if not [item] in C1:\n",
    "                C1.append([item])\n",
    "    C1.sort()\n",
    "    return list(map(frozenset, C1))# 使用frozenset是为了后面可以将这些值作为字典的键\n",
    "\n",
    "def scanD(D, Ck, minSupport):# 从候选项集中筛选出满足最小支持度的项集\n",
    "    ssCnt = {}\n",
    "\n",
    "    for tid in D: # 遍历数据集中的每一条交易记录\n",
    "        for can in Ck:\n",
    "            if can.issubset(tid):\n",
    "                if not can in ssCnt: # 如果不在字典中，就添加进去\n",
    "                    ssCnt[can] = 1\n",
    "                else: # 如果在字典中，就加1\n",
    "                    ssCnt[can] += 1\n",
    "    numItems = float(len(D))\n",
    "    retList = []\n",
    "    supportData = {}\n",
    "    for key in ssCnt:\n",
    "        support = ssCnt[key] / numItems\n",
    "        if support >= minSupport:\n",
    "            retList.insert(0, key)\n",
    "        supportData[key] = support\n",
    "    return retList, supportData\n",
    "\n"
   ]
  },
  {
   "cell_type": "code",
   "execution_count": 19,
   "metadata": {
    "collapsed": false
   },
   "outputs": [],
   "source": [
    "# 2. 生成候选项集\n",
    "def aprioriGen(Lk, k):# 生成候选项集\n",
    "    retList = []\n",
    "    lenLk = len(Lk)\n",
    "    for i in range(lenLk):\n",
    "        for j in range(i+1, lenLk):\n",
    "            L1 = list(Lk[i])[:k-2]; L2 = list(Lk[j])[:k-2]\n",
    "            L1.sort(); L2.sort()\n",
    "            if L1 == L2:\n",
    "                retList.append(Lk[i] | Lk[j])\n",
    "    return retList\n",
    "\n",
    "def apriori(dataSet, minSupport = 0.5): # 生成所有满足最小支持度的项集\n",
    "    C1 = createC1(dataSet)\n",
    "    D = list(map(set, dataSet))\n",
    "    L1, supportData = scanD(D, C1, minSupport)\n",
    "    L = [L1]\n",
    "    k = 2\n",
    "    while (len(L[k-2]) > 0):\n",
    "        Ck = aprioriGen(L[k-2], k)\n",
    "        Lk, supK = scanD(D, Ck, minSupport)\n",
    "        supportData.update(supK)\n",
    "        L.append(Lk)\n",
    "        k += 1\n",
    "    return L, supportData\n"
   ]
  },
  {
   "cell_type": "code",
   "execution_count": 20,
   "metadata": {},
   "outputs": [],
   "source": [
    "# 3. 生成关联规则\n",
    "def generateRules(L, supportData, minConf=0.7):# 生成关联规则\n",
    "    bigRuleList = []\n",
    "    for i in range(1, len(L)):\n",
    "        for freqSet in L[i]:\n",
    "            H1 = [frozenset([item]) for item in freqSet]\n",
    "            if (i > 1):\n",
    "                rulesFromConseq(freqSet, H1, supportData, bigRuleList, minConf)\n",
    "            else:\n",
    "                calcConf(freqSet, H1, supportData, bigRuleList, minConf)\n",
    "    return bigRuleList\n",
    "\n",
    "def calcConf(freqSet, H, supportData, brl, minConf=0.7):# 计算置信度\n",
    "    prunedH = []\n",
    "    for conseq in H:\n",
    "        conf = supportData[freqSet] / supportData[freqSet - conseq]\n",
    "        if conf >= minConf:\n",
    "            print(freqSet-conseq, '-->', conseq, 'conf:', conf)\n",
    "            brl.append((freqSet-conseq, conseq, conf))\n",
    "            prunedH.append(conseq)\n",
    "    return prunedH\n",
    "\n",
    "def rulesFromConseq(freqSet, H, supportData, brl, minConf=0.7):# 生成候选规则集\n",
    "    m = len(H[0])\n",
    "    if (len(freqSet) > (m + 1)):\n",
    "        Hmp1 = aprioriGen(H, m+1)\n",
    "        Hmp1 = calcConf(freqSet, Hmp1, supportData, brl, minConf)\n",
    "        if (len(Hmp1) > 1):\n",
    "            rulesFromConseq(freqSet, Hmp1, supportData, brl, minConf)\n",
    "\n",
    "    "
   ]
  },
  {
   "cell_type": "code",
   "execution_count": 35,
   "metadata": {
    "collapsed": false,
    "pycharm": {
     "is_executing": true
    }
   },
   "outputs": [
    {
     "data": {
      "text/html": [
       "<div>\n",
       "<style scoped>\n",
       "    .dataframe tbody tr th:only-of-type {\n",
       "        vertical-align: middle;\n",
       "    }\n",
       "\n",
       "    .dataframe tbody tr th {\n",
       "        vertical-align: top;\n",
       "    }\n",
       "\n",
       "    .dataframe thead th {\n",
       "        text-align: right;\n",
       "    }\n",
       "</style>\n",
       "<table border=\"1\" class=\"dataframe\">\n",
       "  <thead>\n",
       "    <tr style=\"text-align: right;\">\n",
       "      <th></th>\n",
       "      <th>COD</th>\n",
       "      <th>pasta</th>\n",
       "      <th>milk</th>\n",
       "      <th>water</th>\n",
       "      <th>biscuits</th>\n",
       "      <th>coffee</th>\n",
       "      <th>brioches</th>\n",
       "      <th>yoghurt</th>\n",
       "      <th>frozen vegetables</th>\n",
       "      <th>tunny</th>\n",
       "      <th>...</th>\n",
       "      <th>tomato souce</th>\n",
       "      <th>coke</th>\n",
       "      <th>rice</th>\n",
       "      <th>juices</th>\n",
       "      <th>crackers</th>\n",
       "      <th>oil</th>\n",
       "      <th>frozen fish</th>\n",
       "      <th>ice cream</th>\n",
       "      <th>mozzarella</th>\n",
       "      <th>tinned meat</th>\n",
       "    </tr>\n",
       "  </thead>\n",
       "  <tbody>\n",
       "    <tr>\n",
       "      <th>0</th>\n",
       "      <td>1</td>\n",
       "      <td>0</td>\n",
       "      <td>0</td>\n",
       "      <td>0</td>\n",
       "      <td>0</td>\n",
       "      <td>0</td>\n",
       "      <td>0</td>\n",
       "      <td>0</td>\n",
       "      <td>0</td>\n",
       "      <td>1</td>\n",
       "      <td>...</td>\n",
       "      <td>0</td>\n",
       "      <td>0</td>\n",
       "      <td>0</td>\n",
       "      <td>0</td>\n",
       "      <td>0</td>\n",
       "      <td>0</td>\n",
       "      <td>0</td>\n",
       "      <td>0</td>\n",
       "      <td>1</td>\n",
       "      <td>1</td>\n",
       "    </tr>\n",
       "    <tr>\n",
       "      <th>1</th>\n",
       "      <td>2</td>\n",
       "      <td>0</td>\n",
       "      <td>1</td>\n",
       "      <td>0</td>\n",
       "      <td>0</td>\n",
       "      <td>0</td>\n",
       "      <td>0</td>\n",
       "      <td>0</td>\n",
       "      <td>0</td>\n",
       "      <td>0</td>\n",
       "      <td>...</td>\n",
       "      <td>0</td>\n",
       "      <td>0</td>\n",
       "      <td>0</td>\n",
       "      <td>0</td>\n",
       "      <td>0</td>\n",
       "      <td>0</td>\n",
       "      <td>0</td>\n",
       "      <td>0</td>\n",
       "      <td>0</td>\n",
       "      <td>0</td>\n",
       "    </tr>\n",
       "    <tr>\n",
       "      <th>2</th>\n",
       "      <td>3</td>\n",
       "      <td>1</td>\n",
       "      <td>1</td>\n",
       "      <td>0</td>\n",
       "      <td>0</td>\n",
       "      <td>0</td>\n",
       "      <td>0</td>\n",
       "      <td>0</td>\n",
       "      <td>0</td>\n",
       "      <td>0</td>\n",
       "      <td>...</td>\n",
       "      <td>0</td>\n",
       "      <td>1</td>\n",
       "      <td>0</td>\n",
       "      <td>0</td>\n",
       "      <td>1</td>\n",
       "      <td>0</td>\n",
       "      <td>0</td>\n",
       "      <td>0</td>\n",
       "      <td>0</td>\n",
       "      <td>0</td>\n",
       "    </tr>\n",
       "    <tr>\n",
       "      <th>3</th>\n",
       "      <td>4</td>\n",
       "      <td>0</td>\n",
       "      <td>0</td>\n",
       "      <td>1</td>\n",
       "      <td>0</td>\n",
       "      <td>0</td>\n",
       "      <td>0</td>\n",
       "      <td>0</td>\n",
       "      <td>0</td>\n",
       "      <td>0</td>\n",
       "      <td>...</td>\n",
       "      <td>0</td>\n",
       "      <td>0</td>\n",
       "      <td>0</td>\n",
       "      <td>0</td>\n",
       "      <td>0</td>\n",
       "      <td>0</td>\n",
       "      <td>0</td>\n",
       "      <td>0</td>\n",
       "      <td>0</td>\n",
       "      <td>0</td>\n",
       "    </tr>\n",
       "    <tr>\n",
       "      <th>4</th>\n",
       "      <td>5</td>\n",
       "      <td>0</td>\n",
       "      <td>0</td>\n",
       "      <td>0</td>\n",
       "      <td>0</td>\n",
       "      <td>0</td>\n",
       "      <td>0</td>\n",
       "      <td>0</td>\n",
       "      <td>0</td>\n",
       "      <td>1</td>\n",
       "      <td>...</td>\n",
       "      <td>0</td>\n",
       "      <td>0</td>\n",
       "      <td>0</td>\n",
       "      <td>0</td>\n",
       "      <td>0</td>\n",
       "      <td>0</td>\n",
       "      <td>0</td>\n",
       "      <td>0</td>\n",
       "      <td>0</td>\n",
       "      <td>0</td>\n",
       "    </tr>\n",
       "  </tbody>\n",
       "</table>\n",
       "<p>5 rows × 21 columns</p>\n",
       "</div>"
      ],
      "text/plain": [
       "   COD   pasta   milk  water  biscuits  coffee  brioches  yoghurt  \\\n",
       "0    1        0     0      0         0       0         0        0   \n",
       "1    2        0     1      0         0       0         0        0   \n",
       "2    3        1     1      0         0       0         0        0   \n",
       "3    4        0     0      1         0       0         0        0   \n",
       "4    5        0     0      0         0       0         0        0   \n",
       "\n",
       "   frozen vegetables  tunny  ...  tomato souce  coke  rice  juices  crackers  \\\n",
       "0                  0      1  ...             0     0     0       0         0   \n",
       "1                  0      0  ...             0     0     0       0         0   \n",
       "2                  0      0  ...             0     1     0       0         1   \n",
       "3                  0      0  ...             0     0     0       0         0   \n",
       "4                  0      1  ...             0     0     0       0         0   \n",
       "\n",
       "   oil  frozen fish  ice cream  mozzarella  tinned meat  \n",
       "0    0            0          0           1            1  \n",
       "1    0            0          0           0            0  \n",
       "2    0            0          0           0            0  \n",
       "3    0            0          0           0            0  \n",
       "4    0            0          0           0            0  \n",
       "\n",
       "[5 rows x 21 columns]"
      ]
     },
     "execution_count": 35,
     "metadata": {},
     "output_type": "execute_result"
    }
   ],
   "source": [
    "# test\n",
    "dataSet = loadDataSet()\n",
    "dataSet.head()\n"
   ]
  },
  {
   "cell_type": "code",
   "execution_count": 36,
   "metadata": {
    "collapsed": false
   },
   "outputs": [
    {
     "name": "stdout",
     "output_type": "stream",
     "text": [
      "[frozenset({'e'})]\n",
      "{frozenset({'C'}): 0.047619047619047616, frozenset({'D'}): 0.047619047619047616, frozenset({'O'}): 0.047619047619047616, frozenset({' '}): 0.2857142857142857, frozenset({'a'}): 0.38095238095238093, frozenset({'p'}): 0.047619047619047616, frozenset({'s'}): 0.38095238095238093, frozenset({'t'}): 0.38095238095238093, frozenset({'i'}): 0.42857142857142855, frozenset({'k'}): 0.14285714285714285, frozenset({'l'}): 0.19047619047619047, frozenset({'m'}): 0.23809523809523808, frozenset({'e'}): 0.6666666666666666, frozenset({'r'}): 0.47619047619047616, frozenset({'w'}): 0.047619047619047616, frozenset({'b'}): 0.19047619047619047, frozenset({'c'}): 0.42857142857142855, frozenset({'u'}): 0.23809523809523808, frozenset({'f'}): 0.14285714285714285, frozenset({'o'}): 0.42857142857142855, frozenset({'h'}): 0.14285714285714285, frozenset({'g'}): 0.09523809523809523, frozenset({'y'}): 0.09523809523809523, frozenset({'n'}): 0.19047619047619047, frozenset({'v'}): 0.047619047619047616, frozenset({'z'}): 0.14285714285714285, frozenset({'j'}): 0.047619047619047616, frozenset({'d'}): 0.047619047619047616}\n"
     ]
    }
   ],
   "source": [
    "C1 = createC1(dataSet)\n",
    "D = list(map(set, dataSet))\n",
    "L1, supportData0 = scanD(D, C1, 0.5)\n",
    "print(L1)\n",
    "print(supportData0)"
   ]
  },
  {
   "cell_type": "code",
   "execution_count": 37,
   "metadata": {},
   "outputs": [
    {
     "name": "stdout",
     "output_type": "stream",
     "text": [
      "[[frozenset({'e'})], []]\n",
      "{frozenset({'C'}): 0.047619047619047616, frozenset({'D'}): 0.047619047619047616, frozenset({'O'}): 0.047619047619047616, frozenset({' '}): 0.2857142857142857, frozenset({'a'}): 0.38095238095238093, frozenset({'p'}): 0.047619047619047616, frozenset({'s'}): 0.38095238095238093, frozenset({'t'}): 0.38095238095238093, frozenset({'i'}): 0.42857142857142855, frozenset({'k'}): 0.14285714285714285, frozenset({'l'}): 0.19047619047619047, frozenset({'m'}): 0.23809523809523808, frozenset({'e'}): 0.6666666666666666, frozenset({'r'}): 0.47619047619047616, frozenset({'w'}): 0.047619047619047616, frozenset({'b'}): 0.19047619047619047, frozenset({'c'}): 0.42857142857142855, frozenset({'u'}): 0.23809523809523808, frozenset({'f'}): 0.14285714285714285, frozenset({'o'}): 0.42857142857142855, frozenset({'h'}): 0.14285714285714285, frozenset({'g'}): 0.09523809523809523, frozenset({'y'}): 0.09523809523809523, frozenset({'n'}): 0.19047619047619047, frozenset({'v'}): 0.047619047619047616, frozenset({'z'}): 0.14285714285714285, frozenset({'j'}): 0.047619047619047616, frozenset({'d'}): 0.047619047619047616}\n"
     ]
    }
   ],
   "source": [
    "L, supportData = apriori(dataSet)\n",
    "print(L)\n",
    "print(supportData)"
   ]
  },
  {
   "cell_type": "code",
   "execution_count": 38,
   "metadata": {},
   "outputs": [
    {
     "name": "stdout",
     "output_type": "stream",
     "text": [
      "[]\n"
     ]
    }
   ],
   "source": [
    "rules = generateRules(L, supportData, minConf=0.7)\n",
    "print(rules)"
   ]
  }
 ],
 "metadata": {
  "kernelspec": {
   "display_name": "Python 3",
   "language": "python",
   "name": "python3"
  },
  "language_info": {
   "codemirror_mode": {
    "name": "ipython",
    "version": 3
   },
   "file_extension": ".py",
   "mimetype": "text/x-python",
   "name": "python",
   "nbconvert_exporter": "python",
   "pygments_lexer": "ipython3",
   "version": "3.6.13"
  }
 },
 "nbformat": 4,
 "nbformat_minor": 0
}
