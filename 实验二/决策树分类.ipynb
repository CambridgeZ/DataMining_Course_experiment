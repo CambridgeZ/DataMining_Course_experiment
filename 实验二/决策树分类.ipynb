{
 "cells": [
  {
   "cell_type": "code",
   "execution_count": 37,
   "metadata": {},
   "outputs": [],
   "source": [
    "import pandas as pd\n",
    "import numpy as np\n",
    "import matplotlib.pyplot as plt\n",
    "\n",
    "import warnings\n",
    "warnings.filterwarnings('ignore')\n",
    "\n",
    "from sklearn import tree\n",
    "from sklearn.model_selection import train_test_split\n",
    "from sklearn.ensemble import RandomForestClassifier\n",
    "from sklearn.ensemble import AdaBoostClassifier\n",
    "from sklearn.naive_bayes import GaussianNB\n",
    "%matplotlib inline"
   ]
  },
  {
   "cell_type": "code",
   "execution_count": 38,
   "metadata": {},
   "outputs": [],
   "source": [
    "data_ori = pd.read_csv('/Users/mac/Desktop/数据挖掘实验/bankloan.csv')"
   ]
  },
  {
   "cell_type": "code",
   "execution_count": 72,
   "metadata": {},
   "outputs": [
    {
     "data": {
      "text/html": [
       "<div>\n",
       "<style scoped>\n",
       "    .dataframe tbody tr th:only-of-type {\n",
       "        vertical-align: middle;\n",
       "    }\n",
       "\n",
       "    .dataframe tbody tr th {\n",
       "        vertical-align: top;\n",
       "    }\n",
       "\n",
       "    .dataframe thead th {\n",
       "        text-align: right;\n",
       "    }\n",
       "</style>\n",
       "<table border=\"1\" class=\"dataframe\">\n",
       "  <thead>\n",
       "    <tr style=\"text-align: right;\">\n",
       "      <th></th>\n",
       "      <th>A1</th>\n",
       "      <th>A2</th>\n",
       "      <th>A3</th>\n",
       "      <th>A4</th>\n",
       "      <th>A5</th>\n",
       "      <th>A6</th>\n",
       "      <th>A7</th>\n",
       "      <th>A8</th>\n",
       "      <th>A9</th>\n",
       "      <th>A10</th>\n",
       "      <th>A11</th>\n",
       "      <th>A12</th>\n",
       "      <th>A13</th>\n",
       "      <th>A14</th>\n",
       "      <th>A15</th>\n",
       "      <th>A16</th>\n",
       "    </tr>\n",
       "  </thead>\n",
       "  <tbody>\n",
       "    <tr>\n",
       "      <th>0</th>\n",
       "      <td>1</td>\n",
       "      <td>30.83</td>\n",
       "      <td>0.000</td>\n",
       "      <td>0</td>\n",
       "      <td>0</td>\n",
       "      <td>9</td>\n",
       "      <td>0</td>\n",
       "      <td>1.25</td>\n",
       "      <td>0</td>\n",
       "      <td>0</td>\n",
       "      <td>1</td>\n",
       "      <td>1</td>\n",
       "      <td>0</td>\n",
       "      <td>202</td>\n",
       "      <td>0</td>\n",
       "      <td>1</td>\n",
       "    </tr>\n",
       "    <tr>\n",
       "      <th>1</th>\n",
       "      <td>0</td>\n",
       "      <td>58.67</td>\n",
       "      <td>4.460</td>\n",
       "      <td>0</td>\n",
       "      <td>0</td>\n",
       "      <td>8</td>\n",
       "      <td>1</td>\n",
       "      <td>3.04</td>\n",
       "      <td>0</td>\n",
       "      <td>0</td>\n",
       "      <td>6</td>\n",
       "      <td>1</td>\n",
       "      <td>0</td>\n",
       "      <td>43</td>\n",
       "      <td>560</td>\n",
       "      <td>1</td>\n",
       "    </tr>\n",
       "    <tr>\n",
       "      <th>2</th>\n",
       "      <td>0</td>\n",
       "      <td>24.50</td>\n",
       "      <td>0.500</td>\n",
       "      <td>0</td>\n",
       "      <td>0</td>\n",
       "      <td>8</td>\n",
       "      <td>1</td>\n",
       "      <td>1.50</td>\n",
       "      <td>0</td>\n",
       "      <td>1</td>\n",
       "      <td>0</td>\n",
       "      <td>1</td>\n",
       "      <td>0</td>\n",
       "      <td>280</td>\n",
       "      <td>824</td>\n",
       "      <td>1</td>\n",
       "    </tr>\n",
       "    <tr>\n",
       "      <th>3</th>\n",
       "      <td>1</td>\n",
       "      <td>27.83</td>\n",
       "      <td>1.540</td>\n",
       "      <td>0</td>\n",
       "      <td>0</td>\n",
       "      <td>9</td>\n",
       "      <td>0</td>\n",
       "      <td>3.75</td>\n",
       "      <td>0</td>\n",
       "      <td>0</td>\n",
       "      <td>5</td>\n",
       "      <td>0</td>\n",
       "      <td>0</td>\n",
       "      <td>100</td>\n",
       "      <td>3</td>\n",
       "      <td>1</td>\n",
       "    </tr>\n",
       "    <tr>\n",
       "      <th>4</th>\n",
       "      <td>1</td>\n",
       "      <td>20.17</td>\n",
       "      <td>5.625</td>\n",
       "      <td>0</td>\n",
       "      <td>0</td>\n",
       "      <td>9</td>\n",
       "      <td>0</td>\n",
       "      <td>1.71</td>\n",
       "      <td>0</td>\n",
       "      <td>1</td>\n",
       "      <td>0</td>\n",
       "      <td>1</td>\n",
       "      <td>2</td>\n",
       "      <td>120</td>\n",
       "      <td>0</td>\n",
       "      <td>1</td>\n",
       "    </tr>\n",
       "  </tbody>\n",
       "</table>\n",
       "</div>"
      ],
      "text/plain": [
       "   A1     A2     A3  A4  A5  A6  A7    A8  A9  A10  A11  A12  A13  A14  A15  \\\n",
       "0   1  30.83  0.000   0   0   9   0  1.25   0    0    1    1    0  202    0   \n",
       "1   0  58.67  4.460   0   0   8   1  3.04   0    0    6    1    0   43  560   \n",
       "2   0  24.50  0.500   0   0   8   1  1.50   0    1    0    1    0  280  824   \n",
       "3   1  27.83  1.540   0   0   9   0  3.75   0    0    5    0    0  100    3   \n",
       "4   1  20.17  5.625   0   0   9   0  1.71   0    1    0    1    2  120    0   \n",
       "\n",
       "   A16  \n",
       "0    1  \n",
       "1    1  \n",
       "2    1  \n",
       "3    1  \n",
       "4    1  "
      ]
     },
     "execution_count": 72,
     "metadata": {},
     "output_type": "execute_result"
    }
   ],
   "source": [
    "data_ori.head()"
   ]
  },
  {
   "cell_type": "code",
   "execution_count": 39,
   "metadata": {},
   "outputs": [
    {
     "name": "stdout",
     "output_type": "stream",
     "text": [
      "A1     12\n",
      "A2      0\n",
      "A3      0\n",
      "A4      6\n",
      "A5      6\n",
      "A6      9\n",
      "A7      9\n",
      "A8      0\n",
      "A9      0\n",
      "A10     0\n",
      "A11     0\n",
      "A12     0\n",
      "A13     0\n",
      "A14     0\n",
      "A15     0\n",
      "A16     0\n",
      "dtype: int64\n"
     ]
    }
   ],
   "source": [
    "# 数据预处理\n",
    "t = data_ori.isnull().sum()\n",
    "print(t)"
   ]
  },
  {
   "cell_type": "code",
   "execution_count": 40,
   "metadata": {},
   "outputs": [
    {
     "name": "stdout",
     "output_type": "stream",
     "text": [
      "A1    12\n",
      "A4     6\n",
      "A5     6\n",
      "A6     9\n",
      "A7     9\n",
      "dtype: int64\n"
     ]
    }
   ],
   "source": [
    "print(t[t>0])"
   ]
  },
  {
   "cell_type": "code",
   "execution_count": 41,
   "metadata": {},
   "outputs": [
    {
     "data": {
      "text/plain": [
       "b    468\n",
       "a    210\n",
       "Name: A1, dtype: int64"
      ]
     },
     "execution_count": 41,
     "metadata": {},
     "output_type": "execute_result"
    }
   ],
   "source": [
    "# 无缺失值\n",
    "data_ori['A1'].value_counts()"
   ]
  },
  {
   "cell_type": "code",
   "execution_count": 42,
   "metadata": {},
   "outputs": [],
   "source": [
    "data_ori['A1'].fillna('b',inplace=True) # 用众数填充"
   ]
  },
  {
   "cell_type": "code",
   "execution_count": 43,
   "metadata": {},
   "outputs": [
    {
     "data": {
      "text/plain": [
       "u    519\n",
       "y    163\n",
       "l      2\n",
       "Name: A4, dtype: int64"
      ]
     },
     "execution_count": 43,
     "metadata": {},
     "output_type": "execute_result"
    }
   ],
   "source": [
    "data_ori['A4'].value_counts()"
   ]
  },
  {
   "cell_type": "code",
   "execution_count": 44,
   "metadata": {},
   "outputs": [],
   "source": [
    "data_ori['A4'].fillna('u',inplace=True) # 用众数填充"
   ]
  },
  {
   "cell_type": "code",
   "execution_count": 45,
   "metadata": {},
   "outputs": [
    {
     "data": {
      "text/plain": [
       "g     519\n",
       "p     163\n",
       "gg      2\n",
       "Name: A5, dtype: int64"
      ]
     },
     "execution_count": 45,
     "metadata": {},
     "output_type": "execute_result"
    }
   ],
   "source": [
    "data_ori['A5'].value_counts()"
   ]
  },
  {
   "cell_type": "code",
   "execution_count": 46,
   "metadata": {},
   "outputs": [],
   "source": [
    "data_ori['A5'].fillna('g',inplace=True) # 用众数填充"
   ]
  },
  {
   "cell_type": "code",
   "execution_count": 47,
   "metadata": {},
   "outputs": [
    {
     "data": {
      "text/plain": [
       "c     137\n",
       "q      78\n",
       "w      64\n",
       "i      59\n",
       "aa     54\n",
       "ff     53\n",
       "k      51\n",
       "cc     41\n",
       "m      38\n",
       "x      38\n",
       "d      30\n",
       "e      25\n",
       "j      10\n",
       "r       3\n",
       "Name: A6, dtype: int64"
      ]
     },
     "execution_count": 47,
     "metadata": {},
     "output_type": "execute_result"
    }
   ],
   "source": [
    "data_ori['A6'].value_counts()"
   ]
  },
  {
   "cell_type": "code",
   "execution_count": 48,
   "metadata": {},
   "outputs": [],
   "source": [
    "data_ori['A6'].fillna('c',inplace=True) # 用众数填充"
   ]
  },
  {
   "cell_type": "code",
   "execution_count": 49,
   "metadata": {},
   "outputs": [
    {
     "data": {
      "text/plain": [
       "v     399\n",
       "h     138\n",
       "bb     59\n",
       "ff     57\n",
       "j       8\n",
       "z       8\n",
       "dd      6\n",
       "n       4\n",
       "o       2\n",
       "Name: A7, dtype: int64"
      ]
     },
     "execution_count": 49,
     "metadata": {},
     "output_type": "execute_result"
    }
   ],
   "source": [
    "data_ori['A7'].value_counts()"
   ]
  },
  {
   "cell_type": "code",
   "execution_count": 50,
   "metadata": {},
   "outputs": [],
   "source": [
    "data_ori['A7'].fillna('v',inplace=True) # 用众数填充"
   ]
  },
  {
   "cell_type": "code",
   "execution_count": 51,
   "metadata": {},
   "outputs": [
    {
     "data": {
      "text/plain": [
       "t    361\n",
       "f    329\n",
       "Name: A9, dtype: int64"
      ]
     },
     "execution_count": 51,
     "metadata": {},
     "output_type": "execute_result"
    }
   ],
   "source": [
    "data_ori['A9'].value_counts()"
   ]
  },
  {
   "cell_type": "code",
   "execution_count": 52,
   "metadata": {},
   "outputs": [],
   "source": [
    "data_ori['A9'].fillna('t',inplace=True) # 用众数填充"
   ]
  },
  {
   "cell_type": "code",
   "execution_count": 53,
   "metadata": {},
   "outputs": [
    {
     "data": {
      "text/plain": [
       "f    395\n",
       "t    295\n",
       "Name: A10, dtype: int64"
      ]
     },
     "execution_count": 53,
     "metadata": {},
     "output_type": "execute_result"
    }
   ],
   "source": [
    "data_ori['A10'].value_counts()"
   ]
  },
  {
   "cell_type": "code",
   "execution_count": 54,
   "metadata": {},
   "outputs": [],
   "source": [
    "data_ori['A10'].fillna('f',inplace=True) # 用众数填充"
   ]
  },
  {
   "cell_type": "code",
   "execution_count": 55,
   "metadata": {},
   "outputs": [
    {
     "data": {
      "text/plain": [
       "f    374\n",
       "t    316\n",
       "Name: A12, dtype: int64"
      ]
     },
     "execution_count": 55,
     "metadata": {},
     "output_type": "execute_result"
    }
   ],
   "source": [
    "data_ori['A12'].value_counts()"
   ]
  },
  {
   "cell_type": "code",
   "execution_count": 56,
   "metadata": {},
   "outputs": [],
   "source": [
    "data_ori['A12'].fillna('f',inplace=True) # 用众数填充"
   ]
  },
  {
   "cell_type": "code",
   "execution_count": 57,
   "metadata": {},
   "outputs": [
    {
     "data": {
      "text/plain": [
       "g    625\n",
       "s     57\n",
       "p      8\n",
       "Name: A13, dtype: int64"
      ]
     },
     "execution_count": 57,
     "metadata": {},
     "output_type": "execute_result"
    }
   ],
   "source": [
    "data_ori['A13'].value_counts()"
   ]
  },
  {
   "cell_type": "code",
   "execution_count": 58,
   "metadata": {},
   "outputs": [],
   "source": [
    "data_ori['A13'].fillna('g',inplace=True) # 用众数填充"
   ]
  },
  {
   "cell_type": "code",
   "execution_count": 59,
   "metadata": {},
   "outputs": [],
   "source": [
    "cols = ['A1','A4','A5','A6','A7','A9','A10','A12','A13']"
   ]
  },
  {
   "cell_type": "code",
   "execution_count": 60,
   "metadata": {},
   "outputs": [
    {
     "name": "stdout",
     "output_type": "stream",
     "text": [
      "A1 -> ['b' 'a']\n",
      "A4 -> ['u' 'y' 'l']\n",
      "A5 -> ['g' 'p' 'gg']\n",
      "A6 -> ['w' 'q' 'm' 'r' 'cc' 'k' 'c' 'd' 'x' 'i' 'e' 'aa' 'ff' 'j']\n",
      "A7 -> ['v' 'h' 'bb' 'ff' 'j' 'z' 'o' 'dd' 'n']\n",
      "A9 -> ['t' 'f']\n",
      "A10 -> ['t' 'f']\n",
      "A12 -> ['f' 't']\n",
      "A13 -> ['g' 's' 'p']\n"
     ]
    }
   ],
   "source": [
    "for col in cols:\n",
    "    print( col,'->' ,data_ori[col].unique())"
   ]
  },
  {
   "cell_type": "code",
   "execution_count": 61,
   "metadata": {},
   "outputs": [
    {
     "data": {
      "text/plain": [
       "(690, 16)"
      ]
     },
     "execution_count": 61,
     "metadata": {},
     "output_type": "execute_result"
    }
   ],
   "source": [
    "data_ori.shape"
   ]
  },
  {
   "cell_type": "code",
   "execution_count": 62,
   "metadata": {},
   "outputs": [
    {
     "data": {
      "text/html": [
       "<div>\n",
       "<style scoped>\n",
       "    .dataframe tbody tr th:only-of-type {\n",
       "        vertical-align: middle;\n",
       "    }\n",
       "\n",
       "    .dataframe tbody tr th {\n",
       "        vertical-align: top;\n",
       "    }\n",
       "\n",
       "    .dataframe thead th {\n",
       "        text-align: right;\n",
       "    }\n",
       "</style>\n",
       "<table border=\"1\" class=\"dataframe\">\n",
       "  <thead>\n",
       "    <tr style=\"text-align: right;\">\n",
       "      <th></th>\n",
       "      <th>A1</th>\n",
       "      <th>A2</th>\n",
       "      <th>A3</th>\n",
       "      <th>A4</th>\n",
       "      <th>A5</th>\n",
       "      <th>A6</th>\n",
       "      <th>A7</th>\n",
       "      <th>A8</th>\n",
       "      <th>A9</th>\n",
       "      <th>A10</th>\n",
       "      <th>A11</th>\n",
       "      <th>A12</th>\n",
       "      <th>A13</th>\n",
       "      <th>A14</th>\n",
       "      <th>A15</th>\n",
       "      <th>A16</th>\n",
       "    </tr>\n",
       "  </thead>\n",
       "  <tbody>\n",
       "    <tr>\n",
       "      <th>0</th>\n",
       "      <td>b</td>\n",
       "      <td>30.83</td>\n",
       "      <td>0.000</td>\n",
       "      <td>u</td>\n",
       "      <td>g</td>\n",
       "      <td>w</td>\n",
       "      <td>v</td>\n",
       "      <td>1.25</td>\n",
       "      <td>t</td>\n",
       "      <td>t</td>\n",
       "      <td>1</td>\n",
       "      <td>f</td>\n",
       "      <td>g</td>\n",
       "      <td>202</td>\n",
       "      <td>0</td>\n",
       "      <td>1</td>\n",
       "    </tr>\n",
       "    <tr>\n",
       "      <th>1</th>\n",
       "      <td>a</td>\n",
       "      <td>58.67</td>\n",
       "      <td>4.460</td>\n",
       "      <td>u</td>\n",
       "      <td>g</td>\n",
       "      <td>q</td>\n",
       "      <td>h</td>\n",
       "      <td>3.04</td>\n",
       "      <td>t</td>\n",
       "      <td>t</td>\n",
       "      <td>6</td>\n",
       "      <td>f</td>\n",
       "      <td>g</td>\n",
       "      <td>43</td>\n",
       "      <td>560</td>\n",
       "      <td>1</td>\n",
       "    </tr>\n",
       "    <tr>\n",
       "      <th>2</th>\n",
       "      <td>a</td>\n",
       "      <td>24.50</td>\n",
       "      <td>0.500</td>\n",
       "      <td>u</td>\n",
       "      <td>g</td>\n",
       "      <td>q</td>\n",
       "      <td>h</td>\n",
       "      <td>1.50</td>\n",
       "      <td>t</td>\n",
       "      <td>f</td>\n",
       "      <td>0</td>\n",
       "      <td>f</td>\n",
       "      <td>g</td>\n",
       "      <td>280</td>\n",
       "      <td>824</td>\n",
       "      <td>1</td>\n",
       "    </tr>\n",
       "    <tr>\n",
       "      <th>3</th>\n",
       "      <td>b</td>\n",
       "      <td>27.83</td>\n",
       "      <td>1.540</td>\n",
       "      <td>u</td>\n",
       "      <td>g</td>\n",
       "      <td>w</td>\n",
       "      <td>v</td>\n",
       "      <td>3.75</td>\n",
       "      <td>t</td>\n",
       "      <td>t</td>\n",
       "      <td>5</td>\n",
       "      <td>t</td>\n",
       "      <td>g</td>\n",
       "      <td>100</td>\n",
       "      <td>3</td>\n",
       "      <td>1</td>\n",
       "    </tr>\n",
       "    <tr>\n",
       "      <th>4</th>\n",
       "      <td>b</td>\n",
       "      <td>20.17</td>\n",
       "      <td>5.625</td>\n",
       "      <td>u</td>\n",
       "      <td>g</td>\n",
       "      <td>w</td>\n",
       "      <td>v</td>\n",
       "      <td>1.71</td>\n",
       "      <td>t</td>\n",
       "      <td>f</td>\n",
       "      <td>0</td>\n",
       "      <td>f</td>\n",
       "      <td>s</td>\n",
       "      <td>120</td>\n",
       "      <td>0</td>\n",
       "      <td>1</td>\n",
       "    </tr>\n",
       "  </tbody>\n",
       "</table>\n",
       "</div>"
      ],
      "text/plain": [
       "  A1     A2     A3 A4 A5 A6 A7    A8 A9 A10  A11 A12 A13  A14  A15  A16\n",
       "0  b  30.83  0.000  u  g  w  v  1.25  t   t    1   f   g  202    0    1\n",
       "1  a  58.67  4.460  u  g  q  h  3.04  t   t    6   f   g   43  560    1\n",
       "2  a  24.50  0.500  u  g  q  h  1.50  t   f    0   f   g  280  824    1\n",
       "3  b  27.83  1.540  u  g  w  v  3.75  t   t    5   t   g  100    3    1\n",
       "4  b  20.17  5.625  u  g  w  v  1.71  t   f    0   f   s  120    0    1"
      ]
     },
     "execution_count": 62,
     "metadata": {},
     "output_type": "execute_result"
    }
   ],
   "source": [
    "data_ori.head()"
   ]
  },
  {
   "cell_type": "code",
   "execution_count": 63,
   "metadata": {},
   "outputs": [],
   "source": [
    "# 将数值进行数据化\n",
    "data_ori['A1'] = data_ori['A1'].map({'a':0,'b':1})\n",
    "data_ori['A4'] = data_ori['A4'].map({'u':0,'y':1,'l':2})\n",
    "data_ori['A5'] = data_ori['A5'].map({'g':0,'p':1,'gg':2})\n",
    "data_ori['A6'] = data_ori['A6'].map({'c':0,'d':1,'cc':2,'i':3,'j':4,'k':5,'m':6,'r':7,'q':8,'w':9,'x':10,'e':11,'aa':12,'ff':13})\n",
    "data_ori['A7'] = data_ori['A7'].map({'v':0,'h':1,'bb':2,'j':3,'n':4,'z':5,'dd':6,'ff':7,'o':8})\n",
    "data_ori['A9'] = data_ori['A9'].map({'t':0,'f':1})\n",
    "data_ori['A10'] = data_ori['A10'].map({'t':0,'f':1})\n",
    "data_ori['A12'] = data_ori['A12'].map({'t':0,'f':1})\n",
    "data_ori['A13'] = data_ori['A13'].map({'g':0,'p':1,'s':2})\n"
   ]
  },
  {
   "cell_type": "code",
   "execution_count": 64,
   "metadata": {},
   "outputs": [
    {
     "data": {
      "text/html": [
       "<div>\n",
       "<style scoped>\n",
       "    .dataframe tbody tr th:only-of-type {\n",
       "        vertical-align: middle;\n",
       "    }\n",
       "\n",
       "    .dataframe tbody tr th {\n",
       "        vertical-align: top;\n",
       "    }\n",
       "\n",
       "    .dataframe thead th {\n",
       "        text-align: right;\n",
       "    }\n",
       "</style>\n",
       "<table border=\"1\" class=\"dataframe\">\n",
       "  <thead>\n",
       "    <tr style=\"text-align: right;\">\n",
       "      <th></th>\n",
       "      <th>A1</th>\n",
       "      <th>A2</th>\n",
       "      <th>A3</th>\n",
       "      <th>A4</th>\n",
       "      <th>A5</th>\n",
       "      <th>A6</th>\n",
       "      <th>A7</th>\n",
       "      <th>A8</th>\n",
       "      <th>A9</th>\n",
       "      <th>A10</th>\n",
       "      <th>A11</th>\n",
       "      <th>A12</th>\n",
       "      <th>A13</th>\n",
       "      <th>A14</th>\n",
       "      <th>A15</th>\n",
       "      <th>A16</th>\n",
       "    </tr>\n",
       "  </thead>\n",
       "  <tbody>\n",
       "    <tr>\n",
       "      <th>0</th>\n",
       "      <td>1</td>\n",
       "      <td>30.83</td>\n",
       "      <td>0.000</td>\n",
       "      <td>0</td>\n",
       "      <td>0</td>\n",
       "      <td>9</td>\n",
       "      <td>0</td>\n",
       "      <td>1.25</td>\n",
       "      <td>0</td>\n",
       "      <td>0</td>\n",
       "      <td>1</td>\n",
       "      <td>1</td>\n",
       "      <td>0</td>\n",
       "      <td>202</td>\n",
       "      <td>0</td>\n",
       "      <td>1</td>\n",
       "    </tr>\n",
       "    <tr>\n",
       "      <th>1</th>\n",
       "      <td>0</td>\n",
       "      <td>58.67</td>\n",
       "      <td>4.460</td>\n",
       "      <td>0</td>\n",
       "      <td>0</td>\n",
       "      <td>8</td>\n",
       "      <td>1</td>\n",
       "      <td>3.04</td>\n",
       "      <td>0</td>\n",
       "      <td>0</td>\n",
       "      <td>6</td>\n",
       "      <td>1</td>\n",
       "      <td>0</td>\n",
       "      <td>43</td>\n",
       "      <td>560</td>\n",
       "      <td>1</td>\n",
       "    </tr>\n",
       "    <tr>\n",
       "      <th>2</th>\n",
       "      <td>0</td>\n",
       "      <td>24.50</td>\n",
       "      <td>0.500</td>\n",
       "      <td>0</td>\n",
       "      <td>0</td>\n",
       "      <td>8</td>\n",
       "      <td>1</td>\n",
       "      <td>1.50</td>\n",
       "      <td>0</td>\n",
       "      <td>1</td>\n",
       "      <td>0</td>\n",
       "      <td>1</td>\n",
       "      <td>0</td>\n",
       "      <td>280</td>\n",
       "      <td>824</td>\n",
       "      <td>1</td>\n",
       "    </tr>\n",
       "    <tr>\n",
       "      <th>3</th>\n",
       "      <td>1</td>\n",
       "      <td>27.83</td>\n",
       "      <td>1.540</td>\n",
       "      <td>0</td>\n",
       "      <td>0</td>\n",
       "      <td>9</td>\n",
       "      <td>0</td>\n",
       "      <td>3.75</td>\n",
       "      <td>0</td>\n",
       "      <td>0</td>\n",
       "      <td>5</td>\n",
       "      <td>0</td>\n",
       "      <td>0</td>\n",
       "      <td>100</td>\n",
       "      <td>3</td>\n",
       "      <td>1</td>\n",
       "    </tr>\n",
       "    <tr>\n",
       "      <th>4</th>\n",
       "      <td>1</td>\n",
       "      <td>20.17</td>\n",
       "      <td>5.625</td>\n",
       "      <td>0</td>\n",
       "      <td>0</td>\n",
       "      <td>9</td>\n",
       "      <td>0</td>\n",
       "      <td>1.71</td>\n",
       "      <td>0</td>\n",
       "      <td>1</td>\n",
       "      <td>0</td>\n",
       "      <td>1</td>\n",
       "      <td>2</td>\n",
       "      <td>120</td>\n",
       "      <td>0</td>\n",
       "      <td>1</td>\n",
       "    </tr>\n",
       "  </tbody>\n",
       "</table>\n",
       "</div>"
      ],
      "text/plain": [
       "   A1     A2     A3  A4  A5  A6  A7    A8  A9  A10  A11  A12  A13  A14  A15  \\\n",
       "0   1  30.83  0.000   0   0   9   0  1.25   0    0    1    1    0  202    0   \n",
       "1   0  58.67  4.460   0   0   8   1  3.04   0    0    6    1    0   43  560   \n",
       "2   0  24.50  0.500   0   0   8   1  1.50   0    1    0    1    0  280  824   \n",
       "3   1  27.83  1.540   0   0   9   0  3.75   0    0    5    0    0  100    3   \n",
       "4   1  20.17  5.625   0   0   9   0  1.71   0    1    0    1    2  120    0   \n",
       "\n",
       "   A16  \n",
       "0    1  \n",
       "1    1  \n",
       "2    1  \n",
       "3    1  \n",
       "4    1  "
      ]
     },
     "execution_count": 64,
     "metadata": {},
     "output_type": "execute_result"
    }
   ],
   "source": [
    "data_ori.head()"
   ]
  },
  {
   "cell_type": "code",
   "execution_count": 65,
   "metadata": {},
   "outputs": [
    {
     "data": {
      "text/plain": [
       "A1     0\n",
       "A2     0\n",
       "A3     0\n",
       "A4     0\n",
       "A5     0\n",
       "A6     0\n",
       "A7     0\n",
       "A8     0\n",
       "A9     0\n",
       "A10    0\n",
       "A11    0\n",
       "A12    0\n",
       "A13    0\n",
       "A14    0\n",
       "A15    0\n",
       "A16    0\n",
       "dtype: int64"
      ]
     },
     "execution_count": 65,
     "metadata": {},
     "output_type": "execute_result"
    }
   ],
   "source": [
    "# 查找其中是否还存在缺失值\n",
    "data_ori.isnull().sum()"
   ]
  },
  {
   "cell_type": "code",
   "execution_count": 66,
   "metadata": {},
   "outputs": [
    {
     "data": {
      "text/plain": [
       "['A1',\n",
       " 'A2',\n",
       " 'A3',\n",
       " 'A4',\n",
       " 'A5',\n",
       " 'A6',\n",
       " 'A7',\n",
       " 'A8',\n",
       " 'A9',\n",
       " 'A10',\n",
       " 'A11',\n",
       " 'A12',\n",
       " 'A13',\n",
       " 'A14',\n",
       " 'A15']"
      ]
     },
     "execution_count": 66,
     "metadata": {},
     "output_type": "execute_result"
    }
   ],
   "source": [
    "target = 'A16'\n",
    "predictors = [col for col in data_ori.columns if col != target]\n",
    "predictors"
   ]
  },
  {
   "cell_type": "code",
   "execution_count": 86,
   "metadata": {},
   "outputs": [
    {
     "name": "stdout",
     "output_type": "stream",
     "text": [
      "[0.70289855 0.87681159 0.92028986 0.76086957 0.86231884]\n",
      "0.08022233335129302\n",
      "0.8246376811594203\n"
     ]
    }
   ],
   "source": [
    "# 交叉验证\n",
    "from sklearn.model_selection import cross_val_score\n",
    "from sklearn.linear_model import LogisticRegression\n",
    "\n",
    "# Initialize our algorithm\n",
    "\n",
    "alg = LogisticRegression(random_state=1) # 逻辑回归\n",
    "# Compute the accuracy score for all the cross validation folds.  (much simpler than what we did before!)\n",
    "scores_lr = cross_val_score(alg, data_ori[predictors], data_ori[target], cv=5)\n",
    "print (scores_lr)\n",
    "print (scores_lr.std())\n",
    "# Take the mean of the scores (because we have one for each fold)\n",
    "print(scores_lr.mean())"
   ]
  },
  {
   "cell_type": "code",
   "execution_count": 84,
   "metadata": {},
   "outputs": [
    {
     "name": "stdout",
     "output_type": "stream",
     "text": [
      "[0.68115942 0.96376812 0.89130435 0.8115942  0.89130435]\n"
     ]
    }
   ],
   "source": [
    "# 基于随机森林的分类\n",
    "clf = RandomForestClassifier(n_estimators=120, max_depth=3)\n",
    "scores_rf = cross_val_score(clf, data_ori[predictors], data_ori[target], cv=5)\n",
    "print (scores_rf)"
   ]
  },
  {
   "cell_type": "code",
   "execution_count": 87,
   "metadata": {},
   "outputs": [
    {
     "name": "stdout",
     "output_type": "stream",
     "text": [
      "entropy\n",
      "[0.65217391 0.97101449 0.89130435 0.76086957 0.87681159]\n",
      "std= 0.111566\n",
      "0.8304347826086957\n",
      "gini\n",
      "[0.65217391 0.92028986 0.84782609 0.73913043 0.88405797]\n",
      "0.09899728323442357\n",
      "0.808695652173913\n"
     ]
    }
   ],
   "source": [
    "tree_clf = tree.DecisionTreeClassifier(max_depth=4,criterion='entropy') # 基于决策树的分类\n",
    "scores_dt = cross_val_score(tree_clf, data_ori[predictors], data_ori[target], cv=5)\n",
    "print ('entropy')\n",
    "print (scores_dt)\n",
    "print('std= %f' % scores_dt.std())\n",
    "print (scores_dt.mean())\n",
    "\n",
    "print ('gini')\n",
    "tree_clf = tree.DecisionTreeClassifier(max_depth=4,criterion='gini')\n",
    "scores = cross_val_score(tree_clf, data_ori[predictors], data_ori[target], cv=5)\n",
    "print (scores)\n",
    "print (scores.std())\n",
    "print (scores.mean())"
   ]
  },
  {
   "cell_type": "code",
   "execution_count": 83,
   "metadata": {},
   "outputs": [
    {
     "name": "stdout",
     "output_type": "stream",
     "text": [
      "[0.66666667 0.96376812 0.9057971  0.76086957 0.9057971 ]\n",
      "0.10980114159348295\n",
      "0.8405797101449275\n"
     ]
    }
   ],
   "source": [
    "# 基于AdaBoost的分类\n",
    "clf = AdaBoostClassifier(n_estimators=120, algorithm='SAMME')\n",
    "scores_ada = cross_val_score(clf, data_ori[predictors], data_ori[target], cv=5)\n",
    "print (scores_ada)\n",
    "print (scores_ada.std())\n",
    "print (scores_ada.mean())"
   ]
  },
  {
   "cell_type": "code",
   "execution_count": 88,
   "metadata": {},
   "outputs": [
    {
     "data": {
      "image/png": "[encoded data removed]",
      "text/plain": [
       "<Figure size 720x432 with 1 Axes>"
      ]
     },
     "metadata": {
      "needs_background": "light"
     },
     "output_type": "display_data"
    }
   ],
   "source": [
    "# 绘制对比图\n",
    "import matplotlib.pyplot as plt\n",
    "%matplotlib inline\n",
    "\n",
    "plt.figure(figsize=(10,6))\n",
    "\n",
    "\n",
    "\n",
    "plt.plot([1,2,3,4,5],scores_ada,'r',label='AdaBoost')\n",
    "plt.plot([1,2,3,4,5],scores_rf,'b',label='RandomForest')\n",
    "plt.plot([1,2,3,4,5],scores_lr,'g',label='LogisticRegression')\n",
    "plt.plot([1,2,3,4,5],scores_dt,'y',label='DecisionTree')\n",
    "\n",
    "\n",
    "plt.legend(loc='upper right')\n",
    "plt.xlabel('Folds')\n",
    "plt.ylabel('Accuracy')\n",
    "plt.title('Accuracy of AdaBoost and RandomForest')\n",
    "plt.show()"
   ]
  },
  {
   "cell_type": "code",
   "execution_count": 92,
   "metadata": {},
   "outputs": [
    {
     "data": {
      "text/html": [
       "<div>\n",
       "<style scoped>\n",
       "    .dataframe tbody tr th:only-of-type {\n",
       "        vertical-align: middle;\n",
       "    }\n",
       "\n",
       "    .dataframe tbody tr th {\n",
       "        vertical-align: top;\n",
       "    }\n",
       "\n",
       "    .dataframe thead th {\n",
       "        text-align: right;\n",
       "    }\n",
       "</style>\n",
       "<table border=\"1\" class=\"dataframe\">\n",
       "  <thead>\n",
       "    <tr style=\"text-align: right;\">\n",
       "      <th></th>\n",
       "      <th>AdaBoost</th>\n",
       "      <th>RandomForest</th>\n",
       "      <th>LogisticRegression</th>\n",
       "      <th>DecisionTree</th>\n",
       "    </tr>\n",
       "  </thead>\n",
       "  <tbody>\n",
       "    <tr>\n",
       "      <th>Accuracy</th>\n",
       "      <td>0.840580</td>\n",
       "      <td>0.847826</td>\n",
       "      <td>0.824638</td>\n",
       "      <td>0.830435</td>\n",
       "    </tr>\n",
       "    <tr>\n",
       "      <th>Variance</th>\n",
       "      <td>0.109801</td>\n",
       "      <td>0.096243</td>\n",
       "      <td>0.080222</td>\n",
       "      <td>0.111566</td>\n",
       "    </tr>\n",
       "  </tbody>\n",
       "</table>\n",
       "</div>"
      ],
      "text/plain": [
       "          AdaBoost  RandomForest  LogisticRegression  DecisionTree\n",
       "Accuracy  0.840580      0.847826            0.824638      0.830435\n",
       "Variance  0.109801      0.096243            0.080222      0.111566"
      ]
     },
     "execution_count": 92,
     "metadata": {},
     "output_type": "execute_result"
    }
   ],
   "source": [
    "# 对于四种分析方法的准确率、方差列成表格\n",
    "\n",
    "data = {'AdaBoost':[scores_ada.mean(),scores_ada.std()],'RandomForest':[scores_rf.mean(),scores_rf.std()],'LogisticRegression':[scores_lr.mean(),scores_lr.std()],'DecisionTree':[scores_dt.mean(),scores_dt.std()]}\n",
    "df = pd.DataFrame(data,index=['Accuracy','Variance'])\n",
    "df"
   ]
  },
  {
   "cell_type": "code",
   "execution_count": 99,
   "metadata": {},
   "outputs": [
    {
     "name": "stdout",
     "output_type": "stream",
     "text": [
      " 1) A9                             0.332843\n",
      " 2) A11                            0.207144\n",
      " 3) A10                            0.151172\n",
      " 4) A8                             0.090728\n",
      " 5) A15                            0.083590\n",
      " 6) A3                             0.035560\n",
      " 7) A14                            0.028916\n",
      " 8) A2                             0.020753\n",
      " 9) A6                             0.017499\n",
      "10) A5                             0.011213\n"
     ]
    }
   ],
   "source": [
    "# 评价各个维度数据的重要性\n",
    "\n",
    "clf = RandomForestClassifier(n_estimators=120, max_depth=3)\n",
    "\n",
    "clf.fit(data_ori[predictors], data_ori[target])\n",
    "\n",
    "importances = clf.feature_importances_ # 数值越大，说明该特征越重要\n",
    "# print(importances)\n",
    "\n",
    "# 重要性和特征名称对应\n",
    "indices = np.argsort(importances)[::-1]\n",
    "indices\n",
    "\n",
    "# 打印出最重要的10个特征所在的列名\n",
    "for f in range(10):\n",
    "    print(\"%2d) %-*s %f\" % (f + 1, 30, predictors[indices[f]], importances[indices[f]]))\n",
    "\n"
   ]
  },
  {
   "cell_type": "code",
   "execution_count": 111,
   "metadata": {},
   "outputs": [
    {
     "name": "stdout",
     "output_type": "stream",
     "text": [
      "original shape:    (690, 15)\n",
      "ori= [0.67391304 0.96376812 0.89130435 0.79710145 0.88405797]\n",
      "2-dision= [0.67391304 0.73913043 0.69565217 0.6884058  0.67391304]\n",
      "3-dision= [0.67391304 0.74637681 0.6884058  0.65217391 0.68115942]\n",
      "4-dision= [0.65217391 0.77536232 0.74637681 0.71014493 0.69565217]\n",
      "5-dision= [0.70289855 0.7826087  0.73913043 0.68115942 0.74637681]\n",
      "6-dision= [0.7173913  0.76811594 0.73913043 0.67391304 0.74637681]\n",
      "7-dision= [0.69565217 0.7826087  0.74637681 0.73188406 0.76811594]\n",
      "8-dision= [0.66666667 0.80434783 0.76086957 0.69565217 0.73913043]\n"
     ]
    }
   ],
   "source": [
    "# 对于数据进行降维度处理\n",
    "from sklearn.decomposition import PCA\n",
    "\n",
    "# 降维度到2维\n",
    "pca = PCA(n_components=2)\n",
    "pca.fit(data_ori[predictors])\n",
    "X_pca = pca.transform(data_ori[predictors])\n",
    "\n",
    "print(\"original shape:   \", data_ori[predictors].shape)\n",
    "\n",
    "# 比较降维前后的数据得到的准确率和之前的对比\n",
    "clf = RandomForestClassifier(n_estimators=120, max_depth=3)\n",
    "scores_rf = cross_val_score(clf, data_ori[predictors], data_ori[target], cv=5)\n",
    "\n",
    "print ('ori=',scores_rf)\n",
    "\n",
    "clf = RandomForestClassifier(n_estimators=120, max_depth=3)\n",
    "scores_rf_new = cross_val_score(clf, X_pca, data_ori[target], cv=5)\n",
    "\n",
    "print ('2-dision=',scores_rf_new)\n",
    "\n",
    "# 降维度到3维\n",
    "pca = PCA(n_components=3)\n",
    "pca.fit(data_ori[predictors])\n",
    "X_pca = pca.transform(data_ori[predictors])\n",
    "\n",
    "score_rf_new_3 = cross_val_score(clf, X_pca, data_ori[target], cv=5)\n",
    "print ('3-dision=',score_rf_new_3)\n",
    "\n",
    "# 降维度到4维\n",
    "pca = PCA(n_components=4)\n",
    "pca.fit(data_ori[predictors])\n",
    "X_pca = pca.transform(data_ori[predictors])\n",
    "\n",
    "score_rf_new_4 = cross_val_score(clf, X_pca, data_ori[target], cv=5)\n",
    "print ('4-dision=',score_rf_new_4)\n",
    "\n",
    "# 降维度到5维\n",
    "pca = PCA(n_components=5)\n",
    "pca.fit(data_ori[predictors])\n",
    "X_pca = pca.transform(data_ori[predictors])\n",
    "\n",
    "score_rf_new_5 = cross_val_score(clf, X_pca, data_ori[target], cv=5)\n",
    "print ('5-dision=',score_rf_new_5)\n",
    "\n",
    "# 降维度到6维\n",
    "pca = PCA(n_components=6)\n",
    "pca.fit(data_ori[predictors])\n",
    "X_pca = pca.transform(data_ori[predictors])\n",
    "\n",
    "score_rf_new_6 = cross_val_score(clf, X_pca, data_ori[target], cv=5)\n",
    "print ('6-dision=',score_rf_new_6)\n",
    "\n",
    "# 降维度到7维\n",
    "pca = PCA(n_components=7)\n",
    "pca.fit(data_ori[predictors])\n",
    "X_pca = pca.transform(data_ori[predictors])\n",
    "\n",
    "score_rf_new_7 = cross_val_score(clf, X_pca, data_ori[target], cv=5)\n",
    "print ('7-dision=',score_rf_new_7)\n",
    "\n",
    "# 降维度到8维\n",
    "pca = PCA(n_components=8)\n",
    "pca.fit(data_ori[predictors])\n",
    "X_pca = pca.transform(data_ori[predictors])\n",
    "\n",
    "score_rf_new_8 = cross_val_score(clf, X_pca, data_ori[target], cv=5)\n",
    "print ('8-dision=',score_rf_new_8)\n"
   ]
  }
 ],
 "metadata": {
  "kernelspec": {
   "display_name": "python3.6环境",
   "language": "python",
   "name": "python3"
  },
  "language_info": {
   "codemirror_mode": {
    "name": "ipython",
    "version": 3
   },
   "file_extension": ".py",
   "mimetype": "text/x-python",
   "name": "python",
   "nbconvert_exporter": "python",
   "pygments_lexer": "ipython3",
   "version": "3.6.13"
  },
  "orig_nbformat": 4
 },
 "nbformat": 4,
 "nbformat_minor": 2
}
